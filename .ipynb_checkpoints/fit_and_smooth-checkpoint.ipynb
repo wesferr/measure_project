{
 "cells": [
  {
   "cell_type": "code",
   "execution_count": 5,
   "metadata": {},
   "outputs": [],
   "source": [
    "import os\n",
    "import torch as tc\n",
    "import numpy as np\n",
    "import open3d as otd\n",
    "from tqdm import tqdm as pgb\n",
    "from star.star import STAR\n",
    "from torch.autograd import Variable\n",
    "from pytorch3d.loss import point_mesh_face_distance, point_mesh_edge_distance, mesh_normal_consistency\n",
    "from pytorch3d.structures import Meshes, Pointclouds\n",
    "from curve_utils import CurveUtils\n",
    "from mesh_manipulation import load_mesh, load_template\n",
    "\n",
    "device = tc.device(\"cuda\" if tc.cuda.is_available() else \"cpu\")"
   ]
  },
  {
   "cell_type": "markdown",
   "metadata": {},
   "source": [
    "## FUNCTIONS DEFINITIONS"
   ]
  },
  {
   "cell_type": "code",
   "execution_count": 2,
   "metadata": {},
   "outputs": [],
   "source": [
    "def zero_poses(poses):\n",
    "    poses = poses.clone().detach()\n",
    "    poses[:,12:17] = 0\n",
    "    poses[:,54:65] = 0\n",
    "    poses = Variable(poses, requires_grad=True)\n",
    "    return poses\n",
    "\n",
    "def calculate_loss(vertices, faces, scan_meshes, scan_pc):\n",
    "    print(len(scan_meshes), len(scan_pc))\n",
    "    star_meshes = Meshes(verts=vertices, faces=faces)\n",
    "    s2m = point_mesh_face_distance(star_meshes, scan_pc)\n",
    "    return s2m"
   ]
  },
  {
   "cell_type": "markdown",
   "metadata": {},
   "source": [
    "## BODIES LOADING"
   ]
  },
  {
   "cell_type": "code",
   "execution_count": 3,
   "metadata": {},
   "outputs": [
    {
     "name": "stderr",
     "output_type": "stream",
     "text": [
      "loading female body: 100%|████████████████████████████████████████████████████████████| 72/72 [00:14<00:00,  4.80it/s]\n",
      "loading male body: 100%|██████████████████████████████████████████████████████████████| 72/72 [00:15<00:00,  4.70it/s]\n"
     ]
    }
   ],
   "source": [
    "all_vertices = {\n",
    "    \"male\": [],\n",
    "    \"female\": []\n",
    "}\n",
    "\n",
    "all_faces = {\n",
    "    \"male\" : [],\n",
    "    \"female\": []\n",
    "}\n",
    "\n",
    "for gender in ['female', 'male']:\n",
    "    files_path = f\"./data/MOVE4D/{gender}/\"\n",
    "    files = os.listdir(files_path)\n",
    "    files.sort()\n",
    "    for file in pgb(files, desc=f\"loading {gender} body\"):\n",
    "        mesh = otd.io.read_triangle_mesh(files_path+file)\n",
    "        mesh.scale(0.001, center=mesh.get_center())\n",
    "        all_vertices[gender].append(tc.FloatTensor(np.array(mesh.vertices)))\n",
    "        all_faces[gender].append(tc.LongTensor(np.array(mesh.triangles)))\n"
   ]
  },
  {
   "cell_type": "markdown",
   "metadata": {},
   "source": [
    "## BODIES FITTING"
   ]
  },
  {
   "cell_type": "code",
   "execution_count": 6,
   "metadata": {},
   "outputs": [
    {
     "name": "stderr",
     "output_type": "stream",
     "text": [
      "optimizing male - loss: inf:   0%|                                                          | 0/10000 [00:00<?, ?it/s]/home/wesley/.local/lib/python3.10/site-packages/pytorch3d/structures/meshes.py:1107: UserWarning: __floordiv__ is deprecated, and its behavior will change in a future version of pytorch. It currently rounds toward 0 (like the 'trunc' function NOT 'floor'). This results in incorrect rounding for negative values. To keep the current behavior, use torch.div(a, b, rounding_mode='trunc'), or for actual floor division, use torch.div(a, b, rounding_mode='floor').\n",
      "  self._edges_packed = torch.stack([u // V, u % V], dim=1)\n"
     ]
    },
    {
     "name": "stdout",
     "output_type": "stream",
     "text": [
      "72 72\n"
     ]
    },
    {
     "name": "stderr",
     "output_type": "stream",
     "text": [
      "optimizing male - loss: 0.049137797206640244:   0%|                                 | 1/10000 [00:00<56:49,  2.93it/s]"
     ]
    },
    {
     "name": "stdout",
     "output_type": "stream",
     "text": [
      "72 72\n"
     ]
    },
    {
     "name": "stderr",
     "output_type": "stream",
     "text": [
      "optimizing male - loss: 0.048796627670526505:   0%|                                 | 2/10000 [00:00<47:36,  3.50it/s]"
     ]
    },
    {
     "name": "stdout",
     "output_type": "stream",
     "text": [
      "72 72\n"
     ]
    },
    {
     "name": "stderr",
     "output_type": "stream",
     "text": [
      "optimizing male - loss: 0.04861462861299515:   0%|                                  | 3/10000 [00:00<43:52,  3.80it/s]"
     ]
    },
    {
     "name": "stdout",
     "output_type": "stream",
     "text": [
      "72 72\n"
     ]
    },
    {
     "name": "stderr",
     "output_type": "stream",
     "text": [
      "optimizing male - loss: 0.04849822074174881:   0%|                                  | 4/10000 [00:01<43:17,  3.85it/s]"
     ]
    },
    {
     "name": "stdout",
     "output_type": "stream",
     "text": [
      "72 72\n"
     ]
    },
    {
     "name": "stderr",
     "output_type": "stream",
     "text": [
      "optimizing male - loss: 0.048395294696092606:   0%|                                 | 5/10000 [00:01<43:24,  3.84it/s]"
     ]
    },
    {
     "name": "stdout",
     "output_type": "stream",
     "text": [
      "72 72\n"
     ]
    },
    {
     "name": "stderr",
     "output_type": "stream",
     "text": [
      "optimizing male - loss: 0.04831310361623764:   0%|                                  | 6/10000 [00:01<42:07,  3.95it/s]"
     ]
    },
    {
     "name": "stdout",
     "output_type": "stream",
     "text": [
      "72 72\n"
     ]
    },
    {
     "name": "stderr",
     "output_type": "stream",
     "text": [
      "optimizing male - loss: 0.048231594264507294:   0%|                                 | 7/10000 [00:01<41:32,  4.01it/s]"
     ]
    },
    {
     "name": "stdout",
     "output_type": "stream",
     "text": [
      "72 72\n"
     ]
    },
    {
     "name": "stderr",
     "output_type": "stream",
     "text": [
      "optimizing male - loss: 0.04814472422003746:   0%|                                  | 8/10000 [00:02<40:54,  4.07it/s]"
     ]
    },
    {
     "name": "stdout",
     "output_type": "stream",
     "text": [
      "72 72\n"
     ]
    },
    {
     "name": "stderr",
     "output_type": "stream",
     "text": [
      "optimizing male - loss: 0.048050690442323685:   0%|                                 | 9/10000 [00:02<40:33,  4.11it/s]"
     ]
    },
    {
     "name": "stdout",
     "output_type": "stream",
     "text": [
      "72 72\n"
     ]
    },
    {
     "name": "stderr",
     "output_type": "stream",
     "text": [
      "optimizing male - loss: 0.047950807958841324:   0%|                                | 10/10000 [00:02<40:11,  4.14it/s]"
     ]
    },
    {
     "name": "stdout",
     "output_type": "stream",
     "text": [
      "72 72\n"
     ]
    },
    {
     "name": "stderr",
     "output_type": "stream",
     "text": [
      "optimizing male - loss: 0.04785164073109627:   0%|                                 | 11/10000 [00:02<39:35,  4.21it/s]"
     ]
    },
    {
     "name": "stdout",
     "output_type": "stream",
     "text": [
      "72 72\n"
     ]
    },
    {
     "name": "stderr",
     "output_type": "stream",
     "text": [
      "optimizing male - loss: 0.0477590374648571:   0%|                                  | 12/10000 [00:03<39:45,  4.19it/s]"
     ]
    },
    {
     "name": "stdout",
     "output_type": "stream",
     "text": [
      "72 72\n"
     ]
    },
    {
     "name": "stderr",
     "output_type": "stream",
     "text": [
      "optimizing male - loss: 0.047671131789684296:   0%|                                | 13/10000 [00:03<39:57,  4.17it/s]"
     ]
    },
    {
     "name": "stdout",
     "output_type": "stream",
     "text": [
      "72 72\n"
     ]
    },
    {
     "name": "stderr",
     "output_type": "stream",
     "text": [
      "optimizing male - loss: 0.04758336767554283:   0%|                                 | 14/10000 [00:03<40:16,  4.13it/s]"
     ]
    },
    {
     "name": "stdout",
     "output_type": "stream",
     "text": [
      "72 72\n"
     ]
    },
    {
     "name": "stderr",
     "output_type": "stream",
     "text": [
      "optimizing male - loss: 0.04749321937561035:   0%|                                 | 15/10000 [00:03<40:10,  4.14it/s]"
     ]
    },
    {
     "name": "stdout",
     "output_type": "stream",
     "text": [
      "72 72\n"
     ]
    },
    {
     "name": "stderr",
     "output_type": "stream",
     "text": [
      "optimizing male - loss: 0.047398727387189865:   0%|                                | 16/10000 [00:03<39:48,  4.18it/s]"
     ]
    },
    {
     "name": "stdout",
     "output_type": "stream",
     "text": [
      "72 72\n"
     ]
    },
    {
     "name": "stderr",
     "output_type": "stream",
     "text": [
      "optimizing male - loss: 0.04729737341403961:   0%|                                 | 17/10000 [00:04<40:02,  4.16it/s]"
     ]
    },
    {
     "name": "stdout",
     "output_type": "stream",
     "text": [
      "72 72\n"
     ]
    },
    {
     "name": "stderr",
     "output_type": "stream",
     "text": [
      "optimizing male - loss: 0.047186799347400665:   0%|                                | 18/10000 [00:04<39:28,  4.21it/s]"
     ]
    },
    {
     "name": "stdout",
     "output_type": "stream",
     "text": [
      "72 72\n"
     ]
    },
    {
     "name": "stderr",
     "output_type": "stream",
     "text": [
      "optimizing male - loss: 0.04706994816660881:   0%|                                 | 19/10000 [00:04<39:43,  4.19it/s]"
     ]
    },
    {
     "name": "stdout",
     "output_type": "stream",
     "text": [
      "72 72\n"
     ]
    },
    {
     "name": "stderr",
     "output_type": "stream",
     "text": [
      "optimizing male - loss: 0.04696109518408775:   0%|                                 | 20/10000 [00:04<40:27,  4.11it/s]"
     ]
    },
    {
     "name": "stdout",
     "output_type": "stream",
     "text": [
      "72 72\n"
     ]
    },
    {
     "name": "stderr",
     "output_type": "stream",
     "text": [
      "optimizing male - loss: 0.04706113785505295:   0%|                                 | 21/10000 [00:05<40:17,  4.13it/s]"
     ]
    },
    {
     "name": "stdout",
     "output_type": "stream",
     "text": [
      "72 72\n"
     ]
    },
    {
     "name": "stderr",
     "output_type": "stream",
     "text": [
      "optimizing male - loss: 0.04703480005264282:   0%|                                 | 22/10000 [00:05<40:07,  4.14it/s]"
     ]
    },
    {
     "name": "stdout",
     "output_type": "stream",
     "text": [
      "72 72\n"
     ]
    },
    {
     "name": "stderr",
     "output_type": "stream",
     "text": [
      "optimizing male - loss: 0.04700924828648567:   0%|                                 | 23/10000 [00:05<40:08,  4.14it/s]"
     ]
    },
    {
     "name": "stdout",
     "output_type": "stream",
     "text": [
      "72 72\n"
     ]
    },
    {
     "name": "stderr",
     "output_type": "stream",
     "text": [
      "optimizing male - loss: 0.04698439687490463:   0%|                                 | 24/10000 [00:05<40:03,  4.15it/s]"
     ]
    },
    {
     "name": "stdout",
     "output_type": "stream",
     "text": [
      "72 72\n"
     ]
    },
    {
     "name": "stderr",
     "output_type": "stream",
     "text": [
      "optimizing male - loss: 0.04696027562022209:   0%|                                 | 25/10000 [00:06<39:53,  4.17it/s]"
     ]
    },
    {
     "name": "stdout",
     "output_type": "stream",
     "text": [
      "72 72\n"
     ]
    },
    {
     "name": "stderr",
     "output_type": "stream",
     "text": [
      "optimizing male - loss: 0.04693686217069626:   0%|                                 | 26/10000 [00:06<39:54,  4.17it/s]"
     ]
    },
    {
     "name": "stdout",
     "output_type": "stream",
     "text": [
      "72 72\n"
     ]
    },
    {
     "name": "stderr",
     "output_type": "stream",
     "text": [
      "optimizing male - loss: 0.04691419377923012:   0%|                                 | 27/10000 [00:06<40:26,  4.11it/s]"
     ]
    },
    {
     "name": "stdout",
     "output_type": "stream",
     "text": [
      "72 72\n"
     ]
    },
    {
     "name": "stderr",
     "output_type": "stream",
     "text": [
      "optimizing male - loss: 0.04689212143421173:   0%|                                 | 28/10000 [00:06<41:26,  4.01it/s]"
     ]
    },
    {
     "name": "stdout",
     "output_type": "stream",
     "text": [
      "72 72\n"
     ]
    },
    {
     "name": "stderr",
     "output_type": "stream",
     "text": [
      "optimizing male - loss: 0.04687078669667244:   0%|                                 | 29/10000 [00:07<40:58,  4.06it/s]"
     ]
    },
    {
     "name": "stdout",
     "output_type": "stream",
     "text": [
      "72 72\n"
     ]
    },
    {
     "name": "stderr",
     "output_type": "stream",
     "text": [
      "optimizing male - loss: 0.04685002937912941:   0%|                                 | 30/10000 [00:07<41:48,  3.97it/s]"
     ]
    },
    {
     "name": "stdout",
     "output_type": "stream",
     "text": [
      "72 72\n"
     ]
    },
    {
     "name": "stderr",
     "output_type": "stream",
     "text": [
      "optimizing male - loss: 0.04682993143796921:   0%|                                 | 31/10000 [00:07<41:09,  4.04it/s]"
     ]
    },
    {
     "name": "stdout",
     "output_type": "stream",
     "text": [
      "72 72\n"
     ]
    },
    {
     "name": "stderr",
     "output_type": "stream",
     "text": [
      "optimizing male - loss: 0.04681042954325676:   0%|                                 | 32/10000 [00:07<40:26,  4.11it/s]"
     ]
    },
    {
     "name": "stdout",
     "output_type": "stream",
     "text": [
      "72 72\n"
     ]
    },
    {
     "name": "stderr",
     "output_type": "stream",
     "text": [
      "optimizing male - loss: 0.046791501343250275:   0%|                                | 33/10000 [00:08<40:14,  4.13it/s]"
     ]
    },
    {
     "name": "stdout",
     "output_type": "stream",
     "text": [
      "72 72\n"
     ]
    },
    {
     "name": "stderr",
     "output_type": "stream",
     "text": [
      "optimizing male - loss: 0.04677308723330498:   0%|                                 | 34/10000 [00:08<40:32,  4.10it/s]"
     ]
    },
    {
     "name": "stdout",
     "output_type": "stream",
     "text": [
      "72 72\n"
     ]
    },
    {
     "name": "stderr",
     "output_type": "stream",
     "text": [
      "optimizing male - loss: 0.046755168586969376:   0%|                                | 35/10000 [00:08<40:36,  4.09it/s]"
     ]
    },
    {
     "name": "stdout",
     "output_type": "stream",
     "text": [
      "72 72\n"
     ]
    },
    {
     "name": "stderr",
     "output_type": "stream",
     "text": [
      "optimizing male - loss: 0.04673776775598526:   0%|                                 | 36/10000 [00:08<40:45,  4.07it/s]"
     ]
    },
    {
     "name": "stdout",
     "output_type": "stream",
     "text": [
      "72 72\n"
     ]
    },
    {
     "name": "stderr",
     "output_type": "stream",
     "text": [
      "optimizing male - loss: 0.04672079160809517:   0%|                                 | 37/10000 [00:09<41:27,  4.00it/s]"
     ]
    },
    {
     "name": "stdout",
     "output_type": "stream",
     "text": [
      "72 72\n"
     ]
    },
    {
     "name": "stderr",
     "output_type": "stream",
     "text": [
      "optimizing male - loss: 0.046704214066267014:   0%|                                | 38/10000 [00:09<40:53,  4.06it/s]"
     ]
    },
    {
     "name": "stdout",
     "output_type": "stream",
     "text": [
      "72 72\n"
     ]
    },
    {
     "name": "stderr",
     "output_type": "stream",
     "text": [
      "optimizing male - loss: 0.04668809100985527:   0%|▏                                | 39/10000 [00:09<40:41,  4.08it/s]"
     ]
    },
    {
     "name": "stdout",
     "output_type": "stream",
     "text": [
      "72 72\n"
     ]
    },
    {
     "name": "stderr",
     "output_type": "stream",
     "text": [
      "optimizing male - loss: 0.04667237028479576:   0%|▏                                | 40/10000 [00:09<41:06,  4.04it/s]"
     ]
    },
    {
     "name": "stdout",
     "output_type": "stream",
     "text": [
      "72 72\n"
     ]
    },
    {
     "name": "stderr",
     "output_type": "stream",
     "text": [
      "optimizing male - loss: 0.04665697365999222:   0%|▏                                | 41/10000 [00:10<41:43,  3.98it/s]"
     ]
    },
    {
     "name": "stdout",
     "output_type": "stream",
     "text": [
      "72 72\n"
     ]
    },
    {
     "name": "stderr",
     "output_type": "stream",
     "text": [
      "optimizing male - loss: 0.04664188623428345:   0%|▏                                | 42/10000 [00:10<41:23,  4.01it/s]"
     ]
    },
    {
     "name": "stdout",
     "output_type": "stream",
     "text": [
      "72 72\n"
     ]
    },
    {
     "name": "stderr",
     "output_type": "stream",
     "text": [
      "optimizing male - loss: 0.04662715643644333:   0%|▏                                | 43/10000 [00:10<41:59,  3.95it/s]"
     ]
    },
    {
     "name": "stdout",
     "output_type": "stream",
     "text": [
      "72 72\n"
     ]
    },
    {
     "name": "stderr",
     "output_type": "stream",
     "text": [
      "optimizing male - loss: 0.04661272093653679:   0%|▏                                | 44/10000 [00:10<41:48,  3.97it/s]"
     ]
    },
    {
     "name": "stdout",
     "output_type": "stream",
     "text": [
      "72 72\n"
     ]
    },
    {
     "name": "stderr",
     "output_type": "stream",
     "text": [
      "optimizing male - loss: 0.04659857228398323:   0%|▏                                | 45/10000 [00:11<41:25,  4.01it/s]"
     ]
    },
    {
     "name": "stdout",
     "output_type": "stream",
     "text": [
      "72 72\n"
     ]
    },
    {
     "name": "stderr",
     "output_type": "stream",
     "text": [
      "optimizing male - loss: 0.04658474773168564:   0%|▏                                | 46/10000 [00:11<41:57,  3.95it/s]"
     ]
    },
    {
     "name": "stdout",
     "output_type": "stream",
     "text": [
      "72 72\n"
     ]
    },
    {
     "name": "stderr",
     "output_type": "stream",
     "text": [
      "optimizing male - loss: 0.046571195125579834:   0%|▏                               | 47/10000 [00:11<41:50,  3.96it/s]"
     ]
    },
    {
     "name": "stdout",
     "output_type": "stream",
     "text": [
      "72 72\n"
     ]
    },
    {
     "name": "stderr",
     "output_type": "stream",
     "text": [
      "optimizing male - loss: 0.046557825058698654:   0%|▏                               | 48/10000 [00:11<42:27,  3.91it/s]"
     ]
    },
    {
     "name": "stdout",
     "output_type": "stream",
     "text": [
      "72 72\n"
     ]
    },
    {
     "name": "stderr",
     "output_type": "stream",
     "text": [
      "optimizing male - loss: 0.04654478281736374:   0%|▏                                | 49/10000 [00:12<41:33,  3.99it/s]"
     ]
    },
    {
     "name": "stdout",
     "output_type": "stream",
     "text": [
      "72 72\n"
     ]
    },
    {
     "name": "stderr",
     "output_type": "stream",
     "text": [
      "optimizing male - loss: 0.04653194174170494:   0%|▏                                | 50/10000 [00:12<41:15,  4.02it/s]"
     ]
    },
    {
     "name": "stdout",
     "output_type": "stream",
     "text": [
      "72 72\n"
     ]
    },
    {
     "name": "stderr",
     "output_type": "stream",
     "text": [
      "optimizing male - loss: 0.04651936516165733:   1%|▏                                | 51/10000 [00:12<40:44,  4.07it/s]"
     ]
    },
    {
     "name": "stdout",
     "output_type": "stream",
     "text": [
      "72 72\n"
     ]
    },
    {
     "name": "stderr",
     "output_type": "stream",
     "text": [
      "optimizing male - loss: 0.04650701582431793:   1%|▏                                | 52/10000 [00:12<40:18,  4.11it/s]"
     ]
    },
    {
     "name": "stdout",
     "output_type": "stream",
     "text": [
      "72 72\n"
     ]
    },
    {
     "name": "stderr",
     "output_type": "stream",
     "text": [
      "optimizing male - loss: 0.046494897454977036:   1%|▏                               | 53/10000 [00:13<40:10,  4.13it/s]"
     ]
    },
    {
     "name": "stdout",
     "output_type": "stream",
     "text": [
      "72 72\n"
     ]
    },
    {
     "name": "stderr",
     "output_type": "stream",
     "text": [
      "optimizing male - loss: 0.046482980251312256:   1%|▏                               | 54/10000 [00:13<40:43,  4.07it/s]"
     ]
    },
    {
     "name": "stdout",
     "output_type": "stream",
     "text": [
      "72 72\n"
     ]
    },
    {
     "name": "stderr",
     "output_type": "stream",
     "text": [
      "optimizing male - loss: 0.04647136479616165:   1%|▏                                | 55/10000 [00:13<40:28,  4.10it/s]"
     ]
    },
    {
     "name": "stdout",
     "output_type": "stream",
     "text": [
      "72 72\n"
     ]
    },
    {
     "name": "stderr",
     "output_type": "stream",
     "text": [
      "optimizing male - loss: 0.04645984619855881:   1%|▏                                | 56/10000 [00:13<40:09,  4.13it/s]"
     ]
    },
    {
     "name": "stdout",
     "output_type": "stream",
     "text": [
      "72 72\n"
     ]
    },
    {
     "name": "stderr",
     "output_type": "stream",
     "text": [
      "optimizing male - loss: 0.046448614448308945:   1%|▏                               | 57/10000 [00:14<40:41,  4.07it/s]"
     ]
    },
    {
     "name": "stdout",
     "output_type": "stream",
     "text": [
      "72 72\n"
     ]
    },
    {
     "name": "stderr",
     "output_type": "stream",
     "text": [
      "optimizing male - loss: 0.046437475830316544:   1%|▏                               | 58/10000 [00:14<40:44,  4.07it/s]"
     ]
    },
    {
     "name": "stdout",
     "output_type": "stream",
     "text": [
      "72 72\n"
     ]
    },
    {
     "name": "stderr",
     "output_type": "stream",
     "text": [
      "optimizing male - loss: 0.046426624059677124:   1%|▏                               | 59/10000 [00:14<40:37,  4.08it/s]"
     ]
    },
    {
     "name": "stdout",
     "output_type": "stream",
     "text": [
      "72 72\n"
     ]
    },
    {
     "name": "stderr",
     "output_type": "stream",
     "text": [
      "optimizing male - loss: 0.046426624059677124:   1%|▏                               | 59/10000 [00:14<41:32,  3.99it/s]\n"
     ]
    },
    {
     "ename": "KeyboardInterrupt",
     "evalue": "",
     "output_type": "error",
     "traceback": [
      "\u001b[0;31m---------------------------------------------------------------------------\u001b[0m",
      "\u001b[0;31mKeyboardInterrupt\u001b[0m                         Traceback (most recent call last)",
      "Cell \u001b[0;32mIn [6], line 44\u001b[0m\n\u001b[1;32m     41\u001b[0m optimizer\u001b[38;5;241m.\u001b[39mzero_grad()\n\u001b[1;32m     42\u001b[0m loss \u001b[38;5;241m=\u001b[39m calculate_loss(d, star_faces, scan_mesh,scan_pc)\n\u001b[0;32m---> 44\u001b[0m \u001b[43mloss\u001b[49m\u001b[38;5;241;43m.\u001b[39;49m\u001b[43mbackward\u001b[49m\u001b[43m(\u001b[49m\u001b[43mretain_graph\u001b[49m\u001b[38;5;241;43m=\u001b[39;49m\u001b[38;5;28;43;01mTrue\u001b[39;49;00m\u001b[43m)\u001b[49m\n\u001b[1;32m     45\u001b[0m optimizer\u001b[38;5;241m.\u001b[39mstep()\n\u001b[1;32m     46\u001b[0m loop\u001b[38;5;241m.\u001b[39mset_description(\u001b[38;5;124mf\u001b[39m\u001b[38;5;124m\"\u001b[39m\u001b[38;5;124moptimizing \u001b[39m\u001b[38;5;132;01m{\u001b[39;00mgender\u001b[38;5;132;01m}\u001b[39;00m\u001b[38;5;124m - loss: \u001b[39m\u001b[38;5;132;01m{\u001b[39;00mloss\u001b[38;5;132;01m}\u001b[39;00m\u001b[38;5;124m\"\u001b[39m)\n",
      "File \u001b[0;32m~/.local/lib/python3.10/site-packages/torch/_tensor.py:396\u001b[0m, in \u001b[0;36mTensor.backward\u001b[0;34m(self, gradient, retain_graph, create_graph, inputs)\u001b[0m\n\u001b[1;32m    387\u001b[0m \u001b[38;5;28;01mif\u001b[39;00m has_torch_function_unary(\u001b[38;5;28mself\u001b[39m):\n\u001b[1;32m    388\u001b[0m     \u001b[38;5;28;01mreturn\u001b[39;00m handle_torch_function(\n\u001b[1;32m    389\u001b[0m         Tensor\u001b[38;5;241m.\u001b[39mbackward,\n\u001b[1;32m    390\u001b[0m         (\u001b[38;5;28mself\u001b[39m,),\n\u001b[0;32m   (...)\u001b[0m\n\u001b[1;32m    394\u001b[0m         create_graph\u001b[38;5;241m=\u001b[39mcreate_graph,\n\u001b[1;32m    395\u001b[0m         inputs\u001b[38;5;241m=\u001b[39minputs)\n\u001b[0;32m--> 396\u001b[0m \u001b[43mtorch\u001b[49m\u001b[38;5;241;43m.\u001b[39;49m\u001b[43mautograd\u001b[49m\u001b[38;5;241;43m.\u001b[39;49m\u001b[43mbackward\u001b[49m\u001b[43m(\u001b[49m\u001b[38;5;28;43mself\u001b[39;49m\u001b[43m,\u001b[49m\u001b[43m \u001b[49m\u001b[43mgradient\u001b[49m\u001b[43m,\u001b[49m\u001b[43m \u001b[49m\u001b[43mretain_graph\u001b[49m\u001b[43m,\u001b[49m\u001b[43m \u001b[49m\u001b[43mcreate_graph\u001b[49m\u001b[43m,\u001b[49m\u001b[43m \u001b[49m\u001b[43minputs\u001b[49m\u001b[38;5;241;43m=\u001b[39;49m\u001b[43minputs\u001b[49m\u001b[43m)\u001b[49m\n",
      "File \u001b[0;32m~/.local/lib/python3.10/site-packages/torch/autograd/__init__.py:173\u001b[0m, in \u001b[0;36mbackward\u001b[0;34m(tensors, grad_tensors, retain_graph, create_graph, grad_variables, inputs)\u001b[0m\n\u001b[1;32m    168\u001b[0m     retain_graph \u001b[38;5;241m=\u001b[39m create_graph\n\u001b[1;32m    170\u001b[0m \u001b[38;5;66;03m# The reason we repeat same the comment below is that\u001b[39;00m\n\u001b[1;32m    171\u001b[0m \u001b[38;5;66;03m# some Python versions print out the first line of a multi-line function\u001b[39;00m\n\u001b[1;32m    172\u001b[0m \u001b[38;5;66;03m# calls in the traceback and some print out the last line\u001b[39;00m\n\u001b[0;32m--> 173\u001b[0m \u001b[43mVariable\u001b[49m\u001b[38;5;241;43m.\u001b[39;49m\u001b[43m_execution_engine\u001b[49m\u001b[38;5;241;43m.\u001b[39;49m\u001b[43mrun_backward\u001b[49m\u001b[43m(\u001b[49m\u001b[43m  \u001b[49m\u001b[38;5;66;43;03m# Calls into the C++ engine to run the backward pass\u001b[39;49;00m\n\u001b[1;32m    174\u001b[0m \u001b[43m    \u001b[49m\u001b[43mtensors\u001b[49m\u001b[43m,\u001b[49m\u001b[43m \u001b[49m\u001b[43mgrad_tensors_\u001b[49m\u001b[43m,\u001b[49m\u001b[43m \u001b[49m\u001b[43mretain_graph\u001b[49m\u001b[43m,\u001b[49m\u001b[43m \u001b[49m\u001b[43mcreate_graph\u001b[49m\u001b[43m,\u001b[49m\u001b[43m \u001b[49m\u001b[43minputs\u001b[49m\u001b[43m,\u001b[49m\n\u001b[1;32m    175\u001b[0m \u001b[43m    \u001b[49m\u001b[43mallow_unreachable\u001b[49m\u001b[38;5;241;43m=\u001b[39;49m\u001b[38;5;28;43;01mTrue\u001b[39;49;00m\u001b[43m,\u001b[49m\u001b[43m \u001b[49m\u001b[43maccumulate_grad\u001b[49m\u001b[38;5;241;43m=\u001b[39;49m\u001b[38;5;28;43;01mTrue\u001b[39;49;00m\u001b[43m)\u001b[49m\n",
      "\u001b[0;31mKeyboardInterrupt\u001b[0m: "
     ]
    }
   ],
   "source": [
    "gender_betas = {}\n",
    "gender_poses = {}\n",
    "gender_trans = {}\n",
    "\n",
    "for gender in [\"male\", \"female\"]:\n",
    "\n",
    "    scan_mesh = Meshes(verts=all_vertices[gender], faces=all_faces[gender])\n",
    "    scan_pc = Pointclouds(points=all_vertices[gender])\n",
    "\n",
    "    # loading model\n",
    "    batch_size = len(all_vertices[gender])\n",
    "    nbetas=0\n",
    "    poses = tc.FloatTensor(tc.zeros((batch_size, 72))).to(device)\n",
    "    poses = Variable(poses, requires_grad=True)\n",
    "    betas = tc.FloatTensor(tc.zeros((batch_size, nbetas))).to(device)\n",
    "    betas = Variable(betas, requires_grad=True)\n",
    "    trans = tc.FloatTensor(tc.zeros((batch_size, 3))).to(device)\n",
    "    trans = Variable(trans, requires_grad=True)\n",
    "    star = STAR(gender=gender, num_betas=nbetas)\n",
    "    star_faces = np.repeat(star.faces[None,...],batch_size,axis=0).to(device)\n",
    "\n",
    "    # training model\n",
    "    learning_rate = 0.02\n",
    "    epochs = 10000\n",
    "    loop = pgb(range(epochs), desc=f\"optimizing {gender} - loss: inf\")\n",
    "    for it in loop:\n",
    "\n",
    "        \n",
    "        if it == 20:\n",
    "            poses = zero_poses(poses)\n",
    "\n",
    "        if it%300 == 0 and it < 4800:\n",
    "            nbetas += 20\n",
    "            new_betas = tc.FloatTensor(np.zeros((batch_size, nbetas))).to(device)\n",
    "            new_betas[:,:nbetas-20] = betas\n",
    "            betas = Variable(new_betas, requires_grad=True)\n",
    "            star = STAR(gender=gender, num_betas=nbetas)\n",
    "            optimizer = tc.optim.Adam([trans, betas, poses], lr=learning_rate)\n",
    "        \n",
    "        d = star(betas=betas, pose=poses, trans=trans)\n",
    "        optimizer.zero_grad()\n",
    "        loss = calculate_loss(d, star_faces, scan_mesh,scan_pc)\n",
    "\n",
    "        loss.backward(retain_graph=True)\n",
    "        optimizer.step()\n",
    "        loop.set_description(f\"optimizing {gender} - loss: {loss}\")\n",
    "        if loss < 2e-5:\n",
    "            break\n",
    "\n",
    "    gender_betas[gender] = betas\n",
    "    gender_poses[gender] = poses\n",
    "    gender_trans[gender] = trans\n",
    "\n"
   ]
  },
  {
   "cell_type": "markdown",
   "metadata": {},
   "source": [
    "## BODIES SAVING"
   ]
  },
  {
   "cell_type": "code",
   "execution_count": null,
   "metadata": {},
   "outputs": [],
   "source": [
    "for gender in [\"male\", \"female\"]:\n",
    "    tc.save(betas[gender], \"{gender}_betas.pt\")\n",
    "    tc.save(poses[gender], \"{gender}_poses.pt\")\n",
    "    tc.save(trans[gender], \"{gender}_trans.pt\")"
   ]
  }
 ],
 "metadata": {
  "kernelspec": {
   "display_name": "Python 3 (ipykernel)",
   "language": "python",
   "name": "python3"
  },
  "language_info": {
   "codemirror_mode": {
    "name": "ipython",
    "version": 3
   },
   "file_extension": ".py",
   "mimetype": "text/x-python",
   "name": "python",
   "nbconvert_exporter": "python",
   "pygments_lexer": "ipython3",
   "version": "3.10.6"
  },
  "vscode": {
   "interpreter": {
    "hash": "916dbcbb3f70747c44a77c7bcd40155683ae19c65e1c03b4aa3499c5328201f1"
   }
  }
 },
 "nbformat": 4,
 "nbformat_minor": 2
}
