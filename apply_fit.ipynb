{
 "cells": [
  {
   "cell_type": "code",
   "execution_count": 1,
   "id": "2333edc4",
   "metadata": {},
   "outputs": [],
   "source": [
    "import os\n",
    "import torch as tc\n",
    "import numpy as np\n",
    "from tqdm import tqdm as pgb\n",
    "\n",
    "from star.star import STAR\n",
    "\n",
    "\n",
    "from torch.autograd import Variable\n",
    "from pytorch3d.loss import point_mesh_face_distance\n",
    "from pytorch3d.structures import Meshes, Pointclouds\n",
    "from curve_utils import CurveUtils\n",
    "\n",
    "device = tc.device(\"cuda\" if tc.cuda.is_available() else \"cpu\")"
   ]
  },
  {
   "cell_type": "markdown",
   "id": "11d04f6e",
   "metadata": {},
   "source": [
    "# functions"
   ]
  },
  {
   "cell_type": "code",
   "execution_count": 2,
   "id": "7fa78139",
   "metadata": {},
   "outputs": [],
   "source": [
    "def zero_poses(poses):\n",
    "    poses = poses.clone().detach()\n",
    "    poses[:,12:17] = 0\n",
    "    poses[:,54:65] = 0\n",
    "    poses = Variable(poses, requires_grad=True)\n",
    "    return poses\n",
    "\n",
    "def calculate_loss(vertices, faces, scan_meshes, scan_pc):\n",
    "    star_meshes = Meshes(verts=vertices, faces=faces)\n",
    "    s2m = point_mesh_face_distance(star_meshes, scan_pc)\n",
    "    return s2m"
   ]
  },
  {
   "cell_type": "markdown",
   "id": "253f8af7",
   "metadata": {},
   "source": [
    "# loading bodies"
   ]
  },
  {
   "cell_type": "code",
   "execution_count": 3,
   "id": "479b39bd",
   "metadata": {},
   "outputs": [
    {
     "name": "stderr",
     "output_type": "stream",
     "text": [
      "loading female body: 100%|██████████| 72/72 [01:00<00:00,  1.18it/s]\n",
      "optimizing female - loss: 0.0026069588493555784:   1%|          | 62/10000 [24:39<65:52:56, 23.87s/it]\n"
     ]
    },
    {
     "ename": "KeyboardInterrupt",
     "evalue": "",
     "output_type": "error",
     "traceback": [
      "\u001b[0;31m---------------------------------------------------------------------------\u001b[0m",
      "\u001b[0;31mKeyboardInterrupt\u001b[0m                         Traceback (most recent call last)",
      "Cell \u001b[0;32mIn [3], line 53\u001b[0m\n\u001b[1;32m     51\u001b[0m optimizer\u001b[38;5;241m.\u001b[39mzero_grad()\n\u001b[1;32m     52\u001b[0m loss \u001b[38;5;241m=\u001b[39m calculate_loss(d, star_faces, scan_mesh,scan_pc)\n\u001b[0;32m---> 53\u001b[0m \u001b[43mloss\u001b[49m\u001b[38;5;241;43m.\u001b[39;49m\u001b[43mbackward\u001b[49m\u001b[43m(\u001b[49m\u001b[43mretain_graph\u001b[49m\u001b[38;5;241;43m=\u001b[39;49m\u001b[38;5;28;43;01mTrue\u001b[39;49;00m\u001b[43m)\u001b[49m\n\u001b[1;32m     54\u001b[0m optimizer\u001b[38;5;241m.\u001b[39mstep()\n\u001b[1;32m     55\u001b[0m loop\u001b[38;5;241m.\u001b[39mset_description(\u001b[38;5;124mf\u001b[39m\u001b[38;5;124m\"\u001b[39m\u001b[38;5;124moptimizing \u001b[39m\u001b[38;5;132;01m{\u001b[39;00mgender\u001b[38;5;132;01m}\u001b[39;00m\u001b[38;5;124m - loss: \u001b[39m\u001b[38;5;132;01m{\u001b[39;00mloss\u001b[38;5;132;01m}\u001b[39;00m\u001b[38;5;124m\"\u001b[39m)\n",
      "File \u001b[0;32m~/.local/lib/python3.10/site-packages/torch/_tensor.py:396\u001b[0m, in \u001b[0;36mTensor.backward\u001b[0;34m(self, gradient, retain_graph, create_graph, inputs)\u001b[0m\n\u001b[1;32m    387\u001b[0m \u001b[39mif\u001b[39;00m has_torch_function_unary(\u001b[39mself\u001b[39m):\n\u001b[1;32m    388\u001b[0m     \u001b[39mreturn\u001b[39;00m handle_torch_function(\n\u001b[1;32m    389\u001b[0m         Tensor\u001b[39m.\u001b[39mbackward,\n\u001b[1;32m    390\u001b[0m         (\u001b[39mself\u001b[39m,),\n\u001b[0;32m   (...)\u001b[0m\n\u001b[1;32m    394\u001b[0m         create_graph\u001b[39m=\u001b[39mcreate_graph,\n\u001b[1;32m    395\u001b[0m         inputs\u001b[39m=\u001b[39minputs)\n\u001b[0;32m--> 396\u001b[0m torch\u001b[39m.\u001b[39;49mautograd\u001b[39m.\u001b[39;49mbackward(\u001b[39mself\u001b[39;49m, gradient, retain_graph, create_graph, inputs\u001b[39m=\u001b[39;49minputs)\n",
      "File \u001b[0;32m~/.local/lib/python3.10/site-packages/torch/autograd/__init__.py:173\u001b[0m, in \u001b[0;36mbackward\u001b[0;34m(tensors, grad_tensors, retain_graph, create_graph, grad_variables, inputs)\u001b[0m\n\u001b[1;32m    168\u001b[0m     retain_graph \u001b[39m=\u001b[39m create_graph\n\u001b[1;32m    170\u001b[0m \u001b[39m# The reason we repeat same the comment below is that\u001b[39;00m\n\u001b[1;32m    171\u001b[0m \u001b[39m# some Python versions print out the first line of a multi-line function\u001b[39;00m\n\u001b[1;32m    172\u001b[0m \u001b[39m# calls in the traceback and some print out the last line\u001b[39;00m\n\u001b[0;32m--> 173\u001b[0m Variable\u001b[39m.\u001b[39;49m_execution_engine\u001b[39m.\u001b[39;49mrun_backward(  \u001b[39m# Calls into the C++ engine to run the backward pass\u001b[39;49;00m\n\u001b[1;32m    174\u001b[0m     tensors, grad_tensors_, retain_graph, create_graph, inputs,\n\u001b[1;32m    175\u001b[0m     allow_unreachable\u001b[39m=\u001b[39;49m\u001b[39mTrue\u001b[39;49;00m, accumulate_grad\u001b[39m=\u001b[39;49m\u001b[39mTrue\u001b[39;49;00m)\n",
      "\u001b[0;31mKeyboardInterrupt\u001b[0m: "
     ]
    }
   ],
   "source": [
    "for gender in ['female', 'male']:\n",
    "\n",
    "    # loading bodies\n",
    "    files_path = f\"./data/MOVE4D/{gender}/\"\n",
    "    files = os.listdir(files_path)\n",
    "    files.sort()\n",
    "\n",
    "    all_vertices = []\n",
    "    all_faces = []\n",
    "    for file in pgb(files, desc=f\"loading {gender} body\"):\n",
    "        body_vertices = CurveUtils.load_mesh(files_path + file).to(device)\n",
    "        body_vertices *= 0.001\n",
    "        body_vertices -= body_vertices.mean(axis=0)\n",
    "        body_faces, _ = CurveUtils.load_template(files_path + file)\n",
    "        all_vertices.append(body_vertices)\n",
    "        all_faces.append(body_faces.to(device))\n",
    "        \n",
    "    scan_mesh = Meshes(verts=all_vertices, faces=all_faces)\n",
    "    scan_pc = Pointclouds(points=all_vertices)\n",
    "\n",
    "    # loading model\n",
    "    batch_size = len(all_vertices)\n",
    "    nbetas=0\n",
    "    poses = tc.FloatTensor(tc.zeros((batch_size, 72))).to(device)\n",
    "    poses = Variable(poses, requires_grad=True)\n",
    "    betas = tc.FloatTensor(tc.zeros((batch_size, nbetas))).to(device)\n",
    "    betas = Variable(betas, requires_grad=True)\n",
    "    trans = tc.FloatTensor(tc.zeros((batch_size, 3))).to(device)\n",
    "    trans = Variable(trans, requires_grad=True)\n",
    "    star = STAR(gender=gender, num_betas=nbetas)\n",
    "    star_faces = np.repeat(star.faces[None,...],batch_size,axis=0).to(device)\n",
    "\n",
    "    # training model\n",
    "    learning_rate = 0.02\n",
    "    epochs = 10000\n",
    "    loop = pgb(range(epochs), desc=f\"optimizing {gender} - loss: inf\")\n",
    "    for it in loop:\n",
    "        \n",
    "        if it == 20:\n",
    "            poses = zero_poses(poses)\n",
    "\n",
    "        if it%300 == 0 and it < 4800:\n",
    "            nbetas += 20\n",
    "            new_betas = tc.FloatTensor(np.zeros((batch_size, nbetas))).to(device)\n",
    "            new_betas[:,:nbetas-20] = betas\n",
    "            betas = Variable(new_betas, requires_grad=True)\n",
    "            star = STAR(gender=gender, num_betas=nbetas)\n",
    "            optimizer = tc.optim.Adam([trans, betas, poses], lr=learning_rate)\n",
    "        \n",
    "        d = star(betas=betas, pose=poses, trans=trans)\n",
    "        optimizer.zero_grad()\n",
    "        loss = calculate_loss(d, star_faces, scan_mesh,scan_pc)\n",
    "        loss.backward(retain_graph=True)\n",
    "        optimizer.step()\n",
    "        loop.set_description(f\"optimizing {gender} - loss: {loss}\")\n",
    "        if loss < 2e-5:\n",
    "            break\n",
    "\n",
    "    np.save(f\"{gender}_betas.npy\", betas.cpu().detach().numpy())\n",
    "    np.save(f\"{gender}_poses.npy\", poses.cpu().detach().numpy())\n",
    "    np.save(f\"{gender}_trans.npy\", trans.cpu().detach().numpy())"
   ]
  },
  {
   "cell_type": "code",
   "execution_count": null,
   "id": "e34510df",
   "metadata": {},
   "outputs": [],
   "source": []
  }
 ],
 "metadata": {
  "kernelspec": {
   "display_name": "Python 3.10.6 64-bit",
   "language": "python",
   "name": "python3"
  },
  "language_info": {
   "codemirror_mode": {
    "name": "ipython",
    "version": 3
   },
   "file_extension": ".py",
   "mimetype": "text/x-python",
   "name": "python",
   "nbconvert_exporter": "python",
   "pygments_lexer": "ipython3",
   "version": "3.10.6"
  },
  "vscode": {
   "interpreter": {
    "hash": "916dbcbb3f70747c44a77c7bcd40155683ae19c65e1c03b4aa3499c5328201f1"
   }
  }
 },
 "nbformat": 4,
 "nbformat_minor": 5
}
