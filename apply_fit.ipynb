{
 "cells": [
  {
   "cell_type": "code",
   "execution_count": null,
   "id": "2333edc4",
   "metadata": {},
   "outputs": [],
   "source": [
    "import os\n",
    "import torch as tc\n",
    "import numpy as np\n",
    "from tqdm import tqdm as pgb\n",
    "\n",
    "from star.star import STAR\n",
    "\n",
    "\n",
    "from torch.autograd import Variable\n",
    "from pytorch3d.loss import point_mesh_face_distance\n",
    "from pytorch3d.structures import Meshes, Pointclouds\n",
    "from curve_utils import CurveUtils\n",
    "\n",
    "device = tc.device(\"cuda\" if tc.cuda.is_available() else \"cpu\")"
   ]
  },
  {
   "cell_type": "markdown",
   "id": "11d04f6e",
   "metadata": {},
   "source": [
    "# functions"
   ]
  },
  {
   "cell_type": "code",
   "execution_count": null,
   "id": "7fa78139",
   "metadata": {},
   "outputs": [],
   "source": [
    "def zero_poses(poses):\n",
    "    poses = poses.clone().detach()\n",
    "    poses[:,12:17] = 0\n",
    "    poses[:,54:65] = 0\n",
    "    poses = Variable(poses, requires_grad=True)\n",
    "    return poses\n",
    "\n",
    "def calculate_loss(vertices, faces, scan_meshes, scan_pc):\n",
    "    star_meshes = Meshes(verts=vertices, faces=faces)\n",
    "    s2m = point_mesh_face_distance(star_meshes, scan_pc)\n",
    "    return s2m"
   ]
  },
  {
   "cell_type": "markdown",
   "id": "253f8af7",
   "metadata": {},
   "source": [
    "# loading bodies"
   ]
  },
  {
   "cell_type": "code",
   "execution_count": null,
   "id": "479b39bd",
   "metadata": {},
   "outputs": [],
   "source": [
    "for gender in ['female', 'male']:\n",
    "\n",
    "    # loading bodies\n",
    "    files_path = f\"./data/MOVE4D/{gender}/\"\n",
    "    files = os.listdir(files_path)\n",
    "    files.sort()\n",
    "\n",
    "    all_vertices = []\n",
    "    all_faces = []\n",
    "    for file in pgb(files, desc=f\"loading {gender} body\"):\n",
    "        body_vertices = CurveUtils.load_mesh(files_path + file).to(device)\n",
    "        body_vertices *= 0.001\n",
    "        body_vertices -= body_vertices.mean(axis=0)\n",
    "        body_faces, _ = CurveUtils.load_template(files_path + file)\n",
    "        all_vertices.append(body_vertices)\n",
    "        all_faces.append(body_faces.to(device))\n",
    "        \n",
    "    scan_mesh = Meshes(verts=all_vertices, faces=all_faces)\n",
    "    scan_pc = Pointclouds(points=all_vertices)\n",
    "\n",
    "    # loading model\n",
    "    batch_size = len(all_vertices)\n",
    "    nbetas=0\n",
    "    poses = tc.FloatTensor(tc.zeros((batch_size, 72))).to(device)\n",
    "    poses = Variable(poses, requires_grad=True)\n",
    "    betas = tc.FloatTensor(tc.zeros((batch_size, nbetas))).to(device)\n",
    "    betas = Variable(betas, requires_grad=True)\n",
    "    trans = tc.FloatTensor(tc.zeros((batch_size, 3))).to(device)\n",
    "    trans = Variable(trans, requires_grad=True)\n",
    "    star = STAR(gender=gender, num_betas=nbetas)\n",
    "    star_faces = np.repeat(star.faces[None,...],batch_size,axis=0).to(device)\n",
    "\n",
    "    # training model\n",
    "    learning_rate = 0.02\n",
    "    epochs = 10000\n",
    "    loop = pgb(range(epochs), desc=f\"optimizing {gender} - loss: inf\")\n",
    "    for it in loop:\n",
    "        \n",
    "        if it == 20:\n",
    "            poses = zero_poses(poses)\n",
    "\n",
    "        if it%300 == 0 and it < 4800:\n",
    "            nbetas += 20\n",
    "            new_betas = tc.FloatTensor(np.zeros((batch_size, nbetas))).to(device)\n",
    "            new_betas[:,:nbetas-20] = betas\n",
    "            betas = Variable(new_betas, requires_grad=True)\n",
    "            star = STAR(gender=gender, num_betas=nbetas)\n",
    "            optimizer = tc.optim.Adam([trans, betas, poses], lr=learning_rate)\n",
    "        \n",
    "        d = star(betas=betas, pose=poses, trans=trans)\n",
    "        optimizer.zero_grad()\n",
    "        loss = calculate_loss(d, star_faces, scan_mesh,scan_pc)\n",
    "        loss.backward(retain_graph=True)\n",
    "        optimizer.step()\n",
    "        loop.set_description(f\"optimizing {gender} - loss: {loss}\")\n",
    "        if loss < 2e-5:\n",
    "            break\n",
    "\n",
    "    np.save(f\"{gender}_betas.npy\", betas.cpu().detach().numpy())\n",
    "    np.save(f\"{gender}_poses.npy\", poses.cpu().detach().numpy())\n",
    "    np.save(f\"{gender}_trans.npy\", trans.cpu().detach().numpy())"
   ]
  },
  {
   "cell_type": "code",
   "execution_count": null,
   "id": "e34510df",
   "metadata": {},
   "outputs": [],
   "source": []
  }
 ],
 "metadata": {
  "kernelspec": {
   "display_name": "Python 3.10.6 64-bit",
   "language": "python",
   "name": "python3"
  },
  "language_info": {
   "codemirror_mode": {
    "name": "ipython",
    "version": 3
   },
   "file_extension": ".py",
   "mimetype": "text/x-python",
   "name": "python",
   "nbconvert_exporter": "python",
   "pygments_lexer": "ipython3",
   "version": "3.10.6"
  },
  "vscode": {
   "interpreter": {
    "hash": "916dbcbb3f70747c44a77c7bcd40155683ae19c65e1c03b4aa3499c5328201f1"
   }
  }
 },
 "nbformat": 4,
 "nbformat_minor": 5
}
