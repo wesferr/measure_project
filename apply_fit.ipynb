{
 "cells": [
  {
   "cell_type": "code",
   "execution_count": null,
   "id": "2333edc4",
   "metadata": {},
   "outputs": [],
   "source": [
    "import os\n",
    "import torch as tc\n",
    "import numpy as np\n",
    "from tqdm.notebook import tqdm\n",
    "\n",
    "from src.star.star import STAR\n",
    "\n",
    "from torch.autograd import Variable\n",
    "from pytorch3d.loss import point_mesh_face_distance\n",
    "from pytorch3d.structures import Meshes, Pointclouds\n",
    "from src.mesh_manipulation import load_mesh\n",
    "\n",
    "device = tc.device(\"cuda\" if tc.cuda.is_available() else \"cpu\")"
   ]
  },
  {
   "cell_type": "markdown",
   "id": "11d04f6e",
   "metadata": {},
   "source": [
    "# functions"
   ]
  },
  {
   "cell_type": "code",
   "execution_count": null,
   "id": "7fa78139",
   "metadata": {},
   "outputs": [],
   "source": [
    "def zero_poses(poses):\n",
    "    poses = poses.clone().detach()\n",
    "    poses[:,12:17] = 0\n",
    "    poses[:,54:65] = 0\n",
    "    poses = Variable(poses, requires_grad=True)\n",
    "    return poses"
   ]
  },
  {
   "attachments": {},
   "cell_type": "markdown",
   "id": "890a6831",
   "metadata": {},
   "source": [
    "# fiting"
   ]
  },
  {
   "cell_type": "code",
   "execution_count": null,
   "id": "479b39bd",
   "metadata": {},
   "outputs": [],
   "source": [
    "gender_betas = {}\n",
    "gender_poses = {}\n",
    "gender_trans = {}\n",
    "\n",
    "for gender in ['male', 'female']:\n",
    "\n",
    "    gender_betas[gender] = []\n",
    "    gender_poses[gender] = []\n",
    "    gender_trans[gender] = []\n",
    "\n",
    "    # loading bodies\n",
    "    files_path = f\"./data/MOVE4D/{gender}/\"\n",
    "    files = os.listdir(files_path)\n",
    "    files.sort()\n",
    "\n",
    "    all_vertices = []\n",
    "    all_faces = []\n",
    "    files_iterator = tqdm(files, desc=f\"loading {gender} bodies\", position=0)\n",
    "    for file in files_iterator:\n",
    "        body_vertices = load_mesh(files_path + file, device)\n",
    "        body_vertices *= 0.001\n",
    "        body_vertices -= body_vertices.mean(axis=0)\n",
    "        all_vertices.append(body_vertices)\n",
    "\n",
    "    bodies = Pointclouds(points=all_vertices)\n",
    "\n",
    "    for body in bodies:\n",
    "\n",
    "        # training model\n",
    "        nbetas = 0\n",
    "        learning_rate = 0.02\n",
    "        epochs = 5000\n",
    "        step = 250\n",
    "\n",
    "        poses = tc.FloatTensor(tc.zeros((1, 72))).to(device)\n",
    "        poses = Variable(poses, requires_grad=True)\n",
    "        betas = tc.FloatTensor(tc.zeros((1, nbetas))).to(device)\n",
    "        betas = Variable(betas, requires_grad=True)\n",
    "        trans = tc.FloatTensor(tc.zeros((1, 3))).to(device)\n",
    "        trans = Variable(trans, requires_grad=True)\n",
    "        star = STAR(gender=gender, num_betas=nbetas)\n",
    "        star_faces = star.faces[None,...].to(device)\n",
    "\n",
    "        optimizer = tc.optim.Adam([trans, betas, poses], lr=learning_rate)\n",
    "        epochs_iterator = tqdm(range(epochs), desc=f\"optimizing - loss: inf\", position=1, leave=False)\n",
    "        for it in epochs_iterator:\n",
    "\n",
    "            if it == 20:\n",
    "                poses = zero_poses(poses)\n",
    "\n",
    "            if it%step == 0:\n",
    "                if nbetas < 300:\n",
    "                    nbetas += 100\n",
    "                    new_betas = tc.FloatTensor(np.zeros((1, nbetas))).to(device)\n",
    "                    new_betas[:,:nbetas-100] = betas\n",
    "                    betas = Variable(new_betas, requires_grad=True)\n",
    "                    star = STAR(gender=gender, num_betas=nbetas)\n",
    "                optimizer = tc.optim.Adam([trans, betas, poses], lr=learning_rate)\n",
    "                \n",
    "            d = star(betas=betas, pose=poses, trans=trans)\n",
    "            optimizer.zero_grad()\n",
    "            star_meshes = Meshes(verts=d, faces=star_faces)\n",
    "            loss = point_mesh_face_distance(star_meshes, body)\n",
    "            loss.backward(retain_graph=True)\n",
    "            epochs_iterator.set_description(f\"optimizing - loss: {loss}\")\n",
    "            optimizer.step()\n",
    "            elapsed_time = epochs_iterator.format_dict['elapsed']\n",
    "            if loss < 2e-5:\n",
    "                break\n",
    "            if elapsed_time > 600:\n",
    "                break\n",
    "\n",
    "        gender_betas[gender].append(betas)\n",
    "        gender_poses[gender].append(poses)\n",
    "        gender_trans[gender].append(trans)\n",
    "    "
   ]
  },
  {
   "cell_type": "code",
   "execution_count": null,
   "id": "2ce12eb0",
   "metadata": {},
   "outputs": [],
   "source": [
    "gender_parameters = {\n",
    "    \"male\": (\n",
    "        tc.row_stack(gender_betas['male']),\n",
    "        tc.row_stack(gender_poses['male']),\n",
    "        tc.row_stack(gender_trans['male']),\n",
    "    ),\n",
    "    \"female\": (\n",
    "        tc.row_stack(gender_betas['female']),\n",
    "        tc.row_stack(gender_poses['female']),\n",
    "        tc.row_stack(gender_trans['female']),\n",
    "    ),\n",
    "\n",
    "}\n",
    "tc.save(gender_parameters, \"data/star_parameters.pt\")"
   ]
  }
 ],
 "metadata": {
  "kernelspec": {
   "display_name": "Python 3.10.6 64-bit",
   "language": "python",
   "name": "python3"
  },
  "language_info": {
   "codemirror_mode": {
    "name": "ipython",
    "version": 3
   },
   "file_extension": ".py",
   "mimetype": "text/x-python",
   "name": "python",
   "nbconvert_exporter": "python",
   "pygments_lexer": "ipython3",
   "version": "3.10.6"
  },
  "vscode": {
   "interpreter": {
    "hash": "916dbcbb3f70747c44a77c7bcd40155683ae19c65e1c03b4aa3499c5328201f1"
   }
  }
 },
 "nbformat": 4,
 "nbformat_minor": 5
}
