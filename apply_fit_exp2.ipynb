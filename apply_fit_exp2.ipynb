{
 "cells": [
  {
   "cell_type": "code",
   "execution_count": 1,
   "id": "2333edc4",
   "metadata": {},
   "outputs": [],
   "source": [
    "import os\n",
    "import torch as tc\n",
    "import numpy as np\n",
    "from tqdm.notebook import tqdm\n",
    "\n",
    "from star.star import STAR\n",
    "\n",
    "from torch.autograd import Variable\n",
    "from pytorch3d.loss import point_mesh_face_distance\n",
    "from pytorch3d.structures import Meshes, Pointclouds\n",
    "from curve_utils import CurveUtils\n",
    "from mesh_manipulation import load_mesh, load_template, save_obj\n",
    "\n",
    "device = tc.device(\"cuda\" if tc.cuda.is_available() else \"cpu\")"
   ]
  },
  {
   "cell_type": "markdown",
   "id": "11d04f6e",
   "metadata": {},
   "source": [
    "# functions"
   ]
  },
  {
   "cell_type": "code",
   "execution_count": 2,
   "id": "7fa78139",
   "metadata": {},
   "outputs": [],
   "source": [
    "def zero_poses(poses):\n",
    "    poses = poses.clone().detach()\n",
    "    poses[:,12:17] = 0\n",
    "    poses[:,54:65] = 0\n",
    "    poses = Variable(poses, requires_grad=True)\n",
    "    return poses"
   ]
  },
  {
   "attachments": {},
   "cell_type": "markdown",
   "id": "890a6831",
   "metadata": {},
   "source": [
    "# fiting"
   ]
  },
  {
   "cell_type": "code",
   "execution_count": 25,
   "id": "479b39bd",
   "metadata": {},
   "outputs": [
    {
     "data": {
      "application/json": {
       "ascii": false,
       "bar_format": null,
       "colour": null,
       "elapsed": 0.006458759307861328,
       "initial": 0,
       "n": 0,
       "ncols": null,
       "nrows": null,
       "postfix": null,
       "prefix": "loading male bodies",
       "rate": null,
       "total": 72,
       "unit": "it",
       "unit_divisor": 1000,
       "unit_scale": false
      },
      "application/vnd.jupyter.widget-view+json": {
       "model_id": "6b0d21c206a349b49538f9cfd7c55ab8",
       "version_major": 2,
       "version_minor": 0
      },
      "text/plain": [
       "loading male bodies:   0%|          | 0/72 [00:00<?, ?it/s]"
      ]
     },
     "metadata": {},
     "output_type": "display_data"
    },
    {
     "data": {
      "application/json": {
       "ascii": false,
       "bar_format": null,
       "colour": null,
       "elapsed": 0.003973484039306641,
       "initial": 0,
       "n": 0,
       "ncols": null,
       "nrows": null,
       "postfix": null,
       "prefix": "optimizing - loss: inf",
       "rate": null,
       "total": 5000,
       "unit": "it",
       "unit_divisor": 1000,
       "unit_scale": false
      },
      "application/vnd.jupyter.widget-view+json": {
       "model_id": "a4969ddbe83643a5a9bd9091d60bfb3d",
       "version_major": 2,
       "version_minor": 0
      },
      "text/plain": [
       "optimizing - loss: inf:   0%|          | 0/5000 [00:00<?, ?it/s]"
      ]
     },
     "metadata": {},
     "output_type": "display_data"
    },
    {
     "data": {
      "application/json": {
       "ascii": false,
       "bar_format": null,
       "colour": null,
       "elapsed": 0.004169940948486328,
       "initial": 0,
       "n": 0,
       "ncols": null,
       "nrows": null,
       "postfix": null,
       "prefix": "optimizing - loss: inf",
       "rate": null,
       "total": 5000,
       "unit": "it",
       "unit_divisor": 1000,
       "unit_scale": false
      },
      "application/vnd.jupyter.widget-view+json": {
       "model_id": "4075addabfff4b7da519f586541d9cc2",
       "version_major": 2,
       "version_minor": 0
      },
      "text/plain": [
       "optimizing - loss: inf:   0%|          | 0/5000 [00:00<?, ?it/s]"
      ]
     },
     "metadata": {},
     "output_type": "display_data"
    },
    {
     "data": {
      "application/json": {
       "ascii": false,
       "bar_format": null,
       "colour": null,
       "elapsed": 0.004086017608642578,
       "initial": 0,
       "n": 0,
       "ncols": null,
       "nrows": null,
       "postfix": null,
       "prefix": "optimizing - loss: inf",
       "rate": null,
       "total": 5000,
       "unit": "it",
       "unit_divisor": 1000,
       "unit_scale": false
      },
      "application/vnd.jupyter.widget-view+json": {
       "model_id": "62ea0f2c314f4b57a9d0f20020d80684",
       "version_major": 2,
       "version_minor": 0
      },
      "text/plain": [
       "optimizing - loss: inf:   0%|          | 0/5000 [00:00<?, ?it/s]"
      ]
     },
     "metadata": {},
     "output_type": "display_data"
    },
    {
     "data": {
      "application/json": {
       "ascii": false,
       "bar_format": null,
       "colour": null,
       "elapsed": 0.004092693328857422,
       "initial": 0,
       "n": 0,
       "ncols": null,
       "nrows": null,
       "postfix": null,
       "prefix": "optimizing - loss: inf",
       "rate": null,
       "total": 5000,
       "unit": "it",
       "unit_divisor": 1000,
       "unit_scale": false
      },
      "application/vnd.jupyter.widget-view+json": {
       "model_id": "01d43e4a89f846149014f436ca736f6d",
       "version_major": 2,
       "version_minor": 0
      },
      "text/plain": [
       "optimizing - loss: inf:   0%|          | 0/5000 [00:00<?, ?it/s]"
      ]
     },
     "metadata": {},
     "output_type": "display_data"
    },
    {
     "data": {
      "application/json": {
       "ascii": false,
       "bar_format": null,
       "colour": null,
       "elapsed": 0.004711627960205078,
       "initial": 0,
       "n": 0,
       "ncols": null,
       "nrows": null,
       "postfix": null,
       "prefix": "optimizing - loss: inf",
       "rate": null,
       "total": 5000,
       "unit": "it",
       "unit_divisor": 1000,
       "unit_scale": false
      },
      "application/vnd.jupyter.widget-view+json": {
       "model_id": "77c68518eac248698e9fb645be9fe943",
       "version_major": 2,
       "version_minor": 0
      },
      "text/plain": [
       "optimizing - loss: inf:   0%|          | 0/5000 [00:00<?, ?it/s]"
      ]
     },
     "metadata": {},
     "output_type": "display_data"
    },
    {
     "data": {
      "application/json": {
       "ascii": false,
       "bar_format": null,
       "colour": null,
       "elapsed": 0.004140377044677734,
       "initial": 0,
       "n": 0,
       "ncols": null,
       "nrows": null,
       "postfix": null,
       "prefix": "optimizing - loss: inf",
       "rate": null,
       "total": 5000,
       "unit": "it",
       "unit_divisor": 1000,
       "unit_scale": false
      },
      "application/vnd.jupyter.widget-view+json": {
       "model_id": "61a08c4776b948f78579ee938a07b26f",
       "version_major": 2,
       "version_minor": 0
      },
      "text/plain": [
       "optimizing - loss: inf:   0%|          | 0/5000 [00:00<?, ?it/s]"
      ]
     },
     "metadata": {},
     "output_type": "display_data"
    },
    {
     "ename": "KeyboardInterrupt",
     "evalue": "",
     "output_type": "error",
     "traceback": [
      "\u001b[0;31m---------------------------------------------------------------------------\u001b[0m",
      "\u001b[0;31mKeyboardInterrupt\u001b[0m                         Traceback (most recent call last)",
      "\u001b[1;32m/home/wesley/mestrado/measure_project/apply_fit_exp2.ipynb Cell 5\u001b[0m in \u001b[0;36m6\n\u001b[1;32m     <a href='vscode-notebook-cell:/home/wesley/mestrado/measure_project/apply_fit_exp2.ipynb#W4sZmlsZQ%3D%3D?line=61'>62</a>\u001b[0m star_meshes \u001b[39m=\u001b[39m Meshes(verts\u001b[39m=\u001b[39md, faces\u001b[39m=\u001b[39mstar_faces)\n\u001b[1;32m     <a href='vscode-notebook-cell:/home/wesley/mestrado/measure_project/apply_fit_exp2.ipynb#W4sZmlsZQ%3D%3D?line=62'>63</a>\u001b[0m loss \u001b[39m=\u001b[39m point_mesh_face_distance(star_meshes, body)\n\u001b[0;32m---> <a href='vscode-notebook-cell:/home/wesley/mestrado/measure_project/apply_fit_exp2.ipynb#W4sZmlsZQ%3D%3D?line=63'>64</a>\u001b[0m loss\u001b[39m.\u001b[39;49mbackward(retain_graph\u001b[39m=\u001b[39;49m\u001b[39mTrue\u001b[39;49;00m)\n\u001b[1;32m     <a href='vscode-notebook-cell:/home/wesley/mestrado/measure_project/apply_fit_exp2.ipynb#W4sZmlsZQ%3D%3D?line=64'>65</a>\u001b[0m epochs_iterator\u001b[39m.\u001b[39mset_description(\u001b[39mf\u001b[39m\u001b[39m\"\u001b[39m\u001b[39moptimizing - loss: \u001b[39m\u001b[39m{\u001b[39;00mloss\u001b[39m}\u001b[39;00m\u001b[39m\"\u001b[39m)\n\u001b[1;32m     <a href='vscode-notebook-cell:/home/wesley/mestrado/measure_project/apply_fit_exp2.ipynb#W4sZmlsZQ%3D%3D?line=65'>66</a>\u001b[0m optimizer\u001b[39m.\u001b[39mstep()\n",
      "File \u001b[0;32m~/.local/lib/python3.10/site-packages/torch/_tensor.py:396\u001b[0m, in \u001b[0;36mTensor.backward\u001b[0;34m(self, gradient, retain_graph, create_graph, inputs)\u001b[0m\n\u001b[1;32m    387\u001b[0m \u001b[39mif\u001b[39;00m has_torch_function_unary(\u001b[39mself\u001b[39m):\n\u001b[1;32m    388\u001b[0m     \u001b[39mreturn\u001b[39;00m handle_torch_function(\n\u001b[1;32m    389\u001b[0m         Tensor\u001b[39m.\u001b[39mbackward,\n\u001b[1;32m    390\u001b[0m         (\u001b[39mself\u001b[39m,),\n\u001b[0;32m   (...)\u001b[0m\n\u001b[1;32m    394\u001b[0m         create_graph\u001b[39m=\u001b[39mcreate_graph,\n\u001b[1;32m    395\u001b[0m         inputs\u001b[39m=\u001b[39minputs)\n\u001b[0;32m--> 396\u001b[0m torch\u001b[39m.\u001b[39;49mautograd\u001b[39m.\u001b[39;49mbackward(\u001b[39mself\u001b[39;49m, gradient, retain_graph, create_graph, inputs\u001b[39m=\u001b[39;49minputs)\n",
      "File \u001b[0;32m~/.local/lib/python3.10/site-packages/torch/autograd/__init__.py:173\u001b[0m, in \u001b[0;36mbackward\u001b[0;34m(tensors, grad_tensors, retain_graph, create_graph, grad_variables, inputs)\u001b[0m\n\u001b[1;32m    168\u001b[0m     retain_graph \u001b[39m=\u001b[39m create_graph\n\u001b[1;32m    170\u001b[0m \u001b[39m# The reason we repeat same the comment below is that\u001b[39;00m\n\u001b[1;32m    171\u001b[0m \u001b[39m# some Python versions print out the first line of a multi-line function\u001b[39;00m\n\u001b[1;32m    172\u001b[0m \u001b[39m# calls in the traceback and some print out the last line\u001b[39;00m\n\u001b[0;32m--> 173\u001b[0m Variable\u001b[39m.\u001b[39;49m_execution_engine\u001b[39m.\u001b[39;49mrun_backward(  \u001b[39m# Calls into the C++ engine to run the backward pass\u001b[39;49;00m\n\u001b[1;32m    174\u001b[0m     tensors, grad_tensors_, retain_graph, create_graph, inputs,\n\u001b[1;32m    175\u001b[0m     allow_unreachable\u001b[39m=\u001b[39;49m\u001b[39mTrue\u001b[39;49;00m, accumulate_grad\u001b[39m=\u001b[39;49m\u001b[39mTrue\u001b[39;49;00m)\n",
      "\u001b[0;31mKeyboardInterrupt\u001b[0m: "
     ]
    }
   ],
   "source": [
    "gender_betas = {}\n",
    "gender_poses = {}\n",
    "gender_trans = {}\n",
    "\n",
    "for gender in ['male', 'female']:\n",
    "\n",
    "    gender_betas[gender] = []\n",
    "    gender_poses[gender] = []\n",
    "    gender_trans[gender] = []\n",
    "\n",
    "    # loading bodies\n",
    "    files_path = f\"./data/MOVE4D/{gender}/\"\n",
    "    files = os.listdir(files_path)\n",
    "    files.sort()\n",
    "\n",
    "    all_vertices = []\n",
    "    all_faces = []\n",
    "    files_iterator = tqdm(files, desc=f\"loading {gender} bodies\", position=0)\n",
    "    for file in files_iterator:\n",
    "        body_vertices = load_mesh(files_path + file, device)\n",
    "        body_vertices *= 0.001\n",
    "        body_vertices -= body_vertices.mean(axis=0)\n",
    "        all_vertices.append(body_vertices)\n",
    "\n",
    "    bodies = Pointclouds(points=all_vertices)\n",
    "\n",
    "    for body in bodies:\n",
    "\n",
    "        # training model\n",
    "        nbetas = 0\n",
    "        learning_rate = 0.02\n",
    "        epochs = 5000\n",
    "        step = 250\n",
    "\n",
    "        poses = tc.FloatTensor(tc.zeros((1, 72))).to(device)\n",
    "        poses = Variable(poses, requires_grad=True)\n",
    "        betas = tc.FloatTensor(tc.zeros((1, nbetas))).to(device)\n",
    "        betas = Variable(betas, requires_grad=True)\n",
    "        trans = tc.FloatTensor(tc.zeros((1, 3))).to(device)\n",
    "        trans = Variable(trans, requires_grad=True)\n",
    "        star = STAR(gender=gender, num_betas=nbetas)\n",
    "        star_faces = star.faces[None,...].to(device)\n",
    "\n",
    "        optimizer = tc.optim.Adam([trans, betas, poses], lr=learning_rate)\n",
    "        epochs_iterator = tqdm(range(epochs), desc=f\"optimizing - loss: inf\", position=1, leave=False)\n",
    "        for it in epochs_iterator:\n",
    "\n",
    "            if it == 20:\n",
    "                poses = zero_poses(poses)\n",
    "\n",
    "            if it%step == 0:\n",
    "                if nbetas < 300:\n",
    "                    nbetas += 100\n",
    "                    new_betas = tc.FloatTensor(np.zeros((1, nbetas))).to(device)\n",
    "                    new_betas[:,:nbetas-100] = betas\n",
    "                    betas = Variable(new_betas, requires_grad=True)\n",
    "                    star = STAR(gender=gender, num_betas=nbetas)\n",
    "                optimizer = tc.optim.Adam([trans, betas, poses], lr=learning_rate)\n",
    "                \n",
    "            d = star(betas=betas, pose=poses, trans=trans)\n",
    "            optimizer.zero_grad()\n",
    "            star_meshes = Meshes(verts=d, faces=star_faces)\n",
    "            loss = point_mesh_face_distance(star_meshes, body)\n",
    "            loss.backward(retain_graph=True)\n",
    "            epochs_iterator.set_description(f\"optimizing - loss: {loss}\")\n",
    "            optimizer.step()\n",
    "            elapsed_time = epochs_iterator.format_dict['elapsed']\n",
    "            if loss < 2e-5:\n",
    "                break\n",
    "            if elapsed_time > 600:\n",
    "                break\n",
    "\n",
    "        gender_betas[gender].append(betas)\n",
    "        gender_poses[gender].append(poses)\n",
    "        gender_trans[gender].append(trans)\n",
    "    "
   ]
  },
  {
   "cell_type": "code",
   "execution_count": 11,
   "id": "2ce12eb0",
   "metadata": {},
   "outputs": [],
   "source": [
    "# gender_parameters = {\n",
    "#     \"male\": (\n",
    "#         tc.row_stack(gender_betas['male']),\n",
    "#         tc.row_stack(gender_poses['male']),\n",
    "#         tc.row_stack(gender_trans['male']),\n",
    "#     ),\n",
    "#     \"female\": (\n",
    "#         tc.row_stack(gender_betas['female']),\n",
    "#         tc.row_stack(gender_poses['female']),\n",
    "#         tc.row_stack(gender_trans['female']),\n",
    "#     ),\n",
    "\n",
    "# }\n",
    "# tc.save(gender_parameters, \"data2/star_parameters.pt\")\n",
    "# tc.load(\"data2/star_parameters.pt\")['male'].shape"
   ]
  },
  {
   "cell_type": "code",
   "execution_count": 13,
   "id": "936744fb",
   "metadata": {},
   "outputs": [],
   "source": []
  },
  {
   "cell_type": "code",
   "execution_count": 21,
   "id": "880facf1",
   "metadata": {},
   "outputs": [
    {
     "data": {
      "text/plain": [
       "torch.Size([72, 3])"
      ]
     },
     "execution_count": 21,
     "metadata": {},
     "output_type": "execute_result"
    }
   ],
   "source": []
  },
  {
   "cell_type": "code",
   "execution_count": null,
   "id": "2a5e9d34",
   "metadata": {},
   "outputs": [],
   "source": []
  }
 ],
 "metadata": {
  "kernelspec": {
   "display_name": "Python 3.10.6 64-bit",
   "language": "python",
   "name": "python3"
  },
  "language_info": {
   "codemirror_mode": {
    "name": "ipython",
    "version": 3
   },
   "file_extension": ".py",
   "mimetype": "text/x-python",
   "name": "python",
   "nbconvert_exporter": "python",
   "pygments_lexer": "ipython3",
   "version": "3.10.6"
  },
  "vscode": {
   "interpreter": {
    "hash": "916dbcbb3f70747c44a77c7bcd40155683ae19c65e1c03b4aa3499c5328201f1"
   }
  }
 },
 "nbformat": 4,
 "nbformat_minor": 5
}
