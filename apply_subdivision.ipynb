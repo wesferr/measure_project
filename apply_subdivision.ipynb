{
 "cells": [
  {
   "cell_type": "code",
   "execution_count": 1,
   "metadata": {},
   "outputs": [],
   "source": [
    "import torch as tc\n",
    "import numpy as np\n",
    "import open3d as otd\n",
    "from tqdm import tqdm\n",
    "from src.star.star import STAR\n",
    "otd_vector3d = otd.utility.Vector3dVector\n",
    "\n",
    "genders = ['male', 'female']\n",
    "nbetas = 300"
   ]
  },
  {
   "cell_type": "code",
   "execution_count": 2,
   "metadata": {},
   "outputs": [],
   "source": [
    "star_parameters = tc.load(\"data/star_parameters.pt\")\n",
    "star_faces = STAR().faces\n",
    "otd_faces = otd.utility.Vector3iVector(star_faces)"
   ]
  },
  {
   "cell_type": "code",
   "execution_count": 3,
   "metadata": {},
   "outputs": [],
   "source": [
    "gender_bodies = {}\n",
    "for gender in genders:\n",
    "    gender_star = STAR(gender=gender, num_betas=nbetas)\n",
    "    betas, poses, trans = star_parameters[gender]\n",
    "    poses = np.zeros((betas.shape[0],72))\n",
    "    poses[:,5] = 6 * np.pi/180\n",
    "    poses[:,8] = -6 * np.pi/180\n",
    "    poses = tc.cuda.FloatTensor(poses)\n",
    "    bodies = gender_star(betas=betas, pose=poses, trans=trans)\n",
    "    gender_bodies[gender] = bodies\n"
   ]
  },
  {
   "cell_type": "code",
   "execution_count": 4,
   "metadata": {},
   "outputs": [
    {
     "name": "stderr",
     "output_type": "stream",
     "text": [
      "subdividing male bodies:   1%|▏         | 1/72 [00:03<03:46,  3.19s/it]"
     ]
    }
   ],
   "source": [
    "subdivided_gender_bodies = {}\n",
    "subdivided_gender_faces = {}\n",
    "for gender in genders:\n",
    "    subdivided_gender_bodies[gender] = []\n",
    "    subdivided_gender_faces[gender] = []\n",
    "    for body in tqdm(gender_bodies[gender], desc=f\"subdividing {gender} bodies\"):\n",
    "        otd_vertices = otd_vector3d(body.detach().cpu())\n",
    "        otd_mesh = otd.geometry.TriangleMesh(otd_vertices, otd_faces)\n",
    "        otd_mesh = otd_mesh.subdivide_loop(number_of_iterations=3)\n",
    "        vertices = np.array(otd_mesh.vertices)\n",
    "        subdivided_gender_bodies[gender].append(tc.FloatTensor(vertices))\n",
    "    faces = np.array(otd_mesh.triangles)\n",
    "    subdivided_gender_faces[gender] = tc.LongTensor(faces)\n"
   ]
  },
  {
   "cell_type": "code",
   "execution_count": null,
   "metadata": {},
   "outputs": [],
   "source": [
    "subdivided_gender_bodies['male'] = tc.stack(subdivided_gender_bodies['male'], dim=0)\n",
    "subdivided_gender_bodies['female'] = tc.stack(subdivided_gender_bodies['female'], dim=0)\n",
    "subdivided_bodies = {\n",
    "    'vertices': subdivided_gender_bodies,\n",
    "    'faces': subdivided_gender_faces\n",
    "}\n",
    "tc.save(subdivided_bodies, \"data/subdivided_bodies.pt\")"
   ]
  }
 ],
 "metadata": {
  "kernelspec": {
   "display_name": "Python 3",
   "language": "python",
   "name": "python3"
  },
  "language_info": {
   "codemirror_mode": {
    "name": "ipython",
    "version": 3
   },
   "file_extension": ".py",
   "mimetype": "text/x-python",
   "name": "python",
   "nbconvert_exporter": "python",
   "pygments_lexer": "ipython3",
   "version": "3.10.6"
  },
  "orig_nbformat": 4
 },
 "nbformat": 4,
 "nbformat_minor": 2
}
