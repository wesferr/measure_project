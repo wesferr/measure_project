{
 "cells": [
  {
   "cell_type": "code",
   "execution_count": 1,
   "metadata": {},
   "outputs": [],
   "source": [
    "import torch as tc\n",
    "import numpy as np\n",
    "import open3d as otd\n",
    "from tqdm import tqdm\n",
    "from src.star.star import STAR\n",
    "otd_vector3d = otd.utility.Vector3dVector\n",
    "\n",
    "genders = ['male', 'female']\n",
    "nbetas = 300"
   ]
  },
  {
   "cell_type": "code",
   "execution_count": 2,
   "metadata": {},
   "outputs": [],
   "source": [
    "star_parameters = tc.load(\"data/ss20_star_parameters.pt\")\n",
    "star_faces = STAR().faces\n",
    "otd_faces = otd.utility.Vector3iVector(star_faces)"
   ]
  },
  {
   "cell_type": "code",
   "execution_count": 3,
   "metadata": {},
   "outputs": [],
   "source": [
    "gender_bodies = {}\n",
    "for gender in genders:\n",
    "    gender_star = STAR(gender=gender, num_betas=nbetas)\n",
    "    betas, poses, trans = star_parameters[gender]\n",
    "    poses = np.zeros((betas.shape[0],72))\n",
    "    poses[:,5] = 6 * np.pi/180\n",
    "    poses[:,8] = -6 * np.pi/180\n",
    "    poses = tc.cuda.FloatTensor(poses)\n",
    "    bodies = gender_star(betas=betas, pose=poses, trans=trans)\n",
    "    gender_bodies[gender] = bodies\n"
   ]
  },
  {
   "cell_type": "code",
   "execution_count": 4,
   "metadata": {},
   "outputs": [],
   "source": [
    "nonsubdivided_gender_bodies = {}\n",
    "nonsubdivided_gender_bodies['male'] = gender_bodies['male']\n",
    "nonsubdivided_gender_bodies['female'] = gender_bodies['female']\n",
    "nonsubdivided_bodies = {\n",
    "    'vertices': nonsubdivided_gender_bodies,\n",
    "    'faces': {\n",
    "        'male': star_faces,\n",
    "        'female': star_faces\n",
    "    }\n",
    "    \n",
    "}\n",
    "tc.save(nonsubdivided_bodies, \"data/ss20_nonsubdivided_bodies.pt\")"
   ]
  },
  {
   "cell_type": "code",
   "execution_count": 5,
   "metadata": {},
   "outputs": [
    {
     "data": {
      "text/plain": [
       "True"
      ]
     },
     "execution_count": 5,
     "metadata": {},
     "output_type": "execute_result"
    }
   ],
   "source": [
    "gender_star = STAR(gender=gender, num_betas=nbetas)\n",
    "betas, poses, trans = star_parameters[gender]\n",
    "body = gender_star(betas=betas, pose=poses, trans=trans)[4]\n",
    "otd_vertices = otd_vector3d(body.detach().cpu())\n",
    "otd_mesh = otd.geometry.TriangleMesh(otd_vertices, otd_faces)\n",
    "otd.io.write_triangle_mesh(\"body_sample.obj\", otd_mesh)"
   ]
  },
  {
   "cell_type": "code",
   "execution_count": 6,
   "metadata": {},
   "outputs": [
    {
     "name": "stderr",
     "output_type": "stream",
     "text": [
      "subdividing male bodies: 100%|██████████| 20/20 [01:00<00:00,  3.04s/it]\n",
      "subdividing female bodies: 100%|██████████| 41/41 [02:02<00:00,  2.99s/it]\n"
     ]
    }
   ],
   "source": [
    "subdivided_gender_bodies = {}\n",
    "subdivided_gender_faces = {}\n",
    "for gender in genders:\n",
    "    subdivided_gender_bodies[gender] = []\n",
    "    subdivided_gender_faces[gender] = []\n",
    "    for body in tqdm(gender_bodies[gender], desca=f\"subdividing {gender} bodies\"):\n",
    "        otd_vertices = otd_vector3d(body.detach().cpu())\n",
    "        otd_mesh = otd.geometry.TriangleMesh(otd_vertices, otd_faces)\n",
    "        otd_mesh = otd_mesh.subdivide_loop(number_of_iterations=3)\n",
    "        vertices = np.array(otd_mesh.vertices)\n",
    "        subdivided_gender_bodies[gender].append(tc.FloatTensor(vertices))\n",
    "    faces = np.array(otd_mesh.triangles)\n",
    "    subdivided_gender_faces[gender] = tc.LongTensor(faces)\n"
   ]
  },
  {
   "cell_type": "code",
   "execution_count": 7,
   "metadata": {},
   "outputs": [],
   "source": [
    "subdivided_gender_bodies['male'] = tc.stack(subdivided_gender_bodies['male'], dim=0)\n",
    "subdivided_gender_bodies['female'] = tc.stack(subdivided_gender_bodies['female'], dim=0)\n",
    "subdivided_bodies = {\n",
    "    'vertices': subdivided_gender_bodies,\n",
    "    'faces': subdivided_gender_faces\n",
    "}\n",
    "tc.save(subdivided_bodies, \"data/ss20_subdivided_bodies.pt\")"
   ]
  }
 ],
 "metadata": {
  "kernelspec": {
   "display_name": "Python 3",
   "language": "python",
   "name": "python3"
  },
  "language_info": {
   "codemirror_mode": {
    "name": "ipython",
    "version": 3
   },
   "file_extension": ".py",
   "mimetype": "text/x-python",
   "name": "python",
   "nbconvert_exporter": "python",
   "pygments_lexer": "ipython3",
   "version": "3.10.12"
  },
  "orig_nbformat": 4
 },
 "nbformat": 4,
 "nbformat_minor": 2
}
