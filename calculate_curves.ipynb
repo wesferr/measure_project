{
 "cells": [
  {
   "cell_type": "code",
   "execution_count": 1,
   "metadata": {},
   "outputs": [],
   "source": [
    "import torch as tc\n",
    "import pandas as pd\n",
    "import numpy as np\n",
    "from src.bbox import BBox\n",
    "import open3d as otd\n",
    "from tqdm import tqdm\n",
    "import matplotlib.pyplot as plt\n",
    "otd_vector3d = otd.utility.Vector3dVector\n",
    "from src.star.star import STAR\n",
    "from src.curve_utils import CurveUtils\n",
    "from src.curve_generator import CurveGenerator\n",
    "from src.mesh_manipulation import save_obj\n",
    "device = tc.device(\"cuda\" if tc.cuda.is_available() else \"cpu\")\n",
    "genders = ['female', 'male']\n",
    "male = ['male']\n",
    "female = ['female']"
   ]
  },
  {
   "cell_type": "code",
   "execution_count": 2,
   "metadata": {},
   "outputs": [],
   "source": [
    "their_semantics = [\n",
    "    'Bust girth',\n",
    "    'Waist girth',\n",
    "    'Hip girth',\n",
    "    'Thigh girth R',\n",
    "    'Upper arm girth R',\n",
    "    'Neck girth',\n",
    "    'Back neck point to waist',\n",
    "    'Height (m)',\n",
    "]\n",
    "our_semantic = [\n",
    "    'bust_chest_girth', # 5.3.4\n",
    "    'waist_girth', # 5.3.10\n",
    "    'hip_girth', # 5.3.13\n",
    "    'thigh_girth', # 5.3.20\n",
    "    'upper_arm_girth', # 5.3.16\n",
    "    'neck_girth', # 5.3.2\n",
    "    'neck_waist',\n",
    "    'stature', # 5.1.1\n",
    "]\n",
    "\n",
    "curve_index = {\n",
    "    'neck_girth':4, # 5.3.2\n",
    "    'bust_chest_girth': 0, # 5.3.4\n",
    "    'waist_girth': 1, # 5.3.10\n",
    "    'hip_girth': 1, # 5.3.13\n",
    "    'upper_arm_girth': 3, # 5.3.16\n",
    "    'thigh_girth': 2, # 5.3.20\n",
    "    #'neck_waist': 5\n",
    "}"
   ]
  },
  {
   "cell_type": "markdown",
   "metadata": {},
   "source": []
  },
  {
   "cell_type": "code",
   "execution_count": 3,
   "metadata": {},
   "outputs": [],
   "source": [
    "subdivided_bodies = tc.load('data/subdivided_bodies.pt')\n",
    "measures = pd.read_pickle(f'data/cleaned_measures.zip')\n",
    "measures.index = measures['Subject']\n",
    "measures = measures[measures['Measuring station'] == \"MOVE4D\"]\n",
    "\n",
    "mfd_gender_measures = dict()\n",
    "for gender in genders:\n",
    "    mfd_gender_measures[gender] = measures[measures['Sex'] == gender]\n",
    "    mfd_gender_measures[gender] = mfd_gender_measures[gender][their_semantics]\n",
    "    mfd_gender_measures[gender].columns = our_semantic\n",
    "    mfd_gender_measures[gender]['stature'] *= 1000"
   ]
  },
  {
   "cell_type": "code",
   "execution_count": 4,
   "metadata": {},
   "outputs": [],
   "source": [
    "selected_subjects = dict()\n",
    "selected_measures = dict()\n",
    "\n",
    "for gender in genders:\n",
    "    gender_measures = measures[measures['Sex'] == gender]\n",
    "    temp_measures = gender_measures[their_semantics].iloc[::2]\n",
    "    selected_subjects[gender] = 'IEEEP2_07' if gender == 'female' else 'IEEEP2_04'\n",
    "    selected_measures[gender] = temp_measures.loc[selected_subjects[gender]]\n",
    "    selected_subjects[gender] = temp_measures.index.get_loc(selected_subjects[gender])*2\n",
    "    selected_measures[gender].index = our_semantic\n",
    "    selected_measures[gender]['stature'] *= 1000"
   ]
  },
  {
   "cell_type": "code",
   "execution_count": 5,
   "metadata": {},
   "outputs": [],
   "source": [
    "body = subdivided_bodies['vertices']['female'][selected_subjects['female']]\n",
    "template = subdivided_bodies['faces']['female']+1\n",
    "# save_obj(path=\"output/female_body.obj\", pontos=body, faces=template)"
   ]
  },
  {
   "cell_type": "code",
   "execution_count": 6,
   "metadata": {},
   "outputs": [
    {
     "name": "stdout",
     "output_type": "stream",
     "text": [
      "SEGMENTING FEMALE BODIES"
     ]
    },
    {
     "name": "stderr",
     "output_type": "stream",
     "text": [
      "processing body:  98%|█████████▊| 44/45 [00:43<00:00,  1.00it/s]\n"
     ]
    },
    {
     "name": "stdout",
     "output_type": "stream",
     "text": [
      "SEGMENTING MALE BODIES"
     ]
    },
    {
     "name": "stderr",
     "output_type": "stream",
     "text": [
      "processing body:  98%|█████████▊| 44/45 [00:47<00:01,  1.07s/it]\n"
     ]
    }
   ],
   "source": [
    "gender_curves = dict()\n",
    "for gender in genders:\n",
    "    print(f'SEGMENTING {gender.upper()} BODIES', end='')\n",
    "    faces = subdivided_bodies['faces'][gender].to(device)\n",
    "    bodies = subdivided_bodies['vertices'][gender]\n",
    "    body = bodies[selected_subjects[gender]].to(device)\n",
    "    measures = selected_measures[gender]\n",
    "    result = CurveGenerator.get_curves(body, measures, faces, device, gender)\n",
    "    gender_curves[gender] = result[0]\n",
    "tc.save(gender_curves, \"data/gender_curves.zip\")"
   ]
  },
  {
   "cell_type": "code",
   "execution_count": 7,
   "metadata": {},
   "outputs": [
    {
     "name": "stdout",
     "output_type": "stream",
     "text": [
      "MEASURING FEMALE BODIES"
     ]
    },
    {
     "name": "stderr",
     "output_type": "stream",
     "text": [
      "100%|██████████| 31/31 [00:03<00:00,  9.93it/s]\n",
      "100%|██████████| 36/36 [00:02<00:00, 14.26it/s]\n",
      "100%|██████████| 61/61 [00:04<00:00, 14.52it/s]\n",
      "100%|██████████| 40/40 [00:02<00:00, 14.58it/s]\n",
      "100%|██████████| 640/640 [00:46<00:00, 13.64it/s]\n"
     ]
    },
    {
     "name": "stdout",
     "output_type": "stream",
     "text": [
      "MEASURING MALE BODIES"
     ]
    },
    {
     "name": "stderr",
     "output_type": "stream",
     "text": [
      "100%|██████████| 34/34 [00:03<00:00, 10.03it/s]\n",
      "100%|██████████| 40/40 [00:02<00:00, 14.16it/s]\n",
      "100%|██████████| 68/68 [00:04<00:00, 13.85it/s]\n",
      "100%|██████████| 45/45 [00:03<00:00, 14.44it/s]\n",
      "100%|██████████| 680/680 [00:48<00:00, 13.90it/s]\n"
     ]
    }
   ],
   "source": [
    "gender_measures = dict()\n",
    "for gender in genders:\n",
    "    print(f'MEASURING {gender.upper()} BODIES', end='')\n",
    "    gender_measures[gender] = [[]]*5\n",
    "    for segments_index, curves_segments in enumerate(gender_curves[gender]):\n",
    "        gender_measures[gender][segments_index] = []\n",
    "        for curves_index, curves in enumerate(tqdm(curves_segments)): # bust, torso, leg, arm, neck\n",
    "            \n",
    "            gender_measures[gender][segments_index].append([])\n",
    "            for body in subdivided_bodies['vertices'][gender]:\n",
    "                position = CurveUtils.generate_positions(tc.FloatTensor(curves).to(device), body.to(device))\n",
    "                calculated_measures = CurveUtils.calculate_distances(position)\n",
    "                gender_measures[gender][segments_index][curves_index].append(calculated_measures)\n",
    "\n",
    "            calculated_measures = gender_measures[gender][segments_index][curves_index]\n",
    "            gender_measures[gender][segments_index][curves_index] = tc.FloatTensor(calculated_measures)\n",
    "        gender_measures[gender][segments_index] = tc.row_stack(gender_measures[gender][segments_index])\n",
    "\n",
    "tc.save(gender_measures, \"data/calculated_measures.zip\")\n"
   ]
  },
  {
   "cell_type": "code",
   "execution_count": 8,
   "metadata": {},
   "outputs": [],
   "source": [
    "gender_calculated_measures = tc.load(\"data/calculated_measures.zip\")"
   ]
  },
  {
   "cell_type": "code",
   "execution_count": 9,
   "metadata": {},
   "outputs": [],
   "source": [
    "gender_measures_wc = dict()\n",
    "for gender in genders:\n",
    "    gender_measures_wc[gender] = []\n",
    "    for index in range(0,5):\n",
    "        gender_measures_wc[gender].append(gender_measures[gender][index])\n",
    "        if index == 1:\n",
    "            gender_measures_wc[gender].append(gender_measures[gender][index])\n",
    "gender_measures = gender_measures_wc"
   ]
  },
  {
   "cell_type": "code",
   "execution_count": 13,
   "metadata": {},
   "outputs": [
    {
     "name": "stdout",
     "output_type": "stream",
     "text": [
      "male errors:\n",
      "                 best           min        max        mean        std\n",
      "bust_chest_girth   19   0.048316956   4.917015   1.3688946  1.0689367\n",
      "waist_girth        33   0.008003235  2.1719513   0.6310151  0.5437107\n",
      "hip_girth          13  0.0023117065  1.2593384  0.45648277  0.3605611\n",
      "thigh_girth        54   0.004257202  1.8026123  0.70295495  0.5112756\n",
      "upper_arm_girth    38   0.002937317  0.7723694    0.318335  0.2103261\n",
      "neck_girth        496  0.0025863647  2.4173927   0.7392074  0.5782629\n",
      "\n",
      "female errors:\n",
      "                 best          min        max        mean         std\n",
      "bust_chest_girth   14   0.16119385   4.739174   1.8618696   1.1967944\n",
      "waist_girth        30  0.014572144  3.6633835   1.0967818   0.9472004\n",
      "hip_girth          10  0.057029724  5.4276123   1.2659556   1.1800628\n",
      "thigh_girth        47  0.019634247  3.2767715  0.86906433  0.68342984\n",
      "upper_arm_girth    34  0.030994415  1.6408348   0.6151817  0.38860407\n",
      "neck_girth        418  0.016311646  1.5304298   0.5129456  0.36260092\n"
     ]
    }
   ],
   "source": [
    "best_gender_measures = dict() ## caso médio\n",
    "for idx, gender in enumerate(genders):\n",
    "    best_gender_measures[gender] = []\n",
    "    for index, curve in enumerate(our_semantic[:-2]):\n",
    "        measured = gender_measures[gender][index].T[::2].T\n",
    "        ground_truth = mfd_gender_measures[gender][curve][::2]\n",
    "        result = (measured - tc.FloatTensor(ground_truth/10).unsqueeze(0)).abs()\n",
    "        min_rows_values = result.mean(1)\n",
    "        min_columns_values, min_columns_indices = min_rows_values.min(0)\n",
    "        best = min_columns_indices\n",
    "        best_gender_measures[gender].append((\n",
    "            best.numpy(),\n",
    "            result[best].min().numpy(),\n",
    "            result[best].max().numpy(),\n",
    "            result[best].mean().numpy(),\n",
    "            result[best].std().numpy()\n",
    "        ))\n",
    "gender_results = {\n",
    "    'male': pd.DataFrame(best_gender_measures['male'], columns=['best','min', 'max', 'mean', 'std'], index=our_semantic[:-2]),\n",
    "    'female': pd.DataFrame(best_gender_measures['female'], columns=['best','min', 'max', 'mean', 'std'], index=our_semantic[:-2])\n",
    "}\n",
    "print(\"male errors:\")\n",
    "print(gender_results['male'])\n",
    "print(\"\\nfemale errors:\")\n",
    "print(gender_results['female'])\n",
    "\n",
    "tc.save(gender_results, \"data/best_gender_curves.zip\")"
   ]
  }
 ],
 "metadata": {
  "kernelspec": {
   "display_name": "Python 3",
   "language": "python",
   "name": "python3"
  },
  "language_info": {
   "codemirror_mode": {
    "name": "ipython",
    "version": 3
   },
   "file_extension": ".py",
   "mimetype": "text/x-python",
   "name": "python",
   "nbconvert_exporter": "python",
   "pygments_lexer": "ipython3",
   "version": "3.10.12"
  },
  "orig_nbformat": 4
 },
 "nbformat": 4,
 "nbformat_minor": 2
}
