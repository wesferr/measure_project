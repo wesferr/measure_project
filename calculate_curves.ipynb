{
 "cells": [
  {
   "cell_type": "code",
   "execution_count": 1,
   "metadata": {},
   "outputs": [],
   "source": [
    "import torch as tc\n",
    "import pandas as pd\n",
    "import numpy as np\n",
    "from src.bbox import BBox\n",
    "import open3d as otd\n",
    "from tqdm import tqdm\n",
    "import matplotlib.pyplot as plt\n",
    "otd_vector3d = otd.utility.Vector3dVector\n",
    "from src.star.star import STAR\n",
    "from src.curve_utils import CurveUtils\n",
    "from src.curve_generator import CurveGenerator\n",
    "from src.mesh_manipulation import save_obj\n",
    "device = tc.device(\"cuda\" if tc.cuda.is_available() else \"cpu\")\n",
    "genders = ['female', 'male']\n",
    "male = ['male']\n",
    "female = ['female']"
   ]
  },
  {
   "cell_type": "code",
   "execution_count": 2,
   "metadata": {},
   "outputs": [],
   "source": [
    "their_semantics = [\n",
    "    'Bust girth',\n",
    "    'Waist girth',\n",
    "    'Hip girth',\n",
    "    'Thigh girth R',\n",
    "    'Upper arm girth R',\n",
    "    'Neck girth',\n",
    "    'Back neck point to waist',\n",
    "    'Height (m)',\n",
    "]\n",
    "our_semantic = [\n",
    "    'bust_chest_girth', # 5.3.4\n",
    "    'waist_girth', # 5.3.10\n",
    "    'hip_girth', # 5.3.13\n",
    "    'thigh_girth', # 5.3.20\n",
    "    'upper_arm_girth', # 5.3.16\n",
    "    'neck_girth', # 5.3.2\n",
    "    'neck_waist',\n",
    "    'stature', # 5.1.1\n",
    "]\n",
    "\n",
    "curve_index = {\n",
    "    'neck_girth':4, # 5.3.2\n",
    "    'bust_chest_girth': 0, # 5.3.4\n",
    "    'waist_girth': 1, # 5.3.10\n",
    "    'hip_girth': 1, # 5.3.13\n",
    "    'upper_arm_girth': 3, # 5.3.16\n",
    "    'thigh_girth': 2, # 5.3.20\n",
    "}"
   ]
  },
  {
   "cell_type": "code",
   "execution_count": 3,
   "metadata": {},
   "outputs": [],
   "source": [
    "subdivided_bodies = tc.load('data/subdivided_bodies.pt')\n",
    "measures = pd.read_pickle(f'data/cleaned_measures.zip')\n",
    "measures.index = measures['Subject']\n",
    "measures = measures[measures['Measuring station'] == \"MOVE4D\"]\n",
    "\n",
    "mfd_gender_measures = dict()\n",
    "for gender in genders:\n",
    "    mfd_gender_measures[gender] = measures[measures['Sex'] == gender]\n",
    "    mfd_gender_measures[gender] = mfd_gender_measures[gender][their_semantics]\n",
    "    mfd_gender_measures[gender].columns = our_semantic\n",
    "    mfd_gender_measures[gender]['stature'] *= 1000"
   ]
  },
  {
   "cell_type": "code",
   "execution_count": 4,
   "metadata": {},
   "outputs": [],
   "source": [
    "selected_subjects = dict()\n",
    "selected_measures = dict()\n",
    "\n",
    "for gender in genders:\n",
    "    gender_measures = measures[measures['Sex'] == gender]\n",
    "    temp_measures = gender_measures[their_semantics].iloc[::2]\n",
    "    selected_subjects[gender] = 'IEEEP2_07' if gender == 'female' else 'IEEEP2_04'\n",
    "    selected_measures[gender] = temp_measures.loc[selected_subjects[gender]]\n",
    "    selected_subjects[gender] = temp_measures.index.get_loc(selected_subjects[gender])*2\n",
    "    selected_measures[gender].index = our_semantic\n",
    "    selected_measures[gender]['stature'] *= 1000"
   ]
  },
  {
   "cell_type": "code",
   "execution_count": 5,
   "metadata": {},
   "outputs": [],
   "source": [
    "body = subdivided_bodies['vertices']['female'][selected_subjects['female']]\n",
    "template = subdivided_bodies['faces']['female']+1"
   ]
  },
  {
   "cell_type": "code",
   "execution_count": 6,
   "metadata": {},
   "outputs": [
    {
     "name": "stdout",
     "output_type": "stream",
     "text": [
      "SEGMENTING FEMALE BODIES"
     ]
    },
    {
     "name": "stderr",
     "output_type": "stream",
     "text": [
      "processing body:  98%|█████████▊| 44/45 [06:51<00:09,  9.35s/it]\n"
     ]
    },
    {
     "name": "stdout",
     "output_type": "stream",
     "text": [
      "SEGMENTING MALE BODIES"
     ]
    },
    {
     "name": "stderr",
     "output_type": "stream",
     "text": [
      "processing body:  98%|█████████▊| 44/45 [07:51<00:10, 10.72s/it]\n"
     ]
    }
   ],
   "source": [
    "gender_curves = dict()\n",
    "for gender in genders:\n",
    "    print(f'SEGMENTING {gender.upper()} BODIES', end='')\n",
    "    faces = subdivided_bodies['faces'][gender].to(device)\n",
    "    bodies = subdivided_bodies['vertices'][gender]\n",
    "    body = bodies[selected_subjects[gender]].to(device)\n",
    "    measures = selected_measures[gender]\n",
    "    result = CurveGenerator.get_curves(body, measures, faces, device, gender)\n",
    "    gender_curves[gender] = result[0]\n",
    "tc.save(gender_curves, \"data/gender_curves.zip\")"
   ]
  },
  {
   "cell_type": "code",
   "execution_count": 7,
   "metadata": {},
   "outputs": [
    {
     "name": "stdout",
     "output_type": "stream",
     "text": [
      "MEASURING FEMALE BODIES"
     ]
    },
    {
     "name": "stderr",
     "output_type": "stream",
     "text": [
      "100%|██████████| 302/302 [00:31<00:00,  9.70it/s]\n",
      "100%|██████████| 353/353 [00:25<00:00, 13.66it/s]\n",
      "100%|██████████| 604/604 [00:42<00:00, 14.36it/s]\n",
      "100%|██████████| 402/402 [00:27<00:00, 14.63it/s]\n",
      "100%|██████████| 6040/6040 [07:17<00:00, 13.81it/s]\n"
     ]
    },
    {
     "name": "stdout",
     "output_type": "stream",
     "text": [
      "MEASURING MALE BODIES"
     ]
    },
    {
     "name": "stderr",
     "output_type": "stream",
     "text": [
      "100%|██████████| 338/338 [00:32<00:00, 10.44it/s]\n",
      "100%|██████████| 395/395 [00:25<00:00, 15.28it/s]\n",
      "100%|██████████| 676/676 [00:43<00:00, 15.39it/s]\n",
      "100%|██████████| 450/450 [00:30<00:00, 14.52it/s]\n",
      "100%|██████████| 6760/6760 [08:07<00:00, 13.87it/s]\n"
     ]
    }
   ],
   "source": [
    "gender_measures = dict()\n",
    "for gender in genders:\n",
    "    print(f'MEASURING {gender.upper()} BODIES', end='')\n",
    "    gender_measures[gender] = [[]]*5\n",
    "    for segments_index, curves_segments in enumerate(gender_curves[gender]):\n",
    "        gender_measures[gender][segments_index] = []\n",
    "        for curves_index, curves in enumerate(tqdm(curves_segments)): # bust, torso, leg, arm, neck\n",
    "            \n",
    "            gender_measures[gender][segments_index].append([])\n",
    "            for body in subdivided_bodies['vertices'][gender]:\n",
    "                position = CurveUtils.generate_positions(tc.FloatTensor(curves).to(device), body.to(device))\n",
    "                calculated_measures = CurveUtils.calculate_distances(position)\n",
    "                gender_measures[gender][segments_index][curves_index].append(calculated_measures)\n",
    "\n",
    "            calculated_measures = gender_measures[gender][segments_index][curves_index]\n",
    "            gender_measures[gender][segments_index][curves_index] = tc.FloatTensor(calculated_measures)\n",
    "        gender_measures[gender][segments_index] = tc.row_stack(gender_measures[gender][segments_index])\n",
    "\n",
    "tc.save(gender_measures, \"data/calculated_measures.zip\")\n"
   ]
  },
  {
   "cell_type": "code",
   "execution_count": 10,
   "metadata": {},
   "outputs": [
    {
     "name": "stdout",
     "output_type": "stream",
     "text": [
      "male errors:\n",
      "                  best           min         max        mean         std\n",
      "bust_chest_girth   187   0.050933838   4.6888275   1.1817387   1.0458738\n",
      "waist_girth        335   0.048301697   1.6495056   0.5694864   0.4000256\n",
      "hip_girth          132   0.007156372   1.2815323   0.4521351   0.3367785\n",
      "thigh_girth        543   0.037849426   1.9917145  0.68962806   0.5091672\n",
      "upper_arm_girth    390  0.0028152466  0.90377045    0.312722  0.20489208\n",
      "neck_girth        5268    0.01726532   2.3889008   0.6928124   0.5737223\n",
      "\n",
      "female errors:\n",
      "                  best           min        max        mean         std\n",
      "bust_chest_girth   147   0.020835876   4.166733   1.7483453   1.2649621\n",
      "waist_girth        301  0.0072021484  3.5882034   1.0795076    0.954025\n",
      "hip_girth          109   0.065208435  4.9380493   1.1920289   1.0881943\n",
      "thigh_girth        472    0.05659485   3.587326  0.82730645   0.7422466\n",
      "upper_arm_girth    346   0.014976501  1.3496666  0.54173285  0.35838273\n",
      "neck_girth        3800  0.0028457642  1.2863541  0.49442312  0.34019846\n"
     ]
    }
   ],
   "source": [
    "best_gender_measures = dict() ## caso médio\n",
    "for idx, gender in enumerate(genders):\n",
    "    best_gender_measures[gender] = []\n",
    "    for index, curve in enumerate(our_semantic[:-2]):\n",
    "        measured = gender_measures[gender][index].T[::2].T\n",
    "        ground_truth = mfd_gender_measures[gender][curve][::2]\n",
    "        result = (measured - tc.FloatTensor(ground_truth/10).unsqueeze(0)).abs()\n",
    "        min_rows_values = result.mean(1)\n",
    "        min_columns_values, min_columns_indices = min_rows_values.min(0)\n",
    "        best = min_columns_indices\n",
    "        best_gender_measures[gender].append((\n",
    "            best.numpy(),\n",
    "            result[best].min().numpy(),\n",
    "            result[best].max().numpy(),\n",
    "            result[best].mean().numpy(),\n",
    "            result[best].std().numpy()\n",
    "        ))\n",
    "gender_results = {\n",
    "    'male': pd.DataFrame(best_gender_measures['male'], columns=['best','min', 'max', 'mean', 'std'], index=our_semantic[:-2]),\n",
    "    'female': pd.DataFrame(best_gender_measures['female'], columns=['best','min', 'max', 'mean', 'std'], index=our_semantic[:-2])\n",
    "}\n",
    "print(\"male errors:\")\n",
    "print(gender_results['male'])\n",
    "print(\"\\nfemale errors:\")\n",
    "print(gender_results['female'])\n",
    "\n",
    "tc.save(gender_results, \"data/best_gender_curves.zip\")"
   ]
  },
  {
   "cell_type": "code",
   "execution_count": 11,
   "metadata": {},
   "outputs": [],
   "source": [
    "best_gender_curves = dict()\n",
    "for gender in genders:\n",
    "    all_positions = []\n",
    "    best_gender_curves[gender] = []\n",
    "    for index, curve in enumerate(our_semantic[:-2]):\n",
    "        best = gender_results[gender].loc[curve]['best']\n",
    "        coordinates = gender_curves[gender][curve_index[curve]][best]\n",
    "        best_gender_curves[gender].append(coordinates)\n",
    "        faces = subdivided_bodies['faces'][gender].to(device)\n",
    "        bodies = subdivided_bodies['vertices'][gender]\n",
    "        body = bodies[29].to(device)\n",
    "        position = CurveUtils.generate_positions(tc.FloatTensor(coordinates).to(device), body.to(device))\n",
    "        all_positions.append(position)\n",
    "tc.save(best_gender_curves, 'data/selected_gender_curves.zip')"
   ]
  },
  {
   "cell_type": "code",
   "execution_count": null,
   "metadata": {},
   "outputs": [],
   "source": []
  }
 ],
 "metadata": {
  "kernelspec": {
   "display_name": "Python 3",
   "language": "python",
   "name": "python3"
  },
  "language_info": {
   "codemirror_mode": {
    "name": "ipython",
    "version": 3
   },
   "file_extension": ".py",
   "mimetype": "text/x-python",
   "name": "python",
   "nbconvert_exporter": "python",
   "pygments_lexer": "ipython3",
   "version": "3.10.12"
  },
  "orig_nbformat": 4
 },
 "nbformat": 4,
 "nbformat_minor": 2
}
