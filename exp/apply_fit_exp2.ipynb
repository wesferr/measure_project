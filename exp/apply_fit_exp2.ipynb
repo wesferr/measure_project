{
 "cells": [
  {
   "cell_type": "code",
   "execution_count": null,
   "metadata": {},
   "outputs": [],
   "source": [
    "import os\n",
    "import torch as tc\n",
    "import numpy as np\n",
    "import open3d as otd\n",
    "import pandas as pd\n",
    "from tqdm import tqdm as pgb\n",
    "from star.star import STAR\n",
    "from torch.autograd import Variable\n",
    "from pytorch3d.loss import point_mesh_face_distance\n",
    "from pytorch3d.structures import Meshes, Pointclouds\n",
    "\n",
    "device = tc.device(\"cuda\" if tc.cuda.is_available() else \"cpu\")"
   ]
  },
  {
   "cell_type": "markdown",
   "metadata": {},
   "source": [
    "## BODIES LOADING"
   ]
  },
  {
   "cell_type": "code",
   "execution_count": null,
   "metadata": {},
   "outputs": [],
   "source": [
    "all_vertices = {\n",
    "    \"male\": [],\n",
    "    \"female\": []\n",
    "}\n",
    "\n",
    "all_faces = {\n",
    "    \"male\" : [],\n",
    "    \"female\": []\n",
    "}\n",
    "\n",
    "for gender in ['female', 'male']:\n",
    "    files_path = f\"./data/MOVE4D/{gender}/\"\n",
    "    files = os.listdir(files_path)\n",
    "    files.sort()\n",
    "    for file in pgb(files, desc=f\"loading {gender} body\"):\n",
    "\n",
    "        mesh = otd.io.read_triangle_mesh(files_path+file)\n",
    "        mesh.translate([0,0,0], relative=False)\n",
    "        mesh.scale(0.001, center=mesh.get_center())\n",
    "        all_vertices[gender].append(tc.FloatTensor(np.array(mesh.vertices)).to(device))\n",
    "        all_faces[gender].append(tc.LongTensor(np.array(mesh.triangles)).to(device))\n"
   ]
  },
  {
   "cell_type": "markdown",
   "metadata": {},
   "source": [
    "## FUNCTIONS DEFINITIONS"
   ]
  },
  {
   "cell_type": "code",
   "execution_count": null,
   "metadata": {},
   "outputs": [],
   "source": [
    "def zero_poses(poses):\n",
    "    poses = poses.clone().detach()\n",
    "    poses[:,12:17] = 0\n",
    "    poses[:,54:65] = 0\n",
    "    poses = Variable(poses, requires_grad=True)\n",
    "    return poses\n",
    "\n",
    "def calculate_loss(vertices, faces, scan_meshes, scan_pc):\n",
    "    star_meshes = Meshes(verts=vertices, faces=faces)\n",
    "    s2m = point_mesh_face_distance(star_meshes, scan_pc)\n",
    "    return s2m\n"
   ]
  },
  {
   "cell_type": "markdown",
   "metadata": {},
   "source": [
    "## BODIES FITTING"
   ]
  },
  {
   "cell_type": "code",
   "execution_count": null,
   "metadata": {},
   "outputs": [],
   "source": [
    "def training(scan_mesh, scan_pc, steps, step_interval, gender):\n",
    "    nbetas=0\n",
    "    poses = tc.FloatTensor(tc.zeros((1, 72))).to(device)\n",
    "    poses = Variable(poses, requires_grad=True)\n",
    "    betas = tc.FloatTensor(tc.zeros((1, nbetas))).to(device)\n",
    "    betas = Variable(betas, requires_grad=True)\n",
    "    trans = tc.FloatTensor(tc.zeros((1, 3))).to(device)\n",
    "    trans = Variable(trans, requires_grad=True)\n",
    "    star = STAR(gender=gender, num_betas=nbetas)\n",
    "    star_faces = np.repeat(star.faces[None,...],1,axis=0).to(device)\n",
    "\n",
    "    # training model\n",
    "    learning_rate = 0.02\n",
    "    epochs = 10000\n",
    "    epochs_iterator = pgb(range(epochs), desc=f\"optimizing {gender} - loss: inf\", position=2)\n",
    "    for it in epochs_iterator:\n",
    "\n",
    "        elapsed_time = epochs_iterator.format_dict['elapsed']\n",
    "        \n",
    "        if it == 20:\n",
    "            poses = zero_poses(poses)\n",
    "\n",
    "        if it%step_interval == 0:\n",
    "\n",
    "            if nbetas < 300:\n",
    "                nbetas += steps\n",
    "                if nbetas > 300:\n",
    "                    temp_steps = nbetas - 300\n",
    "                    steps = steps - temp_steps\n",
    "                    nbetas = 300\n",
    "                new_betas = tc.FloatTensor(np.zeros((1, nbetas))).to(device)\n",
    "                new_betas[:,:nbetas-steps] = betas\n",
    "                betas = Variable(new_betas, requires_grad=True)\n",
    "                star = STAR(gender=gender, num_betas=nbetas)\n",
    "\n",
    "            optimizer = tc.optim.Adam([trans, betas, poses], lr=learning_rate)\n",
    "        d = star(betas=betas, pose=poses, trans=trans)\n",
    "        optimizer.zero_grad()\n",
    "        loss = calculate_loss(d, star_faces, scan_mesh,scan_pc)\n",
    "        loss.backward(retain_graph=True)\n",
    "        optimizer.step()\n",
    "        epochs_iterator.set_description(f\"optimizing {gender} - loss: {loss}\")\n",
    "        if loss < 1e-6:\n",
    "            break\n",
    "        if elapsed_time > 600:\n",
    "            break\n",
    "    return [gender, it, loss.detach().cpu().numpy(), elapsed_time, steps, step_interval]"
   ]
  },
  {
   "cell_type": "code",
   "execution_count": null,
   "metadata": {
    "scrolled": true
   },
   "outputs": [],
   "source": [
    "try:\n",
    "    status_data = pd.read_csv(\"status_data_2.csv\", index_col=0)\n",
    "except Exception as e:\n",
    "    status_data = pd.DataFrame(columns=[\"gender\", 'iteration', 'loss', 'elapsed_time', 'steps', 'steps interval'])\n",
    "    \n",
    "processed_intervals = len(status_data.index)//60\n",
    "processed_steps = len(status_data.index)%60\n",
    "\n",
    "for gender in [\"female\", 'male']:\n",
    "\n",
    "    scan_mesh = Meshes(verts=all_vertices[gender], faces=all_faces[gender])[0]\n",
    "    scan_pc = Pointclouds(points=all_vertices[gender])[0]\n",
    "    interval_iterator = pgb(range(50, 501, 50)[processed_intervals:], desc=\"interval iterator\", position=0)\n",
    "    for interval in interval_iterator:\n",
    "        steps_iterator = pgb(range(5, 301, 5)[processed_steps:], desc=\"steps iterator\", position=1, leave=False)\n",
    "        for steps in steps_iterator:\n",
    "            status_data.loc[len(status_data.index)] = training(scan_mesh, scan_pc, steps, interval, gender)\n",
    "            status_data.to_csv(\"status_data_2.csv\")\n"
   ]
  },
  {
   "cell_type": "code",
   "execution_count": null,
   "metadata": {},
   "outputs": [],
   "source": []
  }
 ],
 "metadata": {
  "kernelspec": {
   "display_name": "Python 3 (ipykernel)",
   "language": "python",
   "name": "python3"
  },
  "language_info": {
   "codemirror_mode": {
    "name": "ipython",
    "version": 3
   },
   "file_extension": ".py",
   "mimetype": "text/x-python",
   "name": "python",
   "nbconvert_exporter": "python",
   "pygments_lexer": "ipython3",
   "version": "3.10.6"
  },
  "vscode": {
   "interpreter": {
    "hash": "916dbcbb3f70747c44a77c7bcd40155683ae19c65e1c03b4aa3499c5328201f1"
   }
  }
 },
 "nbformat": 4,
 "nbformat_minor": 2
}
