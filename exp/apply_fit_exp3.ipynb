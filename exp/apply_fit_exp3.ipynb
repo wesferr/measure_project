{
 "cells": [
  {
   "cell_type": "code",
   "execution_count": 1,
   "id": "2333edc4",
   "metadata": {},
   "outputs": [],
   "source": [
    "import os\n",
    "import torch as tc\n",
    "import numpy as np\n",
    "from tqdm import tqdm\n",
    "\n",
    "from star.star import STAR\n",
    "\n",
    "from torch.autograd import Variable\n",
    "from pytorch3d.loss import point_mesh_face_distance\n",
    "from pytorch3d.structures import Meshes, Pointclouds\n",
    "from curve_utils import CurveUtils\n",
    "from mesh_manipulation import load_mesh, load_template, save_obj\n",
    "\n",
    "device = tc.device(\"cuda\" if tc.cuda.is_available() else \"cpu\")"
   ]
  },
  {
   "cell_type": "markdown",
   "id": "11d04f6e",
   "metadata": {},
   "source": [
    "# functions"
   ]
  },
  {
   "cell_type": "code",
   "execution_count": 2,
   "id": "7fa78139",
   "metadata": {},
   "outputs": [],
   "source": [
    "def zero_poses(poses):\n",
    "    poses = poses.clone().detach()\n",
    "    poses[:,12:17] = 0\n",
    "    poses[:,54:65] = 0\n",
    "    poses = Variable(poses, requires_grad=True)\n",
    "    return poses"
   ]
  },
  {
   "cell_type": "markdown",
   "id": "890a6831",
   "metadata": {},
   "source": [
    "# fiting"
   ]
  },
  {
   "cell_type": "code",
   "execution_count": 3,
   "id": "479b39bd",
   "metadata": {},
   "outputs": [
    {
     "name": "stderr",
     "output_type": "stream",
     "text": [
      "loading female bodies: 100%|████████████████████| 72/72 [00:08<00:00,  8.71it/s]\n",
      "optimizing - loss: 0.000781196285970509:   3%| | 127/5000 [00:21<13:30,  6.01it/\n"
     ]
    },
    {
     "ename": "KeyboardInterrupt",
     "evalue": "",
     "output_type": "error",
     "traceback": [
      "\u001b[0;31m---------------------------------------------------------------------------\u001b[0m",
      "\u001b[0;31mKeyboardInterrupt\u001b[0m                         Traceback (most recent call last)",
      "\u001b[0;32m/tmp/ipykernel_4067681/1971670194.py\u001b[0m in \u001b[0;36m<module>\u001b[0;34m\u001b[0m\n\u001b[1;32m     65\u001b[0m             \u001b[0mstar_meshes\u001b[0m \u001b[0;34m=\u001b[0m \u001b[0mMeshes\u001b[0m\u001b[0;34m(\u001b[0m\u001b[0mverts\u001b[0m\u001b[0;34m=\u001b[0m\u001b[0md\u001b[0m\u001b[0;34m,\u001b[0m \u001b[0mfaces\u001b[0m\u001b[0;34m=\u001b[0m\u001b[0mstar_faces\u001b[0m\u001b[0;34m)\u001b[0m\u001b[0;34m\u001b[0m\u001b[0;34m\u001b[0m\u001b[0m\n\u001b[1;32m     66\u001b[0m             \u001b[0mloss\u001b[0m \u001b[0;34m=\u001b[0m \u001b[0mpoint_mesh_face_distance\u001b[0m\u001b[0;34m(\u001b[0m\u001b[0mstar_meshes\u001b[0m\u001b[0;34m,\u001b[0m \u001b[0mbody\u001b[0m\u001b[0;34m)\u001b[0m\u001b[0;34m\u001b[0m\u001b[0;34m\u001b[0m\u001b[0m\n\u001b[0;32m---> 67\u001b[0;31m             \u001b[0mloss\u001b[0m\u001b[0;34m.\u001b[0m\u001b[0mbackward\u001b[0m\u001b[0;34m(\u001b[0m\u001b[0mretain_graph\u001b[0m\u001b[0;34m=\u001b[0m\u001b[0;32mTrue\u001b[0m\u001b[0;34m)\u001b[0m\u001b[0;34m\u001b[0m\u001b[0;34m\u001b[0m\u001b[0m\n\u001b[0m\u001b[1;32m     68\u001b[0m             \u001b[0mepochs_iterator\u001b[0m\u001b[0;34m.\u001b[0m\u001b[0mset_description\u001b[0m\u001b[0;34m(\u001b[0m\u001b[0;34mf\"optimizing - loss: {loss}\"\u001b[0m\u001b[0;34m)\u001b[0m\u001b[0;34m\u001b[0m\u001b[0;34m\u001b[0m\u001b[0m\n\u001b[1;32m     69\u001b[0m             \u001b[0moptimizer\u001b[0m\u001b[0;34m.\u001b[0m\u001b[0mstep\u001b[0m\u001b[0;34m(\u001b[0m\u001b[0;34m)\u001b[0m\u001b[0;34m\u001b[0m\u001b[0;34m\u001b[0m\u001b[0m\n",
      "\u001b[0;32m~/.local/lib/python3.10/site-packages/torch/_tensor.py\u001b[0m in \u001b[0;36mbackward\u001b[0;34m(self, gradient, retain_graph, create_graph, inputs)\u001b[0m\n\u001b[1;32m    394\u001b[0m                 \u001b[0mcreate_graph\u001b[0m\u001b[0;34m=\u001b[0m\u001b[0mcreate_graph\u001b[0m\u001b[0;34m,\u001b[0m\u001b[0;34m\u001b[0m\u001b[0;34m\u001b[0m\u001b[0m\n\u001b[1;32m    395\u001b[0m                 inputs=inputs)\n\u001b[0;32m--> 396\u001b[0;31m         \u001b[0mtorch\u001b[0m\u001b[0;34m.\u001b[0m\u001b[0mautograd\u001b[0m\u001b[0;34m.\u001b[0m\u001b[0mbackward\u001b[0m\u001b[0;34m(\u001b[0m\u001b[0mself\u001b[0m\u001b[0;34m,\u001b[0m \u001b[0mgradient\u001b[0m\u001b[0;34m,\u001b[0m \u001b[0mretain_graph\u001b[0m\u001b[0;34m,\u001b[0m \u001b[0mcreate_graph\u001b[0m\u001b[0;34m,\u001b[0m \u001b[0minputs\u001b[0m\u001b[0;34m=\u001b[0m\u001b[0minputs\u001b[0m\u001b[0;34m)\u001b[0m\u001b[0;34m\u001b[0m\u001b[0;34m\u001b[0m\u001b[0m\n\u001b[0m\u001b[1;32m    397\u001b[0m \u001b[0;34m\u001b[0m\u001b[0m\n\u001b[1;32m    398\u001b[0m     \u001b[0;32mdef\u001b[0m \u001b[0mregister_hook\u001b[0m\u001b[0;34m(\u001b[0m\u001b[0mself\u001b[0m\u001b[0;34m,\u001b[0m \u001b[0mhook\u001b[0m\u001b[0;34m)\u001b[0m\u001b[0;34m:\u001b[0m\u001b[0;34m\u001b[0m\u001b[0;34m\u001b[0m\u001b[0m\n",
      "\u001b[0;32m~/.local/lib/python3.10/site-packages/torch/autograd/__init__.py\u001b[0m in \u001b[0;36mbackward\u001b[0;34m(tensors, grad_tensors, retain_graph, create_graph, grad_variables, inputs)\u001b[0m\n\u001b[1;32m    171\u001b[0m     \u001b[0;31m# some Python versions print out the first line of a multi-line function\u001b[0m\u001b[0;34m\u001b[0m\u001b[0;34m\u001b[0m\u001b[0m\n\u001b[1;32m    172\u001b[0m     \u001b[0;31m# calls in the traceback and some print out the last line\u001b[0m\u001b[0;34m\u001b[0m\u001b[0;34m\u001b[0m\u001b[0m\n\u001b[0;32m--> 173\u001b[0;31m     Variable._execution_engine.run_backward(  # Calls into the C++ engine to run the backward pass\n\u001b[0m\u001b[1;32m    174\u001b[0m         \u001b[0mtensors\u001b[0m\u001b[0;34m,\u001b[0m \u001b[0mgrad_tensors_\u001b[0m\u001b[0;34m,\u001b[0m \u001b[0mretain_graph\u001b[0m\u001b[0;34m,\u001b[0m \u001b[0mcreate_graph\u001b[0m\u001b[0;34m,\u001b[0m \u001b[0minputs\u001b[0m\u001b[0;34m,\u001b[0m\u001b[0;34m\u001b[0m\u001b[0;34m\u001b[0m\u001b[0m\n\u001b[1;32m    175\u001b[0m         allow_unreachable=True, accumulate_grad=True)  # Calls into the C++ engine to run the backward pass\n",
      "\u001b[0;31mKeyboardInterrupt\u001b[0m: "
     ]
    }
   ],
   "source": [
    "gender_betas = {}\n",
    "gender_poses = {}\n",
    "gender_trans = {}\n",
    "\n",
    "list_of_loss = {\n",
    "    \"male\": {},\n",
    "    \"female\": {}\n",
    "}\n",
    "\n",
    "for gender in ['female', 'male']:\n",
    "\n",
    "    # loading bodies\n",
    "    files_path = f\"./data/MOVE4D/{gender}/\"\n",
    "    files = os.listdir(files_path)\n",
    "    files.sort()\n",
    "\n",
    "    all_vertices = []\n",
    "    all_faces = []\n",
    "    files_iterator = tqdm(files, desc=f\"loading {gender} bodies\", position=0)\n",
    "    for file in files_iterator:\n",
    "        body_vertices = load_mesh(files_path + file, device)\n",
    "        body_vertices *= 0.001\n",
    "        body_vertices -= body_vertices.mean(axis=0)\n",
    "        all_vertices.append(body_vertices)\n",
    "\n",
    "    body = Pointclouds(points=all_vertices)[0]\n",
    "\n",
    "    for i in range(10):\n",
    "\n",
    "        list_of_loss[gender][i] = []\n",
    "\n",
    "        # training model\n",
    "        nbetas = 0\n",
    "        learning_rate = 0.02\n",
    "        epochs = 5000\n",
    "        step = 250\n",
    "\n",
    "        poses = tc.FloatTensor(tc.zeros((1, 72))).to(device)\n",
    "        poses = Variable(poses, requires_grad=True)\n",
    "        betas = tc.FloatTensor(tc.zeros((1, nbetas))).to(device)\n",
    "        betas = Variable(betas, requires_grad=True)\n",
    "        trans = tc.FloatTensor(tc.zeros((1, 3))).to(device)\n",
    "        trans = Variable(trans, requires_grad=True)\n",
    "        star = STAR(gender=gender, num_betas=nbetas)\n",
    "        star_faces = star.faces[None,...].to(device)\n",
    "\n",
    "        optimizer = tc.optim.Adam([trans, betas, poses], lr=learning_rate)\n",
    "        epochs_iterator = tqdm(range(epochs), desc=f\"optimizing - loss: inf\")\n",
    "        for it in epochs_iterator:\n",
    "\n",
    "            if it == 20:\n",
    "                poses = zero_poses(poses)\n",
    "\n",
    "            if it%step == 0:\n",
    "                if nbetas < 300:\n",
    "                    nbetas += 100\n",
    "                    new_betas = tc.FloatTensor(np.zeros((1, nbetas))).to(device)\n",
    "                    new_betas[:,:nbetas-100] = betas\n",
    "                    betas = Variable(new_betas, requires_grad=True)\n",
    "                    star = STAR(gender=gender, num_betas=nbetas)\n",
    "                optimizer = tc.optim.Adam([trans, betas, poses], lr=learning_rate)\n",
    "                \n",
    "            d = star(betas=betas, pose=poses, trans=trans)\n",
    "            optimizer.zero_grad()\n",
    "            star_meshes = Meshes(verts=d, faces=star_faces)\n",
    "            loss = point_mesh_face_distance(star_meshes, body)\n",
    "            loss.backward(retain_graph=True)\n",
    "            epochs_iterator.set_description(f\"optimizing - loss: {loss}\")\n",
    "            optimizer.step()\n",
    "            elapsed_time = epochs_iterator.format_dict['elapsed']\n",
    "            if loss < 2e-5:\n",
    "                break\n",
    "            if elapsed_time > 600:\n",
    "                break\n",
    "            \n",
    "            list_of_loss[gender][i].append(loss.detach().cpu().numpy())"
   ]
  },
  {
   "cell_type": "code",
   "execution_count": null,
   "id": "c93899c3",
   "metadata": {},
   "outputs": [],
   "source": [
    "import pandas as pd\n",
    "loss_df = pd.DataFrame.from_dict(list_of_loss, orient='index').T"
   ]
  },
  {
   "cell_type": "code",
   "execution_count": null,
   "id": "3eb8026f",
   "metadata": {},
   "outputs": [],
   "source": [
    "loss_df.astype(float).plot(logy=True)"
   ]
  },
  {
   "cell_type": "code",
   "execution_count": null,
   "id": "8911827f",
   "metadata": {},
   "outputs": [],
   "source": [
    "loss_df.to_csv(\"status_data_3.csv\")"
   ]
  }
 ],
 "metadata": {
  "kernelspec": {
   "display_name": "Python 3 (ipykernel)",
   "language": "python",
   "name": "python3"
  },
  "language_info": {
   "codemirror_mode": {
    "name": "ipython",
    "version": 3
   },
   "file_extension": ".py",
   "mimetype": "text/x-python",
   "name": "python",
   "nbconvert_exporter": "python",
   "pygments_lexer": "ipython3",
   "version": "3.10.12"
  },
  "vscode": {
   "interpreter": {
    "hash": "916dbcbb3f70747c44a77c7bcd40155683ae19c65e1c03b4aa3499c5328201f1"
   }
  }
 },
 "nbformat": 4,
 "nbformat_minor": 5
}
