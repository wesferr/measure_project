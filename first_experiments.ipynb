{
 "cells": [
  {
   "cell_type": "code",
   "execution_count": 1,
   "metadata": {},
   "outputs": [],
   "source": [
    "import os\n",
    "import torch as tc\n",
    "import time\n",
    "from src.star.star import STAR\n",
    "from tqdm.notebook import tqdm\n",
    "from torch.autograd import Variable\n",
    "from src.mesh_manipulation import load_mesh\n",
    "from pytorch3d.loss import point_mesh_face_distance\n",
    "from pytorch3d.structures import Meshes, Pointclouds\n",
    "device = tc.device(\"cuda\" if tc.cuda.is_available() else \"cpu\")\n"
   ]
  },
  {
   "cell_type": "code",
   "execution_count": 2,
   "metadata": {},
   "outputs": [],
   "source": [
    "def zero_poses(poses):\n",
    "    poses = poses.clone().detach()\n",
    "    poses[:,12:17] = 0\n",
    "    poses[:,54:65] = 0\n",
    "    poses = Variable(poses, requires_grad=True)\n",
    "    return poses"
   ]
  },
  {
   "cell_type": "code",
   "execution_count": 3,
   "metadata": {},
   "outputs": [
    {
     "data": {
      "application/json": {
       "ascii": false,
       "bar_format": null,
       "colour": null,
       "elapsed": 0.005903720855712891,
       "initial": 0,
       "n": 0,
       "ncols": null,
       "nrows": null,
       "postfix": null,
       "prefix": "loading male bodies",
       "rate": null,
       "total": 10,
       "unit": "it",
       "unit_divisor": 1000,
       "unit_scale": false
      },
      "application/vnd.jupyter.widget-view+json": {
       "model_id": "15b69b2d6bfc46c392bc11c07ff4e366",
       "version_major": 2,
       "version_minor": 0
      },
      "text/plain": [
       "loading male bodies:   0%|          | 0/10 [00:00<?, ?it/s]"
      ]
     },
     "metadata": {},
     "output_type": "display_data"
    },
    {
     "data": {
      "application/json": {
       "ascii": false,
       "bar_format": null,
       "colour": null,
       "elapsed": 0.0052490234375,
       "initial": 0,
       "n": 0,
       "ncols": null,
       "nrows": null,
       "postfix": null,
       "prefix": "loading female bodies",
       "rate": null,
       "total": 10,
       "unit": "it",
       "unit_divisor": 1000,
       "unit_scale": false
      },
      "application/vnd.jupyter.widget-view+json": {
       "model_id": "678cc88008f8421db15b5297baed7025",
       "version_major": 2,
       "version_minor": 0
      },
      "text/plain": [
       "loading female bodies:   0%|          | 0/10 [00:00<?, ?it/s]"
      ]
     },
     "metadata": {},
     "output_type": "display_data"
    }
   ],
   "source": [
    "all_vertices = []\n",
    "for gender in ['male', 'female']:\n",
    "    files_path = f\"./data/MOVE4D/{gender}/\"\n",
    "    files = os.listdir(files_path)\n",
    "    files.sort()\n",
    "    files_iterator = tqdm(files[:10], desc=f\"loading {gender} bodies\", position=0)\n",
    "    for file in files_iterator:\n",
    "        body_vertices = load_mesh(files_path + file, device)\n",
    "        body_vertices *= 0.001\n",
    "        body_vertices -= body_vertices.mean(axis=0)\n",
    "        all_vertices.append(body_vertices)\n",
    "bodies = Pointclouds(points=all_vertices)"
   ]
  },
  {
   "cell_type": "code",
   "execution_count": 4,
   "metadata": {},
   "outputs": [
    {
     "name": "stdout",
     "output_type": "stream",
     "text": [
      "0.33370065689086914\n",
      "0.33507466316223145\n",
      "0.35886311531066895\n",
      "0.35014843940734863\n",
      "0.3678295612335205\n",
      "0.36156177520751953\n",
      "0.34595179557800293\n"
     ]
    },
    {
     "ename": "KeyboardInterrupt",
     "evalue": "",
     "output_type": "error",
     "traceback": [
      "\u001b[0;31m---------------------------------------------------------------------------\u001b[0m",
      "\u001b[0;31mKeyboardInterrupt\u001b[0m                         Traceback (most recent call last)",
      "\u001b[1;32m/home/wesley/mestrado/measure_project/first_experiments.ipynb Célula 4\u001b[0m in \u001b[0;36m2\n\u001b[1;32m     <a href='vscode-notebook-cell:/home/wesley/mestrado/measure_project/first_experiments.ipynb#W3sZmlsZQ%3D%3D?line=22'>23</a>\u001b[0m     star_meshes \u001b[39m=\u001b[39m Meshes(verts\u001b[39m=\u001b[39md, faces\u001b[39m=\u001b[39mstar_faces)\n\u001b[1;32m     <a href='vscode-notebook-cell:/home/wesley/mestrado/measure_project/first_experiments.ipynb#W3sZmlsZQ%3D%3D?line=23'>24</a>\u001b[0m     loss \u001b[39m=\u001b[39m point_mesh_face_distance(star_meshes, body)\n\u001b[0;32m---> <a href='vscode-notebook-cell:/home/wesley/mestrado/measure_project/first_experiments.ipynb#W3sZmlsZQ%3D%3D?line=24'>25</a>\u001b[0m     loss\u001b[39m.\u001b[39;49mbackward(retain_graph\u001b[39m=\u001b[39;49m\u001b[39mTrue\u001b[39;49;00m)\n\u001b[1;32m     <a href='vscode-notebook-cell:/home/wesley/mestrado/measure_project/first_experiments.ipynb#W3sZmlsZQ%3D%3D?line=25'>26</a>\u001b[0m     optimizer\u001b[39m.\u001b[39mstep()\n\u001b[1;32m     <a href='vscode-notebook-cell:/home/wesley/mestrado/measure_project/first_experiments.ipynb#W3sZmlsZQ%3D%3D?line=27'>28</a>\u001b[0m \u001b[39mprint\u001b[39m(time\u001b[39m.\u001b[39mtime() \u001b[39m-\u001b[39m initial_time)\n",
      "File \u001b[0;32m~/.local/lib/python3.10/site-packages/torch/_tensor.py:396\u001b[0m, in \u001b[0;36mTensor.backward\u001b[0;34m(self, gradient, retain_graph, create_graph, inputs)\u001b[0m\n\u001b[1;32m    387\u001b[0m \u001b[39mif\u001b[39;00m has_torch_function_unary(\u001b[39mself\u001b[39m):\n\u001b[1;32m    388\u001b[0m     \u001b[39mreturn\u001b[39;00m handle_torch_function(\n\u001b[1;32m    389\u001b[0m         Tensor\u001b[39m.\u001b[39mbackward,\n\u001b[1;32m    390\u001b[0m         (\u001b[39mself\u001b[39m,),\n\u001b[0;32m   (...)\u001b[0m\n\u001b[1;32m    394\u001b[0m         create_graph\u001b[39m=\u001b[39mcreate_graph,\n\u001b[1;32m    395\u001b[0m         inputs\u001b[39m=\u001b[39minputs)\n\u001b[0;32m--> 396\u001b[0m torch\u001b[39m.\u001b[39;49mautograd\u001b[39m.\u001b[39;49mbackward(\u001b[39mself\u001b[39;49m, gradient, retain_graph, create_graph, inputs\u001b[39m=\u001b[39;49minputs)\n",
      "File \u001b[0;32m~/.local/lib/python3.10/site-packages/torch/autograd/__init__.py:173\u001b[0m, in \u001b[0;36mbackward\u001b[0;34m(tensors, grad_tensors, retain_graph, create_graph, grad_variables, inputs)\u001b[0m\n\u001b[1;32m    168\u001b[0m     retain_graph \u001b[39m=\u001b[39m create_graph\n\u001b[1;32m    170\u001b[0m \u001b[39m# The reason we repeat same the comment below is that\u001b[39;00m\n\u001b[1;32m    171\u001b[0m \u001b[39m# some Python versions print out the first line of a multi-line function\u001b[39;00m\n\u001b[1;32m    172\u001b[0m \u001b[39m# calls in the traceback and some print out the last line\u001b[39;00m\n\u001b[0;32m--> 173\u001b[0m Variable\u001b[39m.\u001b[39;49m_execution_engine\u001b[39m.\u001b[39;49mrun_backward(  \u001b[39m# Calls into the C++ engine to run the backward pass\u001b[39;49;00m\n\u001b[1;32m    174\u001b[0m     tensors, grad_tensors_, retain_graph, create_graph, inputs,\n\u001b[1;32m    175\u001b[0m     allow_unreachable\u001b[39m=\u001b[39;49m\u001b[39mTrue\u001b[39;49;00m, accumulate_grad\u001b[39m=\u001b[39;49m\u001b[39mTrue\u001b[39;49;00m)\n",
      "\u001b[0;31mKeyboardInterrupt\u001b[0m: "
     ]
    }
   ],
   "source": [
    "for nbetas in range(10,301):\n",
    "\n",
    "    for bi, body in enumerate(bodies):\n",
    "\n",
    "\n",
    "        poses = tc.FloatTensor(tc.zeros((1, 72))).to(device)\n",
    "        poses = Variable(poses, requires_grad=True)\n",
    "        betas = tc.FloatTensor(tc.zeros((1, nbetas))).to(device)\n",
    "        betas = Variable(betas, requires_grad=True)\n",
    "        trans = tc.FloatTensor(tc.zeros((1, 3))).to(device)\n",
    "        trans = Variable(trans, requires_grad=True)\n",
    "        gender = 'male' if bi < 5 else 'female'\n",
    "        star = STAR(gender=gender, num_betas=nbetas)\n",
    "        star_faces = star.faces[None,...].to(device)\n",
    "\n",
    "        initial_time = time.time()\n",
    "\n",
    "        for it in range(5000):\n",
    "            optimizer = tc.optim.Adam([trans, betas, poses], lr=0.2)\n",
    "            d = star(betas=betas, pose=poses, trans=trans)\n",
    "            optimizer.zero_grad()\n",
    "            star_meshes = Meshes(verts=d, faces=star_faces)\n",
    "            loss = point_mesh_face_distance(star_meshes, body)\n",
    "            loss.backward(retain_graph=True)\n",
    "            optimizer.step()\n",
    "\n",
    "        print(time.time() - initial_time)"
   ]
  },
  {
   "cell_type": "code",
   "execution_count": null,
   "metadata": {},
   "outputs": [],
   "source": []
  }
 ],
 "metadata": {
  "kernelspec": {
   "display_name": "Python 3",
   "language": "python",
   "name": "python3"
  },
  "language_info": {
   "codemirror_mode": {
    "name": "ipython",
    "version": 3
   },
   "file_extension": ".py",
   "mimetype": "text/x-python",
   "name": "python",
   "nbconvert_exporter": "python",
   "pygments_lexer": "ipython3",
   "version": "3.10.12"
  },
  "orig_nbformat": 4
 },
 "nbformat": 4,
 "nbformat_minor": 2
}
