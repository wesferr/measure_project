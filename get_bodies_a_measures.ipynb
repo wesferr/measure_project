{
 "cells": [
  {
   "cell_type": "code",
   "execution_count": null,
   "metadata": {},
   "outputs": [],
   "source": [
    "import torch as tc\n",
    "from src.curve_utils import CurveUtils\n",
    "from src.mesh_manipulation import save_obj\n",
    "\n",
    "device = tc.device(\"cuda\" if tc.cuda.is_available() else \"cpu\")\n",
    "genders = ['female', ]\n",
    "our_semantic = [\n",
    "    'bust_chest_girth', # 5.3.4\n",
    "    'waist_girth', # 5.3.10\n",
    "    'hip_girth', # 5.3.13\n",
    "    'thigh_girth', # 5.3.20\n",
    "    'upper_arm_girth', # 5.3.16\n",
    "    'neck_girth', # 5.3.2\n",
    "    'neck_waist',\n",
    "    'stature', # 5.1.1\n",
    "]\n",
    "\n",
    "curve_index = {\n",
    "    'neck_girth':4, # 5.3.2\n",
    "    'bust_chest_girth': 0, # 5.3.4\n",
    "    'waist_girth': 1, # 5.3.10\n",
    "    'hip_girth': 1, # 5.3.13\n",
    "    'upper_arm_girth': 3, # 5.3.16\n",
    "    'thigh_girth': 2, # 5.3.20\n",
    "    #'neck_waist': 5\n",
    "}"
   ]
  },
  {
   "cell_type": "code",
   "execution_count": null,
   "metadata": {},
   "outputs": [],
   "source": [
    "subdivided_bodies = tc.load('data/subdivided_bodies.pt')\n",
    "gender_curves = tc.load(\"data/gender_curves.zip\")\n",
    "gender_results = tc.load(\"data/best_gender_curves.zip\")"
   ]
  },
  {
   "cell_type": "code",
   "execution_count": null,
   "metadata": {},
   "outputs": [],
   "source": [
    "for gender in genders:    \n",
    "    template = subdivided_bodies['faces'][gender]+1\n",
    "    bodies = subdivided_bodies['vertices'][gender]\n",
    "    random = tc.randint(0, bodies.shape[0], (16,))\n",
    "    bodies = bodies[random]\n",
    "\n",
    "    for idx, body in enumerate(bodies):\n",
    "\n",
    "        \n",
    "        save_obj(f\"output/body_{gender}_{idx}.obj\", pontos=body, faces=template)\n",
    "\n",
    "        all_positions = []\n",
    "        for curve_name in our_semantic[:-2]:\n",
    "            print(idx, curve_name)\n",
    "            pass\n",
    "            index = curve_index[curve_name]\n",
    "            best_id = gender_results[gender].loc[curve_name]['best']\n",
    "            best_curve = gender_curves[gender][index][best_id]\n",
    "            positions = CurveUtils.generate_positions(tc.FloatTensor(best_curve).to(device), body.to(device))\n",
    "            all_positions.extend(positions)\n",
    "            save_obj(f\"output/curves_{gender}_{idx}.obj\", pontos=all_positions)"
   ]
  },
  {
   "cell_type": "code",
   "execution_count": null,
   "metadata": {},
   "outputs": [],
   "source": []
  }
 ],
 "metadata": {
  "kernelspec": {
   "display_name": "Python 3",
   "language": "python",
   "name": "python3"
  },
  "language_info": {
   "codemirror_mode": {
    "name": "ipython",
    "version": 3
   },
   "file_extension": ".py",
   "mimetype": "text/x-python",
   "name": "python",
   "nbconvert_exporter": "python",
   "pygments_lexer": "ipython3",
   "version": "3.10.12"
  },
  "orig_nbformat": 4
 },
 "nbformat": 4,
 "nbformat_minor": 2
}
