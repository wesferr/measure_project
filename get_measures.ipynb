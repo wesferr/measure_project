{
 "cells": [
  {
   "cell_type": "code",
   "execution_count": 1,
   "metadata": {},
   "outputs": [],
   "source": [
    "import torch as tc\n",
    "import pandas as pd\n",
    "import numpy as np\n",
    "import open3d as otd\n",
    "from tqdm import tqdm\n",
    "import matplotlib.pyplot as plt\n",
    "otd_vector3d = otd.utility.Vector3dVector\n",
    "from src.star.star import STAR\n",
    "from src.curve_utils import CurveUtils\n",
    "from src.curve_generator import CurveGenerator\n",
    "from src.mesh_manipulation import save_obj\n",
    "device = tc.device(\"cuda\" if tc.cuda.is_available() else \"cpu\")\n",
    "genders = ['female', 'male']\n",
    "male = ['male']\n",
    "female = ['female']"
   ]
  },
  {
   "cell_type": "code",
   "execution_count": 2,
   "metadata": {},
   "outputs": [],
   "source": [
    "their_semantics = [\n",
    "    'Bust girth',\n",
    "    'Waist girth',\n",
    "    'Hip girth',\n",
    "    'Thigh girth R',\n",
    "    'Upper arm girth R',\n",
    "    'Neck girth',\n",
    "    'Height (m)',\n",
    "]\n",
    "our_semantic = [\n",
    "    'bust_chest_girth', # 5.3.4\n",
    "    'waist_girth', # 5.3.10\n",
    "    'hip_girth', # 5.3.13\n",
    "    'thigh_girth', # 5.3.20\n",
    "    'upper_arm_girth', # 5.3.16\n",
    "    'neck_girth', # 5.3.2\n",
    "    'stature', # 5.1.1\n",
    "]\n",
    "\n",
    "curve_index = {\n",
    "    'neck_girth':4, # 5.3.2\n",
    "    'bust_chest_girth': 0, # 5.3.4\n",
    "    'waist_girth': 1, # 5.3.10\n",
    "    'hip_girth': 1, # 5.3.13\n",
    "    'upper_arm_girth': 3, # 5.3.16\n",
    "    'thigh_girth': 2, # 5.3.20\n",
    "}"
   ]
  },
  {
   "cell_type": "code",
   "execution_count": 3,
   "metadata": {},
   "outputs": [],
   "source": [
    "subdivided_bodies = tc.load('data/subdivided_bodies.pt')\n",
    "measures = pd.read_pickle(f'data/cleaned_measures.zip')\n",
    "measures.index = measures['Subject']\n",
    "measures = measures[measures['Measuring station'] == \"MOVE4D\"]\n",
    "\n",
    "mfd_gender_measures = dict()\n",
    "for gender in genders:\n",
    "    mfd_gender_measures[gender] = measures[measures['Sex'] == gender]\n",
    "    mfd_gender_measures[gender] = mfd_gender_measures[gender][their_semantics]\n",
    "    mfd_gender_measures[gender].columns = our_semantic\n",
    "    mfd_gender_measures[gender]['stature'] *= 1000"
   ]
  },
  {
   "cell_type": "code",
   "execution_count": 4,
   "metadata": {},
   "outputs": [],
   "source": [
    "selected_subjects = dict()\n",
    "selected_measures = dict()\n",
    "\n",
    "for gender in genders:\n",
    "    gender_measures = measures[measures['Sex'] == gender]\n",
    "    temp_measures = gender_measures[their_semantics].iloc[::2]\n",
    "    selected_subjects[gender] = 'IEEEP2_07' if gender == 'female' else 'IEEEP2_04'\n",
    "    selected_measures[gender] = temp_measures.loc[selected_subjects[gender]]\n",
    "    selected_subjects[gender] = temp_measures.index.get_loc(selected_subjects[gender])*2\n",
    "    selected_measures[gender].index = our_semantic\n",
    "    selected_measures[gender]['stature'] *= 1000"
   ]
  },
  {
   "cell_type": "code",
   "execution_count": 14,
   "metadata": {},
   "outputs": [
    {
     "name": "stdout",
     "output_type": "stream",
     "text": [
      "tensor(0)\n"
     ]
    }
   ],
   "source": [
    "body = subdivided_bodies['vertices']['female'][selected_subjects['female']]\n",
    "template = subdivided_bodies['faces']['female']+1\n",
    "save_obj(path=\"output/female_body.obj\", pontos=body, faces=template)"
   ]
  },
  {
   "cell_type": "code",
   "execution_count": 5,
   "metadata": {},
   "outputs": [
    {
     "name": "stdout",
     "output_type": "stream",
     "text": [
      "SEGMENTING FEMALE BODIES"
     ]
    },
    {
     "name": "stderr",
     "output_type": "stream",
     "text": [
      "processing body: 100%|██████████| 44/44 [00:21<00:00,  2.06it/s]\n"
     ]
    },
    {
     "name": "stdout",
     "output_type": "stream",
     "text": [
      "SEGMENTING MALE BODIES"
     ]
    },
    {
     "name": "stderr",
     "output_type": "stream",
     "text": [
      "processing body: 100%|██████████| 44/44 [00:23<00:00,  1.84it/s]\n"
     ]
    }
   ],
   "source": [
    "gender_curves = dict()\n",
    "for gender in genders:\n",
    "    print(f'SEGMENTING {gender.upper()} BODIES', end='')\n",
    "    faces = subdivided_bodies['faces'][gender].to(device)\n",
    "    bodies = subdivided_bodies['vertices'][gender]\n",
    "    body = bodies[selected_subjects[gender]].to(device)\n",
    "    measures = selected_measures[gender]\n",
    "    result = CurveGenerator.get_curves(body, measures, faces, device, gender)\n",
    "    gender_curves[gender] = result[0]\n",
    "tc.save(gender_curves, \"data/gender_curves.zip\")"
   ]
  },
  {
   "cell_type": "code",
   "execution_count": 9,
   "metadata": {},
   "outputs": [
    {
     "name": "stdout",
     "output_type": "stream",
     "text": [
      "MEASURING FEMALE BODIES"
     ]
    },
    {
     "name": "stderr",
     "output_type": "stream",
     "text": [
      "100%|██████████| 303/303 [00:07<00:00, 40.34it/s]\n",
      "100%|██████████| 354/354 [00:08<00:00, 42.32it/s]\n",
      "100%|██████████| 605/605 [00:13<00:00, 43.22it/s]\n",
      "100%|██████████| 403/403 [00:09<00:00, 42.45it/s]\n",
      "100%|██████████| 6080/6080 [02:24<00:00, 42.09it/s]\n"
     ]
    },
    {
     "name": "stdout",
     "output_type": "stream",
     "text": [
      "MEASURING MALE BODIES"
     ]
    },
    {
     "name": "stderr",
     "output_type": "stream",
     "text": [
      "100%|██████████| 339/339 [00:07<00:00, 43.96it/s]\n",
      "100%|██████████| 396/396 [00:09<00:00, 41.96it/s]\n",
      "100%|██████████| 677/677 [00:15<00:00, 43.51it/s]\n",
      "100%|██████████| 452/452 [00:10<00:00, 43.84it/s]\n",
      "100%|██████████| 6800/6800 [02:43<00:00, 41.53it/s]\n"
     ]
    }
   ],
   "source": [
    "gender_measures = dict()\n",
    "for gender in genders:\n",
    "    print(f'MEASURING {gender.upper()} BODIES', end='')\n",
    "    gender_measures[gender] = [[]]*5\n",
    "    for segments_index, curves_segments in enumerate(gender_curves[gender]):\n",
    "        gender_measures[gender][segments_index] = []\n",
    "        for curves_index, curves in enumerate(tqdm(curves_segments)): # bust, torso, leg, arm, neck\n",
    "\n",
    "            gender_measures[gender][segments_index].append([])\n",
    "            for body in subdivided_bodies['vertices'][gender]:\n",
    "                position = CurveUtils.generate_positions(tc.FloatTensor(curves).to(device), body.to(device))\n",
    "                calculated_measures = CurveUtils.calculate_distances(position)\n",
    "                gender_measures[gender][segments_index][curves_index].append(calculated_measures)\n",
    "\n",
    "            calculated_measures = gender_measures[gender][segments_index][curves_index]\n",
    "            gender_measures[gender][segments_index][curves_index] = tc.FloatTensor(calculated_measures)\n",
    "        gender_measures[gender][segments_index] = tc.row_stack(gender_measures[gender][segments_index])\n",
    "\n",
    "tc.save(gender_measures, \"data/calculated_measures.zip\")\n"
   ]
  },
  {
   "cell_type": "code",
   "execution_count": 10,
   "metadata": {},
   "outputs": [],
   "source": [
    "gender_calculated_measures = tc.load(\"data/calculated_measures.zip\")"
   ]
  },
  {
   "cell_type": "code",
   "execution_count": 11,
   "metadata": {},
   "outputs": [],
   "source": [
    "gender_measures_wc = dict()\n",
    "for gender in genders:\n",
    "    gender_measures_wc[gender] = []\n",
    "    for index in range(0,5):\n",
    "        gender_measures_wc[gender].append(gender_measures[gender][index])\n",
    "        if index == 1:\n",
    "            gender_measures_wc[gender].append(gender_measures[gender][index])\n",
    "gender_measures = gender_measures_wc"
   ]
  },
  {
   "cell_type": "code",
   "execution_count": 18,
   "metadata": {},
   "outputs": [
    {
     "name": "stdout",
     "output_type": "stream",
     "text": [
      "male errors:\n",
      "   best           min        max        mean         std\n",
      "0   181  0.0070648193  6.1884003   2.5387866   1.3964223\n",
      "1   339  0.0016403198  1.5482559  0.51437485  0.41830182\n",
      "2    72  0.0002822876   5.557579   1.8663875   1.1089624\n",
      "3   541  0.0011978149  2.6108322   0.8296479  0.65260595\n",
      "4   392  0.0019607544  1.3141403  0.41693634  0.32365268\n",
      "5  5641  8.773804e-05  2.8908653  0.80076283   0.5849153\n",
      "\n",
      "female errors:\n",
      "   best            min        max        mean         std\n",
      "0   161   0.0009918213  6.2503586   3.0942974   1.6616387\n",
      "1   271    0.002204895  7.9995575    3.807967   2.2380903\n",
      "2    79  0.00037384033   8.037308    1.816402   1.9512606\n",
      "3   475  0.00024795532  3.0649414   0.8721026   0.7574359\n",
      "4   326    0.000705719  3.6671715   1.6733981  0.98030597\n",
      "5  2331   2.670288e-05  2.2580605  0.76263106  0.66059804\n"
     ]
    }
   ],
   "source": [
    "best_gender_measures = dict() ## caso minimo\n",
    "\n",
    "for idx, gender in enumerate(genders):\n",
    "    best_gender_measures[gender] = []\n",
    "    for index, curve in enumerate(our_semantic[:-1]):\n",
    "        measured = gender_measures[gender][index].T[::2].T\n",
    "        ground_truth = mfd_gender_measures[gender][curve][::2]\n",
    "        result = (measured - tc.FloatTensor(ground_truth/10).unsqueeze(0)).abs()\n",
    "        min_rows_values, min_rows_indices = result.min(0)\n",
    "        min_columns_values, min_columns_indices = min_rows_values.min(0)\n",
    "        best = min_rows_indices[min_columns_indices]\n",
    "        best_gender_measures[gender].append((\n",
    "            best.numpy(),\n",
    "            result[best].min().numpy(),\n",
    "            result[best].max().numpy(),\n",
    "            result[best].mean().numpy(),\n",
    "            result[best].std().numpy()\n",
    "        ))\n",
    "gender_results = {\n",
    "    'male': pd.DataFrame(best_gender_measures['male'], columns=['best', 'min', 'max', 'mean', 'std']),\n",
    "    'female': pd.DataFrame(best_gender_measures['female'], columns=['best', 'min', 'max', 'mean', 'std'])\n",
    "}\n",
    "print(\"male errors:\")\n",
    "print(gender_results['male'])\n",
    "print(\"\\nfemale errors:\")\n",
    "print(gender_results['female'])"
   ]
  },
  {
   "cell_type": "code",
   "execution_count": 21,
   "metadata": {},
   "outputs": [
    {
     "name": "stdout",
     "output_type": "stream",
     "text": [
      "male errors:\n",
      "                           min         max        mean         std\n",
      "bust_chest_girth    0.03806305    5.150383    1.197003   1.1326014\n",
      "waist_girth       0.0016403198   1.5482559  0.51437485  0.41830182\n",
      "hip_girth          0.012916565   1.4537582  0.48320812   0.3904905\n",
      "thigh_girth        0.022727966    2.086773    0.673372  0.52441585\n",
      "upper_arm_girth    0.017017365  0.88785934   0.3111993  0.21203174\n",
      "neck_girth         0.030872345   1.4503517  0.45744452  0.40859184\n",
      "\n",
      "female errors:\n",
      "                            min        max        mean         std\n",
      "bust_chest_girth   0.0132369995  3.8647156   1.6071029   1.1682594\n",
      "waist_girth         0.033843994   3.912056   1.1335517   1.0194021\n",
      "hip_girth            0.06463623  4.7434235   1.2451998   1.0968579\n",
      "thigh_girth       0.00024795532  3.0649414   0.8721026   0.7574359\n",
      "upper_arm_girth     0.012990952  1.4030724   0.5278891   0.4078794\n",
      "neck_girth          0.044963837  1.2938881  0.44332218  0.32921478\n"
     ]
    }
   ],
   "source": [
    "best_gender_measures = dict() ## caso médio\n",
    "for idx, gender in enumerate(genders):\n",
    "    best_gender_measures[gender] = []\n",
    "    for index, curve in enumerate(our_semantic[:-1]):\n",
    "        measured = gender_measures[gender][index].T[::2].T\n",
    "        ground_truth = mfd_gender_measures[gender][curve][::2]\n",
    "        result = (measured - tc.FloatTensor(ground_truth/10).unsqueeze(0)).abs()\n",
    "        min_rows_values = result.mean(1)\n",
    "        min_columns_values, min_columns_indices = min_rows_values.min(0)\n",
    "        best = min_columns_indices\n",
    "        best_gender_measures[gender].append((\n",
    "            result[best].min().numpy(),\n",
    "            result[best].max().numpy(),\n",
    "            result[best].mean().numpy(),\n",
    "            result[best].std().numpy()\n",
    "        ))\n",
    "gender_results = {\n",
    "    'male': pd.DataFrame(best_gender_measures['male'], columns=['min', 'max', 'mean', 'std'], index=our_semantic[:-1]),\n",
    "    'female': pd.DataFrame(best_gender_measures['female'], columns=['min', 'max', 'mean', 'std'], index=our_semantic[:-1])\n",
    "}\n",
    "print(\"male errors:\")\n",
    "print(gender_results['male'])\n",
    "print(\"\\nfemale errors:\")\n",
    "print(gender_results['female'])"
   ]
  },
  {
   "cell_type": "code",
   "execution_count": 31,
   "metadata": {},
   "outputs": [
    {
     "data": {
      "text/html": [
       "<div>\n",
       "<style scoped>\n",
       "    .dataframe tbody tr th:only-of-type {\n",
       "        vertical-align: middle;\n",
       "    }\n",
       "\n",
       "    .dataframe tbody tr th {\n",
       "        vertical-align: top;\n",
       "    }\n",
       "\n",
       "    .dataframe thead th {\n",
       "        text-align: right;\n",
       "    }\n",
       "</style>\n",
       "<table border=\"1\" class=\"dataframe\">\n",
       "  <thead>\n",
       "    <tr style=\"text-align: right;\">\n",
       "      <th></th>\n",
       "      <th>min</th>\n",
       "      <th>max</th>\n",
       "      <th>mean</th>\n",
       "      <th>std</th>\n",
       "    </tr>\n",
       "  </thead>\n",
       "  <tbody>\n",
       "    <tr>\n",
       "      <th>bust_chest_girth</th>\n",
       "      <td>0.38</td>\n",
       "      <td>51.50</td>\n",
       "      <td>11.97</td>\n",
       "      <td>11.33</td>\n",
       "    </tr>\n",
       "    <tr>\n",
       "      <th>waist_girth</th>\n",
       "      <td>0.02</td>\n",
       "      <td>15.48</td>\n",
       "      <td>5.14</td>\n",
       "      <td>4.18</td>\n",
       "    </tr>\n",
       "    <tr>\n",
       "      <th>hip_girth</th>\n",
       "      <td>0.13</td>\n",
       "      <td>14.54</td>\n",
       "      <td>4.83</td>\n",
       "      <td>3.90</td>\n",
       "    </tr>\n",
       "    <tr>\n",
       "      <th>thigh_girth</th>\n",
       "      <td>0.23</td>\n",
       "      <td>20.87</td>\n",
       "      <td>6.73</td>\n",
       "      <td>5.24</td>\n",
       "    </tr>\n",
       "    <tr>\n",
       "      <th>upper_arm_girth</th>\n",
       "      <td>0.17</td>\n",
       "      <td>8.88</td>\n",
       "      <td>3.11</td>\n",
       "      <td>2.12</td>\n",
       "    </tr>\n",
       "    <tr>\n",
       "      <th>neck_girth</th>\n",
       "      <td>0.31</td>\n",
       "      <td>14.50</td>\n",
       "      <td>4.57</td>\n",
       "      <td>4.09</td>\n",
       "    </tr>\n",
       "  </tbody>\n",
       "</table>\n",
       "</div>"
      ],
      "text/plain": [
       "                   min    max   mean    std\n",
       "bust_chest_girth  0.38  51.50  11.97  11.33\n",
       "waist_girth       0.02  15.48   5.14   4.18\n",
       "hip_girth         0.13  14.54   4.83   3.90\n",
       "thigh_girth       0.23  20.87   6.73   5.24\n",
       "upper_arm_girth   0.17   8.88   3.11   2.12\n",
       "neck_girth        0.31  14.50   4.57   4.09"
      ]
     },
     "execution_count": 31,
     "metadata": {},
     "output_type": "execute_result"
    }
   ],
   "source": [
    "(gender_results['male']*10).astype(float).round(decimals=2) #5,14 / 5,11 6,49/6,05"
   ]
  },
  {
   "cell_type": "code",
   "execution_count": 29,
   "metadata": {},
   "outputs": [
    {
     "data": {
      "text/plain": [
       "9.715"
      ]
     },
     "execution_count": 29,
     "metadata": {},
     "output_type": "execute_result"
    }
   ],
   "source": [
    "(gender_results['female']*10).astype(float).round(decimals=2)['mean'].mean() # 7,91 / 7,96"
   ]
  },
  {
   "cell_type": "code",
   "execution_count": 17,
   "metadata": {},
   "outputs": [
    {
     "ename": "KeyError",
     "evalue": "0",
     "output_type": "error",
     "traceback": [
      "\u001b[0;31m---------------------------------------------------------------------------\u001b[0m",
      "\u001b[0;31mKeyError\u001b[0m                                  Traceback (most recent call last)",
      "File \u001b[0;32m~/.local/lib/python3.10/site-packages/pandas/core/indexes/base.py:3621\u001b[0m, in \u001b[0;36mIndex.get_loc\u001b[0;34m(self, key, method, tolerance)\u001b[0m\n\u001b[1;32m   3620\u001b[0m \u001b[39mtry\u001b[39;00m:\n\u001b[0;32m-> 3621\u001b[0m     \u001b[39mreturn\u001b[39;00m \u001b[39mself\u001b[39;49m\u001b[39m.\u001b[39;49m_engine\u001b[39m.\u001b[39;49mget_loc(casted_key)\n\u001b[1;32m   3622\u001b[0m \u001b[39mexcept\u001b[39;00m \u001b[39mKeyError\u001b[39;00m \u001b[39mas\u001b[39;00m err:\n",
      "File \u001b[0;32m~/.local/lib/python3.10/site-packages/pandas/_libs/index.pyx:136\u001b[0m, in \u001b[0;36mpandas._libs.index.IndexEngine.get_loc\u001b[0;34m()\u001b[0m\n",
      "File \u001b[0;32m~/.local/lib/python3.10/site-packages/pandas/_libs/index.pyx:163\u001b[0m, in \u001b[0;36mpandas._libs.index.IndexEngine.get_loc\u001b[0;34m()\u001b[0m\n",
      "File \u001b[0;32mpandas/_libs/hashtable_class_helper.pxi:5198\u001b[0m, in \u001b[0;36mpandas._libs.hashtable.PyObjectHashTable.get_item\u001b[0;34m()\u001b[0m\n",
      "File \u001b[0;32mpandas/_libs/hashtable_class_helper.pxi:5206\u001b[0m, in \u001b[0;36mpandas._libs.hashtable.PyObjectHashTable.get_item\u001b[0;34m()\u001b[0m\n",
      "\u001b[0;31mKeyError\u001b[0m: 0",
      "\nThe above exception was the direct cause of the following exception:\n",
      "\u001b[0;31mKeyError\u001b[0m                                  Traceback (most recent call last)",
      "\u001b[1;32m/home/wesley/mestrado/measure_project/get_measures.ipynb Cell 13\u001b[0m in \u001b[0;36m6\n\u001b[1;32m      <a href='vscode-notebook-cell:/home/wesley/mestrado/measure_project/get_measures.ipynb#X15sZmlsZQ%3D%3D?line=3'>4</a>\u001b[0m best_gender_curves[gender] \u001b[39m=\u001b[39m []\n\u001b[1;32m      <a href='vscode-notebook-cell:/home/wesley/mestrado/measure_project/get_measures.ipynb#X15sZmlsZQ%3D%3D?line=4'>5</a>\u001b[0m \u001b[39mfor\u001b[39;00m index, curve \u001b[39min\u001b[39;00m \u001b[39menumerate\u001b[39m(our_semantic[:\u001b[39m-\u001b[39m\u001b[39m1\u001b[39m]):\n\u001b[0;32m----> <a href='vscode-notebook-cell:/home/wesley/mestrado/measure_project/get_measures.ipynb#X15sZmlsZQ%3D%3D?line=5'>6</a>\u001b[0m     best \u001b[39m=\u001b[39m gender_results[gender]\u001b[39m.\u001b[39;49mloc[index][\u001b[39m'\u001b[39m\u001b[39mbest\u001b[39m\u001b[39m'\u001b[39m]\n\u001b[1;32m      <a href='vscode-notebook-cell:/home/wesley/mestrado/measure_project/get_measures.ipynb#X15sZmlsZQ%3D%3D?line=6'>7</a>\u001b[0m     coordinates \u001b[39m=\u001b[39m gender_curves[gender][curve_index[curve]][best]\n\u001b[1;32m      <a href='vscode-notebook-cell:/home/wesley/mestrado/measure_project/get_measures.ipynb#X15sZmlsZQ%3D%3D?line=7'>8</a>\u001b[0m     best_gender_curves[gender]\u001b[39m.\u001b[39mappend(coordinates)\n",
      "File \u001b[0;32m~/.local/lib/python3.10/site-packages/pandas/core/indexing.py:967\u001b[0m, in \u001b[0;36m_LocationIndexer.__getitem__\u001b[0;34m(self, key)\u001b[0m\n\u001b[1;32m    964\u001b[0m axis \u001b[39m=\u001b[39m \u001b[39mself\u001b[39m\u001b[39m.\u001b[39maxis \u001b[39mor\u001b[39;00m \u001b[39m0\u001b[39m\n\u001b[1;32m    966\u001b[0m maybe_callable \u001b[39m=\u001b[39m com\u001b[39m.\u001b[39mapply_if_callable(key, \u001b[39mself\u001b[39m\u001b[39m.\u001b[39mobj)\n\u001b[0;32m--> 967\u001b[0m \u001b[39mreturn\u001b[39;00m \u001b[39mself\u001b[39;49m\u001b[39m.\u001b[39;49m_getitem_axis(maybe_callable, axis\u001b[39m=\u001b[39;49maxis)\n",
      "File \u001b[0;32m~/.local/lib/python3.10/site-packages/pandas/core/indexing.py:1202\u001b[0m, in \u001b[0;36m_LocIndexer._getitem_axis\u001b[0;34m(self, key, axis)\u001b[0m\n\u001b[1;32m   1200\u001b[0m \u001b[39m# fall thru to straight lookup\u001b[39;00m\n\u001b[1;32m   1201\u001b[0m \u001b[39mself\u001b[39m\u001b[39m.\u001b[39m_validate_key(key, axis)\n\u001b[0;32m-> 1202\u001b[0m \u001b[39mreturn\u001b[39;00m \u001b[39mself\u001b[39;49m\u001b[39m.\u001b[39;49m_get_label(key, axis\u001b[39m=\u001b[39;49maxis)\n",
      "File \u001b[0;32m~/.local/lib/python3.10/site-packages/pandas/core/indexing.py:1153\u001b[0m, in \u001b[0;36m_LocIndexer._get_label\u001b[0;34m(self, label, axis)\u001b[0m\n\u001b[1;32m   1151\u001b[0m \u001b[39mdef\u001b[39;00m \u001b[39m_get_label\u001b[39m(\u001b[39mself\u001b[39m, label, axis: \u001b[39mint\u001b[39m):\n\u001b[1;32m   1152\u001b[0m     \u001b[39m# GH#5667 this will fail if the label is not present in the axis.\u001b[39;00m\n\u001b[0;32m-> 1153\u001b[0m     \u001b[39mreturn\u001b[39;00m \u001b[39mself\u001b[39;49m\u001b[39m.\u001b[39;49mobj\u001b[39m.\u001b[39;49mxs(label, axis\u001b[39m=\u001b[39;49maxis)\n",
      "File \u001b[0;32m~/.local/lib/python3.10/site-packages/pandas/core/generic.py:3876\u001b[0m, in \u001b[0;36mNDFrame.xs\u001b[0;34m(self, key, axis, level, drop_level)\u001b[0m\n\u001b[1;32m   3874\u001b[0m             new_index \u001b[39m=\u001b[39m index[loc]\n\u001b[1;32m   3875\u001b[0m \u001b[39melse\u001b[39;00m:\n\u001b[0;32m-> 3876\u001b[0m     loc \u001b[39m=\u001b[39m index\u001b[39m.\u001b[39;49mget_loc(key)\n\u001b[1;32m   3878\u001b[0m     \u001b[39mif\u001b[39;00m \u001b[39misinstance\u001b[39m(loc, np\u001b[39m.\u001b[39mndarray):\n\u001b[1;32m   3879\u001b[0m         \u001b[39mif\u001b[39;00m loc\u001b[39m.\u001b[39mdtype \u001b[39m==\u001b[39m np\u001b[39m.\u001b[39mbool_:\n",
      "File \u001b[0;32m~/.local/lib/python3.10/site-packages/pandas/core/indexes/base.py:3623\u001b[0m, in \u001b[0;36mIndex.get_loc\u001b[0;34m(self, key, method, tolerance)\u001b[0m\n\u001b[1;32m   3621\u001b[0m     \u001b[39mreturn\u001b[39;00m \u001b[39mself\u001b[39m\u001b[39m.\u001b[39m_engine\u001b[39m.\u001b[39mget_loc(casted_key)\n\u001b[1;32m   3622\u001b[0m \u001b[39mexcept\u001b[39;00m \u001b[39mKeyError\u001b[39;00m \u001b[39mas\u001b[39;00m err:\n\u001b[0;32m-> 3623\u001b[0m     \u001b[39mraise\u001b[39;00m \u001b[39mKeyError\u001b[39;00m(key) \u001b[39mfrom\u001b[39;00m \u001b[39merr\u001b[39;00m\n\u001b[1;32m   3624\u001b[0m \u001b[39mexcept\u001b[39;00m \u001b[39mTypeError\u001b[39;00m:\n\u001b[1;32m   3625\u001b[0m     \u001b[39m# If we have a listlike key, _check_indexing_error will raise\u001b[39;00m\n\u001b[1;32m   3626\u001b[0m     \u001b[39m#  InvalidIndexError. Otherwise we fall through and re-raise\u001b[39;00m\n\u001b[1;32m   3627\u001b[0m     \u001b[39m#  the TypeError.\u001b[39;00m\n\u001b[1;32m   3628\u001b[0m     \u001b[39mself\u001b[39m\u001b[39m.\u001b[39m_check_indexing_error(key)\n",
      "\u001b[0;31mKeyError\u001b[0m: 0"
     ]
    }
   ],
   "source": [
    "best_gender_curves = dict()\n",
    "for gender in genders:\n",
    "    all_positions = []\n",
    "    best_gender_curves[gender] = []\n",
    "    for index, curve in enumerate(our_semantic[:-1]):\n",
    "        best = gender_results[gender].loc[index]['best']\n",
    "        coordinates = gender_curves[gender][curve_index[curve]][best]\n",
    "        best_gender_curves[gender].append(coordinates)\n",
    "        faces = subdivided_bodies['faces'][gender].to(device)\n",
    "        bodies = subdivided_bodies['vertices'][gender]\n",
    "        body = bodies[selected_subjects[gender]].to(device)\n",
    "        position = CurveUtils.generate_positions(coordinates, body.to(device))\n",
    "        all_positions.append(position)\n",
    "    save_obj(f'output/{gender}_points.obj', tc.row_stack(all_positions))\n",
    "tc.save(best_gender_curves, 'data/selected_gender_curves.zip')"
   ]
  },
  {
   "cell_type": "code",
   "execution_count": null,
   "metadata": {},
   "outputs": [],
   "source": [
    "best_gender_measures = dict()\n",
    "for idx, gender in enumerate(genders):\n",
    "    best_gender_measures[gender] = []\n",
    "    for index, curve in enumerate(our_semantic[:-1]):\n",
    "        best = gender_results[gender].loc[index]['best']\n",
    "        measured = gender_measures[gender][index][best].numpy()\n",
    "        best_gender_measures[gender].append(measured*10)\n",
    "    best_gender_measures[gender].append(tc.arange(2).repeat(36).numpy()+1)\n",
    "    best_gender_measures[gender].append([gender]*72)\n",
    "    best_gender_measures[gender].append([\"our\"]*72)\n",
    "    best_gender_measures[gender].append(mfd_gender_measures[gender].index)"
   ]
  },
  {
   "cell_type": "code",
   "execution_count": null,
   "metadata": {},
   "outputs": [],
   "source": [
    "aditional_semantic = ['repetition', \"gender\", \"measures_station\", 'subject']\n",
    "our_measures = pd.concat([\n",
    "    pd.DataFrame(best_gender_measures['female'], index=our_semantic[:-1]+aditional_semantic).T,\n",
    "    pd.DataFrame(best_gender_measures['male'], index=our_semantic[:-1]+aditional_semantic).T\n",
    "])\n",
    "our_measures.to_pickle(\"data/our_measures.zip\")"
   ]
  },
  {
   "cell_type": "code",
   "execution_count": null,
   "metadata": {},
   "outputs": [],
   "source": []
  }
 ],
 "metadata": {
  "kernelspec": {
   "display_name": "Python 3",
   "language": "python",
   "name": "python3"
  },
  "language_info": {
   "codemirror_mode": {
    "name": "ipython",
    "version": 3
   },
   "file_extension": ".py",
   "mimetype": "text/x-python",
   "name": "python",
   "nbconvert_exporter": "python",
   "pygments_lexer": "ipython3",
   "version": "3.10.6"
  },
  "orig_nbformat": 4
 },
 "nbformat": 4,
 "nbformat_minor": 2
}
