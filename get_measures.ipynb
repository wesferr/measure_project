{
 "cells": [
  {
   "cell_type": "code",
   "execution_count": 1,
   "metadata": {},
   "outputs": [],
   "source": [
    "import torch as tc\n",
    "import pandas as pd\n",
    "import numpy as np\n",
    "import open3d as otd\n",
    "from tqdm import tqdm\n",
    "import matplotlib.pyplot as plt\n",
    "otd_vector3d = otd.utility.Vector3dVector\n",
    "from src.star.star import STAR\n",
    "from src.curve_utils import CurveUtils\n",
    "from src.curve_generator import CurveGenerator\n",
    "from src.mesh_manipulation import save_obj\n",
    "device = tc.device(\"cuda\" if tc.cuda.is_available() else \"cpu\")\n",
    "genders = ['female', 'male']\n",
    "male = ['male']\n",
    "female = ['female']"
   ]
  },
  {
   "cell_type": "code",
   "execution_count": 2,
   "metadata": {},
   "outputs": [],
   "source": [
    "their_semantics = [\n",
    "    'Bust girth',\n",
    "    'Waist girth',\n",
    "    'Hip girth',\n",
    "    'Thigh girth R',\n",
    "    'Upper arm girth R',\n",
    "    'Neck girth',\n",
    "    'Height (m)',\n",
    "]\n",
    "our_semantic = [\n",
    "    'bust_chest_girth', # 5.3.4\n",
    "    'waist_girth', # 5.3.10\n",
    "    'hip_girth', # 5.3.13\n",
    "    'thigh_girth', # 5.3.20\n",
    "    'upper_arm_girth', # 5.3.16\n",
    "    'neck_girth', # 5.3.2\n",
    "    'stature', # 5.1.1\n",
    "]\n",
    "\n",
    "curve_index = {\n",
    "            'neck_girth':4, # 5.3.2\n",
    "            'bust_chest_girth': 0, # 5.3.4\n",
    "            'waist_girth': 1, # 5.3.10\n",
    "            'hip_girth': 1, # 5.3.13\n",
    "            'upper_arm_girth': 3, # 5.3.16\n",
    "            'thigh_girth': 2, # 5.3.20\n",
    "        }"
   ]
  },
  {
   "cell_type": "code",
   "execution_count": 3,
   "metadata": {},
   "outputs": [],
   "source": [
    "subdivided_bodies = tc.load('data/subdivided_bodies.pt')\n",
    "measures = pd.read_pickle(f'data/cleaned_measures.zip')\n",
    "measures.index = measures['Subject']\n",
    "measures = measures[measures['Measuring station'] == \"MOVE4D\"]\n",
    "\n",
    "mfd_gender_measures = dict()\n",
    "for gender in genders:\n",
    "    mfd_gender_measures[gender] = measures[measures['Sex'] == gender]\n",
    "    mfd_gender_measures[gender] = mfd_gender_measures[gender][their_semantics]\n",
    "    mfd_gender_measures[gender].columns = our_semantic\n",
    "    mfd_gender_measures[gender]['stature'] *= 1000"
   ]
  },
  {
   "cell_type": "code",
   "execution_count": 4,
   "metadata": {},
   "outputs": [],
   "source": [
    "selected_subjects = dict()\n",
    "selected_measures = dict()\n",
    "\n",
    "for gender in genders:\n",
    "    gender_measures = measures[measures['Sex'] == gender]\n",
    "    temp_measures = gender_measures[their_semantics].iloc[::2]\n",
    "    selected_subjects[gender] = 'IEEEP2_07' if gender == 'female' else 'IEEEP2_04'\n",
    "    selected_measures[gender] = temp_measures.loc[selected_subjects[gender]]\n",
    "    selected_subjects[gender] = temp_measures.index.get_loc(selected_subjects[gender])*2\n",
    "    selected_measures[gender].index = our_semantic\n",
    "    selected_measures[gender]['stature'] *= 1000"
   ]
  },
  {
   "cell_type": "code",
   "execution_count": 5,
   "metadata": {},
   "outputs": [
    {
     "name": "stdout",
     "output_type": "stream",
     "text": [
      "SEGMENTING FEMALE BODIES"
     ]
    },
    {
     "name": "stderr",
     "output_type": "stream",
     "text": [
      "processing body: 100%|██████████| 44/44 [07:28<00:00, 10.20s/it]\n"
     ]
    },
    {
     "name": "stdout",
     "output_type": "stream",
     "text": [
      "SEGMENTING MALE BODIES"
     ]
    },
    {
     "name": "stderr",
     "output_type": "stream",
     "text": [
      "processing body: 100%|██████████| 44/44 [08:35<00:00, 11.71s/it]\n"
     ]
    }
   ],
   "source": [
    "gender_curves = dict()\n",
    "for gender in genders:\n",
    "    print(f'SEGMENTING {gender.upper()} BODIES', end='')\n",
    "    faces = subdivided_bodies['faces'][gender].to(device)\n",
    "    bodies = subdivided_bodies['vertices'][gender]\n",
    "    body = bodies[selected_subjects[gender]].to(device)\n",
    "    measures = selected_measures[gender]\n",
    "    result = CurveGenerator.get_curves(body, measures, faces, device)\n",
    "    gender_curves[gender] = result[0]\n",
    "tc.save(gender_curves, \"data/gender_curves.zip\")\n"
   ]
  },
  {
   "cell_type": "code",
   "execution_count": 6,
   "metadata": {},
   "outputs": [
    {
     "name": "stdout",
     "output_type": "stream",
     "text": [
      "MEASURING FEMALE BODIES"
     ]
    },
    {
     "name": "stderr",
     "output_type": "stream",
     "text": [
      "100%|██████████| 302/302 [00:15<00:00, 19.48it/s]\n",
      "100%|██████████| 353/353 [00:12<00:00, 27.87it/s]\n",
      "100%|██████████| 604/604 [00:21<00:00, 27.84it/s]\n",
      "100%|██████████| 402/402 [00:14<00:00, 27.81it/s]\n",
      "100%|██████████| 6040/6040 [03:40<00:00, 27.41it/s]\n"
     ]
    },
    {
     "name": "stdout",
     "output_type": "stream",
     "text": [
      "MEASURING MALE BODIES"
     ]
    },
    {
     "name": "stderr",
     "output_type": "stream",
     "text": [
      "100%|██████████| 338/338 [00:16<00:00, 20.03it/s]\n",
      "100%|██████████| 395/395 [00:14<00:00, 27.99it/s]\n",
      "100%|██████████| 676/676 [00:23<00:00, 28.20it/s]\n",
      "100%|██████████| 450/450 [00:15<00:00, 28.15it/s]\n",
      "100%|██████████| 6760/6760 [04:05<00:00, 27.54it/s]\n"
     ]
    }
   ],
   "source": [
    "gender_measures = dict()\n",
    "for gender in genders:\n",
    "    print(f'MEASURING {gender.upper()} BODIES', end='')\n",
    "    gender_measures[gender] = [[]]*5\n",
    "    for segments_index, curves_segments in enumerate(gender_curves[gender]):\n",
    "        gender_measures[gender][segments_index] = []\n",
    "        for curves_index, curves in enumerate(tqdm(curves_segments)): # bust, torso, leg, arm, neck\n",
    "\n",
    "            gender_measures[gender][segments_index].append([])\n",
    "            for body in subdivided_bodies['vertices'][gender][::2]:\n",
    "                position = CurveUtils.generate_positions(curves, body.to(device))\n",
    "                calculated_measures = CurveUtils.calculate_distances(position)\n",
    "                gender_measures[gender][segments_index][curves_index].append(calculated_measures)\n",
    "\n",
    "            calculated_measures = gender_measures[gender][segments_index][curves_index]\n",
    "            gender_measures[gender][segments_index][curves_index] = tc.FloatTensor(calculated_measures)\n",
    "        gender_measures[gender][segments_index] = tc.row_stack(gender_measures[gender][segments_index])\n",
    "\n",
    "tc.save(gender_measures, \"data/calculated_measures.zip\")\n"
   ]
  },
  {
   "cell_type": "code",
   "execution_count": 7,
   "metadata": {},
   "outputs": [],
   "source": [
    "gender_calculated_measures = tc.load(\"data/calculated_measures.zip\")"
   ]
  },
  {
   "cell_type": "code",
   "execution_count": 8,
   "metadata": {},
   "outputs": [],
   "source": [
    "gender_measures_wc = dict()\n",
    "for gender in genders:\n",
    "    gender_measures_wc[gender] = []\n",
    "    for index in range(0,5):\n",
    "        gender_measures_wc[gender].append(gender_measures[gender][index])\n",
    "        if index == 1:\n",
    "            gender_measures_wc[gender].append(gender_measures[gender][index])\n",
    "gender_measures = gender_measures_wc"
   ]
  },
  {
   "cell_type": "code",
   "execution_count": 9,
   "metadata": {},
   "outputs": [
    {
     "name": "stdout",
     "output_type": "stream",
     "text": [
      "male errors:\n",
      "   best            min        max        mean         std\n",
      "0   185   0.0058059692  4.8767014   1.2775197   1.1429859\n",
      "1   143   0.0001449585  22.587074   10.640367    6.196411\n",
      "2   152   0.0005264282  2.7030334    1.201998  0.65851164\n",
      "3   544   0.0002822876  2.0477638  0.68975365  0.51716274\n",
      "4   384  0.00093078613  1.1062737  0.48048836  0.32412186\n",
      "5  1090  7.6293945e-06  4.3489075   1.2007937   1.0351614\n",
      "\n",
      "female errors:\n",
      "   best            min        max        mean         std\n",
      "0   156  0.00089263916   5.222603   2.2750773     1.49956\n",
      "1   273    0.003112793  7.7436066   3.7575183   2.2311535\n",
      "2   113  0.00047302246  4.9770966   1.3233047   1.1549083\n",
      "3   473  0.00037765503  3.8846436  0.84255683   0.8231378\n",
      "4   352  0.00018692017  2.0258427   0.6941188   0.4883672\n",
      "5  3641  3.8146973e-05  1.7938309  0.63073695  0.49782026\n"
     ]
    }
   ],
   "source": [
    "best_gender_measures = dict()\n",
    "for idx, gender in enumerate(genders):\n",
    "    best_gender_measures[gender] = []\n",
    "    for index, curve in enumerate(our_semantic[:-1]):\n",
    "        measured = gender_measures[gender][index]\n",
    "        ground_truth = mfd_gender_measures[gender][curve]\n",
    "        result = (measured - tc.FloatTensor(ground_truth/10)[::2].unsqueeze(0)).abs()\n",
    "        min_rows_values, min_rows_indices = result.min(0)\n",
    "        min_columns_values, min_columns_indices = min_rows_values.min(0)\n",
    "        best = min_rows_indices[min_columns_indices]\n",
    "        best_gender_measures[gender].append((\n",
    "            best.numpy(),\n",
    "            result[best].min().numpy(),\n",
    "            result[best].max().numpy(),\n",
    "            result[best].mean().numpy(),\n",
    "            result[best].std().numpy()\n",
    "        ))\n",
    "gender_results = {\n",
    "    'male': pd.DataFrame(best_gender_measures['male'], columns=['best', 'min', 'max', 'mean', 'std']),\n",
    "    'female': pd.DataFrame(best_gender_measures['female'], columns=['best', 'min', 'max', 'mean', 'std'])\n",
    "}\n",
    "print(\"male errors:\")\n",
    "print(gender_results['male'])\n",
    "print(\"\\nfemale errors:\")\n",
    "print(gender_results['female'])"
   ]
  },
  {
   "cell_type": "code",
   "execution_count": 10,
   "metadata": {},
   "outputs": [
    {
     "name": "stdout",
     "output_type": "stream",
     "text": [
      "male errors:\n",
      "   best           min         max        mean         std\n",
      "0   187   0.050933838   4.6888275   1.1817387   1.0458738\n",
      "1   335   0.048301697   1.6495056   0.5694864   0.4000256\n",
      "2   132   0.007156372   1.2815323   0.4521351   0.3367785\n",
      "3   543   0.037849426   1.9917145  0.68962806   0.5091672\n",
      "4   390  0.0028152466  0.90377045    0.312722  0.20489208\n",
      "5  5268    0.01726532   2.3889008   0.6928124   0.5737223\n",
      "\n",
      "female errors:\n",
      "   best           min        max        mean         std\n",
      "0   147   0.020835876   4.166733   1.7483453   1.2649621\n",
      "1   301  0.0072021484  3.5882034   1.0795076    0.954025\n",
      "2   109   0.065208435  4.9380493   1.1920289   1.0881943\n",
      "3   472    0.05659485   3.587326  0.82730645   0.7422466\n",
      "4   346   0.014976501  1.3496666  0.54173285  0.35838273\n",
      "5  3800  0.0028457642  1.2863541  0.49442312  0.34019846\n"
     ]
    }
   ],
   "source": [
    "best_gender_measures = dict()\n",
    "for idx, gender in enumerate(genders):\n",
    "    best_gender_measures[gender] = []\n",
    "    for index, curve in enumerate(our_semantic[:-1]):\n",
    "        measured = gender_measures[gender][index]\n",
    "        ground_truth = mfd_gender_measures[gender][curve]\n",
    "        result = (measured - tc.FloatTensor(ground_truth/10)[::2].unsqueeze(0)).abs()\n",
    "        min_rows_values = result.mean(1)\n",
    "        min_columns_values, min_columns_indices = min_rows_values.min(0)\n",
    "        best = min_columns_indices\n",
    "        best_gender_measures[gender].append((\n",
    "            best.numpy(),\n",
    "            result[best].min().numpy(),\n",
    "            result[best].max().numpy(),\n",
    "            result[best].mean().numpy(),\n",
    "            result[best].std().numpy()\n",
    "        ))\n",
    "gender_results = {\n",
    "    'male': pd.DataFrame(best_gender_measures['male'], columns=['best', 'min', 'max', 'mean', 'std']),\n",
    "    'female': pd.DataFrame(best_gender_measures['female'], columns=['best', 'min', 'max', 'mean', 'std'])\n",
    "}\n",
    "print(\"male errors:\")\n",
    "print(gender_results['male'])\n",
    "print(\"\\nfemale errors:\")\n",
    "print(gender_results['female'])"
   ]
  },
  {
   "cell_type": "code",
   "execution_count": 11,
   "metadata": {},
   "outputs": [],
   "source": [
    "best_gender_curves = dict()\n",
    "for gender in genders:\n",
    "    all_positions = []\n",
    "    best_gender_curves[gender] = []\n",
    "    for index, curve in enumerate(our_semantic[:-1]):\n",
    "        best = gender_results[gender].loc[index]['best']\n",
    "        coordinates = gender_curves[gender][curve_index[curve]][best]\n",
    "        best_gender_curves[gender].append(coordinates)\n",
    "        faces = subdivided_bodies['faces'][gender].to(device)\n",
    "        bodies = subdivided_bodies['vertices'][gender]\n",
    "        body = bodies[selected_subjects[gender]].to(device)\n",
    "        position = CurveUtils.generate_positions(coordinates, body.to(device))\n",
    "        all_positions.append(position)\n",
    "    save_obj(f'output/{gender}_points.obj', tc.row_stack(all_positions))\n",
    "tc.save(best_gender_curves, 'data/selected_gender_curves.zip')"
   ]
  }
 ],
 "metadata": {
  "kernelspec": {
   "display_name": "Python 3",
   "language": "python",
   "name": "python3"
  },
  "language_info": {
   "codemirror_mode": {
    "name": "ipython",
    "version": 3
   },
   "file_extension": ".py",
   "mimetype": "text/x-python",
   "name": "python",
   "nbconvert_exporter": "python",
   "pygments_lexer": "ipython3",
   "version": "3.10.6"
  },
  "orig_nbformat": 4
 },
 "nbformat": 4,
 "nbformat_minor": 2
}
