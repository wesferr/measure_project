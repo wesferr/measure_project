{
 "cells": [
  {
   "cell_type": "code",
   "execution_count": 1,
   "metadata": {},
   "outputs": [],
   "source": [
    "import torch as tc\n",
    "import pandas as pd\n",
    "import numpy as np\n",
    "from src.bbox import BBox\n",
    "import open3d as otd\n",
    "from tqdm import tqdm\n",
    "import matplotlib.pyplot as plt\n",
    "otd_vector3d = otd.utility.Vector3dVector\n",
    "from src.star.star import STAR\n",
    "from src.curve_utils import CurveUtils\n",
    "from src.curve_generator import CurveGenerator\n",
    "from src.mesh_manipulation import save_obj\n",
    "device = tc.device(\"cuda\" if tc.cuda.is_available() else \"cpu\")\n",
    "genders = ['female', 'male']\n",
    "male = ['male']\n",
    "female = ['female']"
   ]
  },
  {
   "cell_type": "code",
   "execution_count": 2,
   "metadata": {},
   "outputs": [],
   "source": [
    "curve_index = {\n",
    "    'neck_girth':4, # 5.3.2\n",
    "    'bust_chest_girth': 0, # 5.3.4\n",
    "    'waist_girth': 1, # 5.3.10\n",
    "    'hip_girth': 1, # 5.3.13\n",
    "    'upper_arm_girth': 3, # 5.3.16\n",
    "    'thigh_girth': 2, # 5.3.20\n",
    "}"
   ]
  },
  {
   "cell_type": "code",
   "execution_count": 3,
   "metadata": {},
   "outputs": [],
   "source": [
    "subdivided_bodies = tc.load('data/ss20_subdivided_bodies.pt')\n",
    "gender_curves = tc.load(\"data/gender_curves.zip\")\n",
    "gender_results = tc.load(\"data/best_gender_curves.zip\")"
   ]
  },
  {
   "cell_type": "code",
   "execution_count": 4,
   "metadata": {},
   "outputs": [
    {
     "name": "stderr",
     "output_type": "stream",
     "text": [
      "100%|██████████| 41/41 [00:43<00:00,  1.06s/it]\n",
      "100%|██████████| 20/20 [00:23<00:00,  1.17s/it]\n"
     ]
    }
   ],
   "source": [
    "column_curves_measures = {}\n",
    "\n",
    "for idx, gender in enumerate(genders):\n",
    "\n",
    "    template = subdivided_bodies['faces'][gender].to(device)\n",
    "\n",
    "    column_curves_measures[gender] = []\n",
    "    best_neck = gender_curves[gender][curve_index['neck_girth']][gender_results[gender]['best']['neck_girth']]\n",
    "    best_neck = tc.FloatTensor(best_neck).to(device)\n",
    "\n",
    "    best_waist = gender_curves[gender][curve_index['waist_girth']][gender_results[gender]['best']['waist_girth']]\n",
    "    best_waist = tc.FloatTensor(best_waist).to(device)\n",
    "    \n",
    "    bodies_interator = tqdm(subdivided_bodies['vertices'][gender])\n",
    "    for body in bodies_interator:\n",
    "\n",
    "        best_neck_pos = CurveUtils.generate_positions(best_neck, body.to(device))\n",
    "        best_waist_pos = CurveUtils.generate_positions(best_waist, body.to(device))\n",
    "\n",
    "        neck_ht = best_neck_pos[:,1].max()\n",
    "        waist_ht = best_waist_pos[:,1].max()\n",
    "\n",
    "        neck_width = abs(best_neck_pos[:,2]).max()\n",
    "        waist_width = abs(best_waist_pos[:,2]).max()\n",
    "\n",
    "        \n",
    "        width = (neck_width + (waist_width/2))*1.2\n",
    "        height = neck_ht - waist_ht\n",
    "        center = (0, waist_ht + (height/2), -width/2)\n",
    "        column_box = BBox(length=width, width=width, height=height, center=tc.FloatTensor(center).to(device))\n",
    "        column_curves = CurveGenerator.calculate_curve(body.to(device), column_box, 0, template, device)      \n",
    "\n",
    "\n",
    "        all_col_curves = []\n",
    "        for curve in column_curves[0]:\n",
    "            positions = CurveUtils.generate_positions(tc.FloatTensor(curve).to(device), body.to(device))\n",
    "            all_col_curves.append(positions[:,0].abs().mean())\n",
    "        idmin = tc.FloatTensor(all_col_curves).abs().argmin()\n",
    "        measure = CurveUtils.linear_distance(tc.FloatTensor(column_curves[2][idmin]))\n",
    "        column_curves_measures[gender].append(measure)"
   ]
  },
  {
   "cell_type": "code",
   "execution_count": null,
   "metadata": {},
   "outputs": [],
   "source": []
  }
 ],
 "metadata": {
  "kernelspec": {
   "display_name": "Python 3",
   "language": "python",
   "name": "python3"
  },
  "language_info": {
   "codemirror_mode": {
    "name": "ipython",
    "version": 3
   },
   "file_extension": ".py",
   "mimetype": "text/x-python",
   "name": "python",
   "nbconvert_exporter": "python",
   "pygments_lexer": "ipython3",
   "version": "3.10.12"
  },
  "orig_nbformat": 4
 },
 "nbformat": 4,
 "nbformat_minor": 2
}
