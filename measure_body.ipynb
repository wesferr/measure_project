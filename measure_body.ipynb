{
 "cells": [
  {
   "cell_type": "code",
   "execution_count": 1,
   "metadata": {},
   "outputs": [],
   "source": [
    "import torch as tc\n",
    "import numpy as np\n",
    "import pandas as pd\n",
    "\n",
    "from star.star import STAR\n",
    "from curve_utils import CurveUtils\n",
    "from curve_generator import CurveGenerator, get_all_curves, select_better\n",
    "device = tc.device(\"cuda\" if tc.cuda.is_available() else \"cpu\")"
   ]
  },
  {
   "cell_type": "code",
   "execution_count": 2,
   "metadata": {},
   "outputs": [],
   "source": [
    "their_semantics = [\n",
    "    'Neck girth',\n",
    "    'Bust girth',\n",
    "    'Waist girth',\n",
    "    'Hip girth',\n",
    "    'Upper arm girth R',\n",
    "    'Thigh girth R',\n",
    "    'Height (m)',\n",
    "    'Inside leg height',\n",
    "    'Across back shoulder width',\n",
    "]\n",
    "our_semantic = [\n",
    "    'neck_girth', # 5.3.2\n",
    "    'bust_chest_girth', # 5.3.4\n",
    "    'waist_girth', # 5.3.10\n",
    "    'hip_girth', # 5.3.13\n",
    "    'upper_arm_girth', # 5.3.16\n",
    "    'thigh_girth', # 5.3.20\n",
    "    'stature', # 5.1.1\n",
    "    'crotch_height', # 5.1.15\n",
    "    'shoulder_width', # 5.4.3\n",
    "]\n",
    "curve_index = {\n",
    "    'neck_girth':4, # 5.3.2\n",
    "    'bust_chest_girth': 0, # 5.3.4\n",
    "    'waist_girth': 1, # 5.3.10\n",
    "    'hip_girth': 1, # 5.3.13\n",
    "    'upper_arm_girth': 3, # 5.3.16\n",
    "    'thigh_girth': 2, # 5.3.20\n",
    "    'crotch_height': 5\n",
    "}"
   ]
  },
  {
   "cell_type": "markdown",
   "metadata": {},
   "source": [
    "# Prepating Bodies"
   ]
  },
  {
   "cell_type": "code",
   "execution_count": 3,
   "metadata": {},
   "outputs": [],
   "source": [
    "for gender in ['female', 'male']:\n",
    "    betas = tc.FloatTensor(np.load(f'data/{gender}_betas.npy')).to(device)\n",
    "    trans = tc.FloatTensor(np.load(f'data/{gender}_trans.npy')).to(device)\n",
    "    star = STAR(gender=gender, passed_path=f\"star/{gender}.npz\", num_betas=betas.shape[-1])\n",
    "    \n",
    "    poses = tc.FloatTensor(np.load(f'data/{gender}_poses.npy')).to(device)\n",
    "    bodies = star(poses, betas, trans)\n",
    "    tc.save(bodies, f'data/{gender}_bodies_a.pt')\n",
    "    \n",
    "    poses = np.zeros((betas.shape[0],72))\n",
    "    poses[:,5] = 6 * np.pi/180\n",
    "    poses[:,8] = -6 * np.pi/180\n",
    "    poses = tc.cuda.FloatTensor(poses)\n",
    "    bodies = star(poses, betas, trans)\n",
    "    tc.save(bodies, f'data/{gender}_bodies_t.pt')\n",
    "\n",
    "template = star.faces.to(device)"
   ]
  },
  {
   "cell_type": "code",
   "execution_count": 4,
   "metadata": {},
   "outputs": [],
   "source": [
    "%%script false --no-raise-error\n",
    "for gender in ['female', 'male']:\n",
    "    bodies = tc.load(f'data/{gender}_bodies_t.pt')\n",
    "    for idx, body in enumerate(bodies):\n",
    "            CurveUtils.save_obj(f\"tests/{gender}_{idx}_body.obj\", body, star.faces+1)"
   ]
  },
  {
   "cell_type": "code",
   "execution_count": 5,
   "metadata": {},
   "outputs": [],
   "source": [
    "selected_subjects = dict()\n",
    "selected_measures = dict()\n",
    "\n",
    "for gender in ['female', 'male']:\n",
    "    measures = pd.read_pickle(f'data/{gender}_measures.zip')\n",
    "    measures.index = measures['Subject']\n",
    "    measures = measures[measures['Measuring station'] == \"MOVE4D\"]\n",
    "    temp_measures = measures[their_semantics].iloc[::2]\n",
    "    \n",
    "    mean_measures = measures._get_numeric_data().mean(axis=0)\n",
    "    # selected_subjects[gender] = abs(temp_measures - mean_measures).sum(axis=1).idxmin()\n",
    "    selected_subjects[gender] = 'IEEEP2_01' if gender == 'female' else 'IEEEP2_02'\n",
    "    selected_measures[gender] = temp_measures.loc[selected_subjects[gender]]\n",
    "    selected_subjects[gender] = temp_measures.index.get_loc(selected_subjects[gender])\n",
    "    selected_measures[gender].index = our_semantic\n",
    "    selected_measures[gender]['stature'] *= 1000"
   ]
  },
  {
   "cell_type": "code",
   "execution_count": 6,
   "metadata": {},
   "outputs": [],
   "source": [
    "selected_subjects[\"female\"] = 2"
   ]
  },
  {
   "cell_type": "code",
   "execution_count": 7,
   "metadata": {},
   "outputs": [
    {
     "name": "stdout",
     "output_type": "stream",
     "text": [
      "MEASURING FEMALE BODY\n",
      "(tensor([[[0.0000, 0.7539, 0.1168],\n",
      "         [0.0000, 0.9441, 0.0473],\n",
      "         [0.0000, 0.7539, 0.1168],\n",
      "         ...,\n",
      "         [0.0000, 0.2481, 0.0995],\n",
      "         [0.0000, 0.2632, 0.0938],\n",
      "         [0.0000, 0.2653, 0.0932]]], device='cuda:0'), tensor([0], device='cuda:0'))\n"
     ]
    }
   ],
   "source": [
    "# %%script false --no-raise-error\n",
    "all_data = []\n",
    "all_best_curves = []\n",
    "for gender in ['female']:\n",
    "    print(f'MEASURING {gender.upper()} BODY')\n",
    "    bodies = tc.load(f'data/{gender}_bodies_t.pt')\n",
    "    body = bodies[selected_subjects[gender]]\n",
    "    measures = selected_measures[gender]\n",
    "    result = get_all_curves(body, measures, template, device)\n",
    "    best_curves, data, addpositions = select_better(result, body, template, measures, device)\n",
    "    CurveUtils.save_obj('test_curves.obj', addpositions[0])\n",
    "    # tc.save(best_curves, f'data/{gender}_best_curves.zip')"
   ]
  },
  {
   "cell_type": "code",
   "execution_count": 8,
   "metadata": {},
   "outputs": [],
   "source": [
    "all_measures = dict()\n",
    "\n",
    "for gender in ['female', 'male']:\n",
    "    measures = pd.read_pickle(f'data/{gender}_measures.zip')\n",
    "    all_measures[gender] = dict()\n",
    "    for station in ['MOVE4D', 'Expert measurer 1', 'Expert measurer 5']:\n",
    "        temp_measures = measures[measures['Measuring station'] == station]\n",
    "        temp_measures = temp_measures[temp_measures['Phase'] == 2]\n",
    "        temp_measures = temp_measures[their_semantics]\n",
    "        temp_measures.columns = our_semantic\n",
    "        all_measures[gender][station] = temp_measures"
   ]
  },
  {
   "cell_type": "code",
   "execution_count": 9,
   "metadata": {},
   "outputs": [
    {
     "ename": "ValueError",
     "evalue": "Shape of passed values is (72, 6), indices imply (72, 7)",
     "output_type": "error",
     "traceback": [
      "\u001b[0;31m---------------------------------------------------------------------------\u001b[0m",
      "\u001b[0;31mValueError\u001b[0m                                Traceback (most recent call last)",
      "Cell \u001b[0;32mIn [9], line 25\u001b[0m\n\u001b[1;32m     23\u001b[0m tempdata \u001b[39m=\u001b[39m tempdata[tempdata[\u001b[39m'\u001b[39m\u001b[39mMeasuring station\u001b[39m\u001b[39m'\u001b[39m] \u001b[39m==\u001b[39m \u001b[39m'\u001b[39m\u001b[39mMOVE4D\u001b[39m\u001b[39m'\u001b[39m]\n\u001b[1;32m     24\u001b[0m tempdata \u001b[39m=\u001b[39m tempdata[\u001b[39m'\u001b[39m\u001b[39mAge (years)\u001b[39m\u001b[39m'\u001b[39m]\n\u001b[0;32m---> 25\u001b[0m data_to_save \u001b[39m=\u001b[39m pd\u001b[39m.\u001b[39;49mDataFrame(our_measures, index\u001b[39m=\u001b[39;49mtempdata\u001b[39m.\u001b[39;49mindex,columns\u001b[39m=\u001b[39;49m\u001b[39mlist\u001b[39;49m(curve_index\u001b[39m.\u001b[39;49mkeys()))\n\u001b[1;32m     26\u001b[0m data_to_save[\u001b[39m'\u001b[39m\u001b[39mage\u001b[39m\u001b[39m'\u001b[39m] \u001b[39m=\u001b[39m tempdata\n\u001b[1;32m     27\u001b[0m data_to_save\u001b[39m.\u001b[39mto_csv(\u001b[39mf\u001b[39m\u001b[39m'\u001b[39m\u001b[39mdata/\u001b[39m\u001b[39m{\u001b[39;00mgender\u001b[39m}\u001b[39;00m\u001b[39m_calculated_measures.csv\u001b[39m\u001b[39m'\u001b[39m)\n",
      "File \u001b[0;32m~/.local/lib/python3.10/site-packages/pandas/core/frame.py:737\u001b[0m, in \u001b[0;36mDataFrame.__init__\u001b[0;34m(self, data, index, columns, dtype, copy)\u001b[0m\n\u001b[1;32m    729\u001b[0m         mgr \u001b[39m=\u001b[39m arrays_to_mgr(\n\u001b[1;32m    730\u001b[0m             arrays,\n\u001b[1;32m    731\u001b[0m             columns,\n\u001b[0;32m   (...)\u001b[0m\n\u001b[1;32m    734\u001b[0m             typ\u001b[39m=\u001b[39mmanager,\n\u001b[1;32m    735\u001b[0m         )\n\u001b[1;32m    736\u001b[0m     \u001b[39melse\u001b[39;00m:\n\u001b[0;32m--> 737\u001b[0m         mgr \u001b[39m=\u001b[39m ndarray_to_mgr(\n\u001b[1;32m    738\u001b[0m             data,\n\u001b[1;32m    739\u001b[0m             index,\n\u001b[1;32m    740\u001b[0m             columns,\n\u001b[1;32m    741\u001b[0m             dtype\u001b[39m=\u001b[39;49mdtype,\n\u001b[1;32m    742\u001b[0m             copy\u001b[39m=\u001b[39;49mcopy,\n\u001b[1;32m    743\u001b[0m             typ\u001b[39m=\u001b[39;49mmanager,\n\u001b[1;32m    744\u001b[0m         )\n\u001b[1;32m    745\u001b[0m \u001b[39melse\u001b[39;00m:\n\u001b[1;32m    746\u001b[0m     mgr \u001b[39m=\u001b[39m dict_to_mgr(\n\u001b[1;32m    747\u001b[0m         {},\n\u001b[1;32m    748\u001b[0m         index,\n\u001b[0;32m   (...)\u001b[0m\n\u001b[1;32m    751\u001b[0m         typ\u001b[39m=\u001b[39mmanager,\n\u001b[1;32m    752\u001b[0m     )\n",
      "File \u001b[0;32m~/.local/lib/python3.10/site-packages/pandas/core/internals/construction.py:351\u001b[0m, in \u001b[0;36mndarray_to_mgr\u001b[0;34m(values, index, columns, dtype, copy, typ)\u001b[0m\n\u001b[1;32m    346\u001b[0m \u001b[39m# _prep_ndarray ensures that values.ndim == 2 at this point\u001b[39;00m\n\u001b[1;32m    347\u001b[0m index, columns \u001b[39m=\u001b[39m _get_axes(\n\u001b[1;32m    348\u001b[0m     values\u001b[39m.\u001b[39mshape[\u001b[39m0\u001b[39m], values\u001b[39m.\u001b[39mshape[\u001b[39m1\u001b[39m], index\u001b[39m=\u001b[39mindex, columns\u001b[39m=\u001b[39mcolumns\n\u001b[1;32m    349\u001b[0m )\n\u001b[0;32m--> 351\u001b[0m _check_values_indices_shape_match(values, index, columns)\n\u001b[1;32m    353\u001b[0m \u001b[39mif\u001b[39;00m typ \u001b[39m==\u001b[39m \u001b[39m\"\u001b[39m\u001b[39marray\u001b[39m\u001b[39m\"\u001b[39m:\n\u001b[1;32m    355\u001b[0m     \u001b[39mif\u001b[39;00m \u001b[39missubclass\u001b[39m(values\u001b[39m.\u001b[39mdtype\u001b[39m.\u001b[39mtype, \u001b[39mstr\u001b[39m):\n",
      "File \u001b[0;32m~/.local/lib/python3.10/site-packages/pandas/core/internals/construction.py:422\u001b[0m, in \u001b[0;36m_check_values_indices_shape_match\u001b[0;34m(values, index, columns)\u001b[0m\n\u001b[1;32m    420\u001b[0m passed \u001b[39m=\u001b[39m values\u001b[39m.\u001b[39mshape\n\u001b[1;32m    421\u001b[0m implied \u001b[39m=\u001b[39m (\u001b[39mlen\u001b[39m(index), \u001b[39mlen\u001b[39m(columns))\n\u001b[0;32m--> 422\u001b[0m \u001b[39mraise\u001b[39;00m \u001b[39mValueError\u001b[39;00m(\u001b[39mf\u001b[39m\u001b[39m\"\u001b[39m\u001b[39mShape of passed values is \u001b[39m\u001b[39m{\u001b[39;00mpassed\u001b[39m}\u001b[39;00m\u001b[39m, indices imply \u001b[39m\u001b[39m{\u001b[39;00mimplied\u001b[39m}\u001b[39;00m\u001b[39m\"\u001b[39m)\n",
      "\u001b[0;31mValueError\u001b[0m: Shape of passed values is (72, 6), indices imply (72, 7)"
     ]
    }
   ],
   "source": [
    "tc.set_printoptions(precision=2, sci_mode=False, linewidth=100)\n",
    "\n",
    "for gender in ['female']:\n",
    "    bodies = tc.load(f'data/{gender}_bodies_a.pt')\n",
    "    best_curves = tc.load(f'data/{gender}_best_curves.zip')\n",
    "\n",
    "    all_bodies_measures = []\n",
    "    for idx,body in enumerate(bodies):\n",
    "        all_curves_measures = []\n",
    "        all_positions = []\n",
    "        for curve in best_curves:\n",
    "            position = CurveGenerator.generate_positions(body, curve)\n",
    "            position, measures = CurveUtils.ray_polygon_cosilion(body[template], position)\n",
    "            all_positions.extend(position.cpu().numpy())\n",
    "            measures = CurveGenerator.calculate_distances(position)\n",
    "            all_curves_measures.append(measures)\n",
    "        all_bodies_measures.append(all_curves_measures)\n",
    "        CurveUtils.save_obj(f\"tests/{gender}_{idx}_curves.obj\", all_positions)\n",
    "    all_bodies_measures = tc.FloatTensor(all_bodies_measures)\n",
    "    our_measures = all_bodies_measures\n",
    "\n",
    "    tempdata = pd.read_pickle(f'data/{gender}_measures.zip')\n",
    "    tempdata = tempdata[tempdata['Measuring station'] == 'MOVE4D']\n",
    "    tempdata = tempdata['Age (years)']\n",
    "    data_to_save = pd.DataFrame(our_measures, index=tempdata.index,columns=list(curve_index.keys()))\n",
    "    data_to_save['age'] = tempdata\n",
    "    data_to_save.to_csv(f'data/{gender}_calculated_measures.csv')\n",
    "\n",
    "    for station in ['MOVE4D', 'Expert measurer 1', 'Expert measurer 5']:\n",
    "        print(f\"\\n\\nmeasures difference from {station}:\")\n",
    "        \n",
    "        ieee_measures = tc.FloatTensor(all_measures[gender][station][list(curve_index.keys())].to_numpy())\n",
    "        diff = abs(ieee_measures - (our_measures*10))\n",
    "\n",
    "        print(pd.DataFrame({\n",
    "            \"mean\": diff.mean(axis=0),\n",
    "            \"std\": diff.std(axis=0),\n",
    "            \"min\": diff.min(axis=0).values,\n",
    "            \"max\": diff.max(axis=0).values,\n",
    "        }, index=list(curve_index.keys())))"
   ]
  },
  {
   "cell_type": "code",
   "execution_count": null,
   "metadata": {},
   "outputs": [],
   "source": [
    "'''\n",
    "DONE neck_girth \n",
    "neck_to_waist\n",
    "DONE upper_arm_girth\n",
    "neck_to_wrist\n",
    "shoulder_width\n",
    "DONE bust_chest_girth\n",
    "DONE waist_girth\n",
    "DONE hip_girth\n",
    "DONE thigh_girth\n",
    "crotch_length\n",
    "leg_height\n",
    "'''"
   ]
  },
  {
   "cell_type": "code",
   "execution_count": null,
   "metadata": {},
   "outputs": [
    {
     "data": {
      "text/plain": [
       "tensor([-0.00,  0.14,  0.00], device='cuda:0')"
      ]
     },
     "execution_count": 18,
     "metadata": {},
     "output_type": "execute_result"
    }
   ],
   "source": [
    "body.mean(axis=0)"
   ]
  },
  {
   "cell_type": "code",
   "execution_count": null,
   "metadata": {},
   "outputs": [],
   "source": [
    "for gender in [\"female\", \"male\"]:\n",
    "    star = STAR(gender=gender, passed_path=f\"star/{gender}.npz\")\n",
    "    poses = tc.zeros((1,72)).to(device)\n",
    "    betas = tc.zeros((1,10)).to(device)\n",
    "    trans = tc.zeros((1,3)).to(device)\n",
    "    body = star(poses, betas, trans)[0]"
   ]
  },
  {
   "cell_type": "code",
   "execution_count": null,
   "metadata": {},
   "outputs": [],
   "source": []
  }
 ],
 "metadata": {
  "kernelspec": {
   "display_name": "Python 3.10.6 64-bit",
   "language": "python",
   "name": "python3"
  },
  "language_info": {
   "codemirror_mode": {
    "name": "ipython",
    "version": 3
   },
   "file_extension": ".py",
   "mimetype": "text/x-python",
   "name": "python",
   "nbconvert_exporter": "python",
   "pygments_lexer": "ipython3",
   "version": "3.10.6"
  },
  "orig_nbformat": 4,
  "vscode": {
   "interpreter": {
    "hash": "916dbcbb3f70747c44a77c7bcd40155683ae19c65e1c03b4aa3499c5328201f1"
   }
  }
 },
 "nbformat": 4,
 "nbformat_minor": 2
}
