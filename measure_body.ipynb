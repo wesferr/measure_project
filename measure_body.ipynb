{
 "cells": [
  {
   "cell_type": "code",
   "execution_count": 1,
   "id": "cbd8928c",
   "metadata": {},
   "outputs": [],
   "source": [
    "import torch as tc\n",
    "import numpy as np\n",
    "import pandas as pd\n",
    "\n",
    "from star.star import STAR\n",
    "from curve_utils import CurveUtils\n",
    "from curve_generator import CurveGenerator, get_all_curves, select_better\n",
    "device = tc.device(\"cuda\" if tc.cuda.is_available() else \"cpu\")"
   ]
  },
  {
   "cell_type": "markdown",
   "id": "67426cf3",
   "metadata": {},
   "source": [
    "# Prepating Bodies"
   ]
  },
  {
   "cell_type": "code",
   "execution_count": 2,
   "id": "a95b19b2",
   "metadata": {},
   "outputs": [],
   "source": [
    "# %%script false --no-raise-error\n",
    "for gender in ['female']:\n",
    "    betas = tc.FloatTensor(np.load(f'data/{gender}_betas.npy')).to(device)\n",
    "    trans = tc.FloatTensor(np.load(f'data/{gender}_trans.npy')).to(device)\n",
    "    star = STAR(gender=gender, passed_path=f\"star/{gender}.npz\", num_betas=betas.shape[-1])\n",
    "    \n",
    "    poses = tc.FloatTensor(np.load(f'data/{gender}_poses.npy')).to(device)\n",
    "    bodies = star(poses, betas, trans)\n",
    "    tc.save(bodies, f'data/{gender}_bodies_a.pt')\n",
    "    \n",
    "    poses = np.zeros((betas.shape[0],72))\n",
    "    poses[:,5] = 6 * np.pi/180\n",
    "    poses[:,8] = -6 * np.pi/180\n",
    "    poses = tc.cuda.FloatTensor(poses)\n",
    "    bodies = star(poses, betas, trans)\n",
    "    tc.save(bodies, f'data/{gender}_bodies_t.pt')\n",
    "\n",
    "template = star.faces.to(device)"
   ]
  },
  {
   "cell_type": "code",
   "execution_count": 3,
   "id": "51ed4dde",
   "metadata": {},
   "outputs": [],
   "source": [
    "%%script false --no-raise-error\n",
    "for gender in ['female', 'male']:\n",
    "    bodies = tc.load(f'data/{gender}_bodies_a.pt')\n",
    "    for idx, body in enumerate(bodies):\n",
    "            CurveUtils.save_obj(f\"tests/{gender}_{idx}_body.obj\", body, star.faces+1)"
   ]
  },
  {
   "cell_type": "markdown",
   "id": "c5be94c5",
   "metadata": {},
   "source": [
    "# Loading Measures"
   ]
  },
  {
   "cell_type": "code",
   "execution_count": 4,
   "id": "a3b7ee78",
   "metadata": {},
   "outputs": [],
   "source": [
    "their_semantics = [\n",
    "    'Neck girth',\n",
    "    'Bust girth',\n",
    "    'Waist girth',\n",
    "    'Hip girth',\n",
    "    'Upper arm girth R',\n",
    "    'Thigh girth R',\n",
    "    'Height (m)',\n",
    "    'Inside leg height',\n",
    "    'Across back shoulder width',\n",
    "]\n",
    "our_semantic = [\n",
    "    'neck_girth', # 5.3.2\n",
    "    'bust_chest_girth', # 5.3.4\n",
    "    'waist_girth', # 5.3.10\n",
    "    'hip_girth', # 5.3.13\n",
    "    'upper_arm_girth', # 5.3.16\n",
    "    'thigh_girth', # 5.3.20\n",
    "    'height', # 5.1.1\n",
    "    'crotch_height', # 5.1.15\n",
    "    'shoulder_width', # 5.4.3\n",
    "]"
   ]
  },
  {
   "cell_type": "code",
   "execution_count": 5,
   "id": "2c4038f7",
   "metadata": {},
   "outputs": [
    {
     "name": "stderr",
     "output_type": "stream",
     "text": [
      "/tmp/ipykernel_953681/2761445603.py:9: FutureWarning: Dropping of nuisance columns in DataFrame reductions (with 'numeric_only=None') is deprecated; in a future version this will raise TypeError.  Select only valid columns before calling the reduction.\n",
      "  mean_measures = measures.mean(axis=0)\n",
      "/tmp/ipykernel_953681/2761445603.py:9: FutureWarning: Dropping of nuisance columns in DataFrame reductions (with 'numeric_only=None') is deprecated; in a future version this will raise TypeError.  Select only valid columns before calling the reduction.\n",
      "  mean_measures = measures.mean(axis=0)\n"
     ]
    }
   ],
   "source": [
    "selected_subjects = dict()\n",
    "selected_measures = dict()\n",
    "\n",
    "for gender in ['female', 'male']:\n",
    "    measures = pd.read_pickle(f'data/{gender}_measures.pkl')\n",
    "    measures = measures[measures['Measuring station'] == \"MOVE4D\"]\n",
    "    temp_measures = measures[their_semantics].iloc[::2]\n",
    "    \n",
    "    mean_measures = measures.mean(axis=0)\n",
    "    # selected_subjects[gender] = abs(temp_measures - mean_measures).sum(axis=1).idxmin()\n",
    "    selected_subjects[gender] = 'IEEEP2_01' if gender == 'female' else 'IEEEP2_02'\n",
    "    selected_measures[gender] = temp_measures.loc[selected_subjects[gender]]\n",
    "    selected_subjects[gender] = temp_measures.index.get_loc(selected_subjects[gender])\n",
    "    selected_measures[gender].index = our_semantic\n",
    "    selected_measures[gender]['height'] *= 1000"
   ]
  },
  {
   "cell_type": "code",
   "execution_count": 6,
   "id": "120e0422",
   "metadata": {},
   "outputs": [
    {
     "name": "stdout",
     "output_type": "stream",
     "text": [
      "PROCESSING FEMALE\n",
      "PROCESSING MALE\n"
     ]
    }
   ],
   "source": [
    "\n",
    "results = get_all_curves(selected_subjects, selected_measures, template, device)\n",
    "for gender in ['female', 'male']:\n",
    "    tc.save(results[gender], f'./data/{gender}_result.zip')"
   ]
  },
  {
   "cell_type": "code",
   "execution_count": 7,
   "id": "c6d5b5f9",
   "metadata": {},
   "outputs": [
    {
     "name": "stdout",
     "output_type": "stream",
     "text": [
      "\n",
      "FEMALE\n",
      "                  original    measured  error(mm)\n",
      "neck_girth         32.7377   32.726025   0.116754\n",
      "bust_chest_girth   89.1216    89.11258   0.090207\n",
      "waist_girth        75.5405    75.53791   0.025895\n",
      "hip_girth         105.7480  105.731155   0.168446\n",
      "upper_arm_girth    28.5042    28.46891   0.352898\n",
      "thigh_girth        62.9809    63.03246   0.515593\n",
      "height            164.0000  165.284061  12.840614\n",
      "\n",
      "MALE\n",
      "                  original    measured  error(mm)\n",
      "neck_girth         38.2454   38.256454   0.110545\n",
      "bust_chest_girth  104.7790  104.813835   0.348351\n",
      "waist_girth        88.6614    88.67702   0.156172\n",
      "hip_girth         101.3170   101.28019   0.368105\n",
      "upper_arm_girth    33.2674    33.27432   0.069187\n",
      "thigh_girth        57.6963   57.589596   1.067042\n",
      "height            173.0000  172.957659   0.423412\n"
     ]
    }
   ],
   "source": [
    "select_better(selected_subjects, selected_measures, device)"
   ]
  },
  {
   "cell_type": "markdown",
   "id": "d0393149",
   "metadata": {},
   "source": [
    "# Validation"
   ]
  },
  {
   "cell_type": "code",
   "execution_count": 8,
   "id": "e360bb57",
   "metadata": {},
   "outputs": [],
   "source": [
    "curve_index = {\n",
    "    'neck_girth':4, # 5.3.2\n",
    "    'bust_chest_girth': 0, # 5.3.4\n",
    "    'waist_girth': 1, # 5.3.10\n",
    "    'hip_girth': 1, # 5.3.13\n",
    "    'upper_arm_girth': 3, # 5.3.16\n",
    "    'thigh_girth': 2, # 5.3.20\n",
    "}"
   ]
  },
  {
   "cell_type": "code",
   "execution_count": 9,
   "id": "3e413174",
   "metadata": {},
   "outputs": [],
   "source": [
    "all_measures = dict()\n",
    "\n",
    "for gender in ['female', 'male']:\n",
    "    measures = pd.read_pickle(f'data/{gender}_measures.pkl')\n",
    "    all_measures[gender] = dict()\n",
    "    for station in ['MOVE4D', 'Expert measurer 1', 'Expert measurer 5']:\n",
    "        temp_measures = measures[measures['Measuring station'] == station]\n",
    "        temp_measures = temp_measures[their_semantics].iloc[::2]\n",
    "        temp_measures = temp_measures[their_semantics]\n",
    "        temp_measures.columns = our_semantic\n",
    "        all_measures[gender][station] = temp_measures"
   ]
  },
  {
   "cell_type": "code",
   "execution_count": 10,
   "id": "4878a24d",
   "metadata": {},
   "outputs": [
    {
     "name": "stdout",
     "output_type": "stream",
     "text": [
      "\n",
      "\n",
      "measures difference from MOVE4D:\n",
      "                       mean        std       min        max\n",
      "neck_girth         8.962701   5.279659  1.419495  20.269348\n",
      "bust_chest_girth  14.320072  11.964585  1.880798  39.682007\n",
      "waist_girth       13.561870  11.516052  1.680298  39.929932\n",
      "hip_girth         17.224409  17.291718  0.809692  62.872559\n",
      "upper_arm_girth    5.779842   4.022608  0.938629  14.748718\n",
      "thigh_girth       11.098097   5.097017  1.697266  21.107910\n",
      "\n",
      "\n",
      "measures difference from Expert measurer 1:\n",
      "                       mean        std       min        max\n",
      "neck_girth        11.393088   9.181076  0.631592  35.647888\n",
      "bust_chest_girth  18.130131  12.654757  1.673828  49.510986\n",
      "waist_girth       29.253380  16.309570  0.500183  58.864807\n",
      "hip_girth         17.977722   8.728536  3.179688  40.178101\n",
      "upper_arm_girth    9.219637   7.090291  0.263885  24.891479\n",
      "thigh_girth       13.781871   9.420030  0.603577  38.435913\n",
      "\n",
      "\n",
      "measures difference from Expert measurer 5:\n",
      "                       mean        std       min        max\n",
      "neck_girth        18.332251  11.140158  1.272583  40.739075\n",
      "bust_chest_girth  19.581526  15.469748  0.680664  44.140869\n",
      "waist_girth       14.334185   9.715401  1.883423  33.591553\n",
      "hip_girth         25.644213  15.918324  1.542358  56.733398\n",
      "upper_arm_girth    6.781065   5.050633  0.108521  17.000793\n",
      "thigh_girth        8.853912   6.592039  0.951660  21.335449\n",
      "\n",
      "\n",
      "measures difference from MOVE4D:\n",
      "                       mean        std       min        max\n",
      "neck_girth         6.495063   4.077170  0.639343  18.273895\n",
      "bust_chest_girth   8.026716   5.710357  0.515503  24.289429\n",
      "waist_girth       25.101309  21.421331  1.647949  77.303223\n",
      "hip_girth          8.654199   5.793391  0.130676  20.684326\n",
      "upper_arm_girth    5.527544   3.324205  1.719452  14.268616\n",
      "thigh_girth       12.716843   5.584313  3.261108  23.105042\n",
      "\n",
      "\n",
      "measures difference from Expert measurer 1:\n",
      "                       mean        std       min        max\n",
      "neck_girth        10.936844   9.760839  0.198334  38.653900\n",
      "bust_chest_girth  23.860735  16.603098  2.978760  64.723877\n",
      "waist_girth       38.238377  24.786951  6.026855  73.983154\n",
      "hip_girth          7.250990   8.166624  0.611206  35.858887\n",
      "upper_arm_girth    8.214667   8.027146  0.698578  31.351929\n",
      "thigh_girth       12.036564   8.870822  0.932739  27.678528\n",
      "\n",
      "\n",
      "measures difference from Expert measurer 5:\n",
      "                       mean        std       min         max\n",
      "neck_girth        16.430487  10.267450  3.442780   39.153900\n",
      "bust_chest_girth  24.191505  13.380215  0.402100   60.283020\n",
      "waist_girth       32.297615  32.035339  1.007141  133.476807\n",
      "hip_girth         26.694336   9.341247  8.523315   41.858887\n",
      "upper_arm_girth    9.642964   8.071363  0.782074   23.648071\n",
      "thigh_girth       16.524994   9.778018  0.842651   37.481750\n"
     ]
    }
   ],
   "source": [
    "tc.set_printoptions(precision=2, sci_mode=False, linewidth=100)\n",
    "\n",
    "for gender in ['female', 'male']:\n",
    "    bodies = tc.load(f'data/{gender}_bodies_a.pt')\n",
    "    best_curves = tc.load(f'data/{gender}_best_curves.zip')\n",
    "\n",
    "    all_bodies_measures = []\n",
    "    for idx,body in enumerate(bodies):\n",
    "        all_curves_measures = []\n",
    "        all_positions = []\n",
    "        for curve in best_curves:\n",
    "            position = CurveGenerator.generate_positions(body, curve)[::2]\n",
    "            all_positions.extend(position.cpu().numpy())\n",
    "            measures = CurveGenerator.calculate_distances(position)\n",
    "            all_curves_measures.append(measures)\n",
    "        all_bodies_measures.append(all_curves_measures)\n",
    "        CurveUtils.save_obj(f\"tests/{gender}_{idx}_curves.obj\", all_positions)\n",
    "    all_bodies_measures = tc.FloatTensor(all_bodies_measures)\n",
    "    our_measures = all_bodies_measures\n",
    "\n",
    "    for station in ['MOVE4D', 'Expert measurer 1', 'Expert measurer 5']:\n",
    "        print(f\"\\n\\nmeasures difference from {station}:\")\n",
    "        inkreate_measures = tc.FloatTensor(all_measures[gender][station][list(curve_index.keys())].to_numpy())\n",
    "        diff = abs(inkreate_measures[::2] - (our_measures*10))\n",
    "\n",
    "        print(pd.DataFrame({\n",
    "            \"mean\": diff.mean(axis=0),\n",
    "            \"std\": diff.std(axis=0),\n",
    "            \"min\": diff.min(axis=0).values,\n",
    "            \"max\": diff.max(axis=0).values,\n",
    "        }, index=list(curve_index.keys())))"
   ]
  },
  {
   "cell_type": "code",
   "execution_count": null,
   "id": "a008c6f3",
   "metadata": {},
   "outputs": [],
   "source": []
  }
 ],
 "metadata": {
  "kernelspec": {
   "display_name": "Python 3.10.6 64-bit",
   "language": "python",
   "name": "python3"
  },
  "language_info": {
   "codemirror_mode": {
    "name": "ipython",
    "version": 3
   },
   "file_extension": ".py",
   "mimetype": "text/x-python",
   "name": "python",
   "nbconvert_exporter": "python",
   "pygments_lexer": "ipython3",
   "version": "3.10.6"
  },
  "vscode": {
   "interpreter": {
    "hash": "916dbcbb3f70747c44a77c7bcd40155683ae19c65e1c03b4aa3499c5328201f1"
   }
  }
 },
 "nbformat": 4,
 "nbformat_minor": 5
}
