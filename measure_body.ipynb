{
 "cells": [
  {
   "cell_type": "code",
   "execution_count": 1,
   "metadata": {},
   "outputs": [],
   "source": [
    "import torch as tc\n",
    "import numpy as np\n",
    "import pandas as pd\n",
    "\n",
    "from star.star import STAR\n",
    "from curve_utils import CurveUtils\n",
    "from curve_generator import CurveGenerator, get_all_curves, select_better\n",
    "device = tc.device(\"cuda\" if tc.cuda.is_available() else \"cpu\")"
   ]
  },
  {
   "cell_type": "code",
   "execution_count": 2,
   "metadata": {},
   "outputs": [],
   "source": [
    "their_semantics = [\n",
    "    'Neck girth',\n",
    "    'Bust girth',\n",
    "    'Waist girth',\n",
    "    'Hip girth',\n",
    "    'Upper arm girth R',\n",
    "    'Thigh girth R',\n",
    "    'Height (m)',\n",
    "    'Inside leg height',\n",
    "    'Across back shoulder width',\n",
    "]\n",
    "our_semantic = [\n",
    "    'neck_girth', # 5.3.2\n",
    "    'bust_chest_girth', # 5.3.4\n",
    "    'waist_girth', # 5.3.10\n",
    "    'hip_girth', # 5.3.13\n",
    "    'upper_arm_girth', # 5.3.16\n",
    "    'thigh_girth', # 5.3.20\n",
    "    'stature', # 5.1.1\n",
    "    'crotch_height', # 5.1.15\n",
    "    'shoulder_width', # 5.4.3\n",
    "]\n",
    "curve_index = {\n",
    "    'neck_girth':4, # 5.3.2\n",
    "    'bust_chest_girth': 0, # 5.3.4\n",
    "    'waist_girth': 1, # 5.3.10\n",
    "    'hip_girth': 1, # 5.3.13\n",
    "    'upper_arm_girth': 3, # 5.3.16\n",
    "    'thigh_girth': 2, # 5.3.20\n",
    "}"
   ]
  },
  {
   "cell_type": "markdown",
   "metadata": {},
   "source": [
    "# Prepating Bodies"
   ]
  },
  {
   "cell_type": "code",
   "execution_count": 3,
   "metadata": {},
   "outputs": [],
   "source": [
    "for gender in ['female', 'male']:\n",
    "    betas = tc.FloatTensor(np.load(f'data/{gender}_betas.npy')).to(device)\n",
    "    trans = tc.FloatTensor(np.load(f'data/{gender}_trans.npy')).to(device)\n",
    "    star = STAR(gender=gender, passed_path=f\"star/{gender}.npz\", num_betas=betas.shape[-1])\n",
    "    \n",
    "    poses = tc.FloatTensor(np.load(f'data/{gender}_poses.npy')).to(device)\n",
    "    bodies = star(poses, betas, trans)\n",
    "    tc.save(bodies, f'data/{gender}_bodies_a.pt')\n",
    "    \n",
    "    poses = np.zeros((betas.shape[0],72))\n",
    "    poses[:,5] = 6 * np.pi/180\n",
    "    poses[:,8] = -6 * np.pi/180\n",
    "    poses = tc.cuda.FloatTensor(poses)\n",
    "    bodies = star(poses, betas, trans)\n",
    "    tc.save(bodies, f'data/{gender}_bodies_t.pt')\n",
    "\n",
    "template = star.faces.to(device)"
   ]
  },
  {
   "cell_type": "code",
   "execution_count": 4,
   "metadata": {},
   "outputs": [],
   "source": [
    "%%script false --no-raise-error\n",
    "for gender in ['female', 'male']:\n",
    "    bodies = tc.load(f'data/{gender}_bodies_a.pt')\n",
    "    for idx, body in enumerate(bodies):\n",
    "            CurveUtils.save_obj(f\"tests/{gender}_{idx}_body.obj\", body, star.faces+1)"
   ]
  },
  {
   "cell_type": "code",
   "execution_count": 5,
   "metadata": {},
   "outputs": [],
   "source": [
    "selected_subjects = dict()\n",
    "selected_measures = dict()\n",
    "\n",
    "for gender in ['female', 'male']:\n",
    "    measures = pd.read_pickle(f'data/{gender}_measures.zip')\n",
    "    measures.index = measures['Subject']\n",
    "    measures = measures[measures['Measuring station'] == \"MOVE4D\"]\n",
    "    temp_measures = measures[their_semantics].iloc[::2]\n",
    "    \n",
    "    mean_measures = measures._get_numeric_data().mean(axis=0)\n",
    "    # selected_subjects[gender] = abs(temp_measures - mean_measures).sum(axis=1).idxmin()\n",
    "    selected_subjects[gender] = 'IEEEP2_01' if gender == 'female' else 'IEEEP2_02'\n",
    "    selected_measures[gender] = temp_measures.loc[selected_subjects[gender]]\n",
    "    selected_subjects[gender] = temp_measures.index.get_loc(selected_subjects[gender])\n",
    "    selected_measures[gender].index = our_semantic\n",
    "    selected_measures[gender]['stature'] *= 1000"
   ]
  },
  {
   "cell_type": "code",
   "execution_count": 6,
   "metadata": {},
   "outputs": [
    {
     "name": "stdout",
     "output_type": "stream",
     "text": [
      "MEASURING FEMALE BODY BASE\n",
      "MEASURING MALE BODY BASE\n"
     ]
    }
   ],
   "source": [
    "all_data = []\n",
    "all_best_curves = []\n",
    "for gender in ['female', 'male']:\n",
    "    print(f'MEASURING {gender.upper()} BODY')\n",
    "    bodies = tc.load(f'data/{gender}_bodies_t.pt')\n",
    "    body = bodies[selected_subjects[gender]]\n",
    "    measures = selected_measures[gender]\n",
    "    result = get_all_curves(body, measures, template, device)\n",
    "    best_curves, data = select_better(result, body, measures, device)\n",
    "    tc.save(best_curves, f'data/{gender}_best_curves.zip')"
   ]
  },
  {
   "cell_type": "code",
   "execution_count": 7,
   "metadata": {},
   "outputs": [],
   "source": [
    "all_measures = dict()\n",
    "\n",
    "for gender in ['female', 'male']:\n",
    "    measures = pd.read_pickle(f'data/{gender}_measures.zip')\n",
    "    all_measures[gender] = dict()\n",
    "    for station in ['MOVE4D', 'Expert measurer 1', 'Expert measurer 5']:\n",
    "        temp_measures = measures[measures['Measuring station'] == station]\n",
    "        temp_measures = temp_measures[temp_measures['Phase'] == 2]\n",
    "        temp_measures = temp_measures[their_semantics]\n",
    "        temp_measures.columns = our_semantic\n",
    "        all_measures[gender][station] = temp_measures"
   ]
  },
  {
   "cell_type": "code",
   "execution_count": 9,
   "metadata": {},
   "outputs": [
    {
     "name": "stdout",
     "output_type": "stream",
     "text": [
      "\n",
      "\n",
      "measures difference from MOVE4D:\n",
      "                       mean        std       min        max\n",
      "neck_girth         7.213131   5.445031  0.029602  21.260345\n",
      "bust_chest_girth  14.615535  10.640256  0.168945  39.519714\n",
      "waist_girth       10.799312  10.559777  0.033813  44.973267\n",
      "hip_girth         15.180845  14.894855  0.023376  62.328125\n",
      "upper_arm_girth    3.908664   3.441707  0.073303  12.717987\n",
      "thigh_girth       11.757521   6.062829  1.384216  25.540527\n",
      "\n",
      "\n",
      "measures difference from Expert measurer 1:\n",
      "                       mean        std       min        max\n",
      "neck_girth         9.933315   8.248340  0.115265  31.211517\n",
      "bust_chest_girth  18.382940  13.643857  0.030579  66.691650\n",
      "waist_girth       28.263540  17.901636  0.182739  71.637939\n",
      "hip_girth         15.499597  11.753053  0.265137  55.058105\n",
      "upper_arm_girth   10.953380  10.588461  0.477203  75.060242\n",
      "thigh_girth       12.212731   8.716128  0.095886  43.339905\n",
      "\n",
      "\n",
      "measures difference from Expert measurer 5:\n",
      "                       mean        std       min        max\n",
      "neck_girth        13.756908  14.017016  0.738831  97.406921\n",
      "bust_chest_girth  24.258329  18.207926  1.408936  67.143188\n",
      "waist_girth       16.906986  10.813799  0.013184  59.927612\n",
      "hip_girth         23.610956  13.924910  0.880615  54.013550\n",
      "upper_arm_girth    6.752731   6.225541  0.081787  33.895508\n",
      "thigh_girth        8.300447   6.211564  0.009155  26.908020\n",
      "\n",
      "\n",
      "measures difference from MOVE4D:\n",
      "                       mean        std        min         max\n",
      "neck_girth        56.347282  20.258327  14.514099  114.638062\n",
      "bust_chest_girth   9.214364   6.891189   0.027954   30.562500\n",
      "waist_girth       32.724335  22.079216   0.130798   87.175293\n",
      "hip_girth          7.891637   5.624544   0.161316   26.540771\n",
      "upper_arm_girth    4.954593   2.938775   0.017548   13.697968\n",
      "thigh_girth       13.315052   6.154340   2.394348   27.560913\n",
      "\n",
      "\n",
      "measures difference from Expert measurer 1:\n",
      "                       mean        std        min         max\n",
      "neck_girth        58.926620  19.102766  22.633850  119.224060\n",
      "bust_chest_girth  27.483368  16.270630   0.830933   66.943604\n",
      "waist_girth       37.997871  27.051094   1.558472   95.814270\n",
      "hip_girth          7.288282   5.932882   0.331665   33.950684\n",
      "upper_arm_girth    9.311439  10.695972   0.104309   82.791077\n",
      "thigh_girth       12.848821   7.832509   0.448547   36.321167\n",
      "\n",
      "\n",
      "measures difference from Expert measurer 5:\n",
      "                       mean        std        min         max\n",
      "neck_girth        63.975235  18.935551  27.187164  123.224060\n",
      "bust_chest_girth  27.804934  13.412036   0.014038   59.886719\n",
      "waist_girth       37.255234  41.156857   0.776978  312.090942\n",
      "hip_girth         22.237312  13.596076   0.035767   83.220825\n",
      "upper_arm_girth    7.392939   6.009298   0.009674   22.889282\n",
      "thigh_girth       20.142004   8.780676   0.067688   38.482910\n"
     ]
    }
   ],
   "source": [
    "tc.set_printoptions(precision=2, sci_mode=False, linewidth=100)\n",
    "\n",
    "for gender in ['female', 'male']:\n",
    "    bodies = tc.load(f'data/{gender}_bodies_a.pt')\n",
    "    best_curves = tc.load(f'data/{gender}_best_curves.zip')\n",
    "\n",
    "    all_bodies_measures = []\n",
    "    for idx,body in enumerate(bodies):\n",
    "        all_curves_measures = []\n",
    "        all_positions = []\n",
    "        for curve in best_curves:\n",
    "            position = CurveGenerator.generate_positions(body, curve)[::2]\n",
    "            # position, measures = CurveUtils.ray_polygon_cosilion(body,template,position)\n",
    "            all_positions.extend(position.cpu().numpy())\n",
    "            measures = CurveGenerator.calculate_distances(position)\n",
    "            all_curves_measures.append(measures)\n",
    "        all_bodies_measures.append(all_curves_measures)\n",
    "        CurveUtils.save_obj(f\"tests/{gender}_{idx}_curves.obj\", all_positions)\n",
    "    all_bodies_measures = tc.FloatTensor(all_bodies_measures)\n",
    "    our_measures = all_bodies_measures\n",
    "\n",
    "    tempdata = pd.read_pickle(f'data/{gender}_measures.zip')\n",
    "    tempdata = tempdata[tempdata['Measuring station'] == 'MOVE4D']\n",
    "    tempdata = tempdata['Age (years)']\n",
    "    data_to_save = pd.DataFrame(our_measures, index=tempdata.index,columns=curve_index.keys())\n",
    "    data_to_save['age'] = tempdata\n",
    "    data_to_save.to_csv(f'data/{gender}_calculated_measures.csv')\n",
    "\n",
    "    for station in ['MOVE4D', 'Expert measurer 1', 'Expert measurer 5']:\n",
    "        print(f\"\\n\\nmeasures difference from {station}:\")\n",
    "        \n",
    "        ieee_measures = tc.FloatTensor(all_measures[gender][station][list(curve_index.keys())].to_numpy())\n",
    "        diff = abs(ieee_measures - (our_measures*10))\n",
    "\n",
    "        print(pd.DataFrame({\n",
    "            \"mean\": diff.mean(axis=0),\n",
    "            \"std\": diff.std(axis=0),\n",
    "            \"min\": diff.min(axis=0).values,\n",
    "            \"max\": diff.max(axis=0).values,\n",
    "        }, index=list(curve_index.keys())))"
   ]
  },
  {
   "cell_type": "code",
   "execution_count": null,
   "metadata": {},
   "outputs": [],
   "source": []
  }
 ],
 "metadata": {
  "kernelspec": {
   "display_name": "Python 3.10.6 64-bit",
   "language": "python",
   "name": "python3"
  },
  "language_info": {
   "codemirror_mode": {
    "name": "ipython",
    "version": 3
   },
   "file_extension": ".py",
   "mimetype": "text/x-python",
   "name": "python",
   "nbconvert_exporter": "python",
   "pygments_lexer": "ipython3",
   "version": "3.10.6"
  },
  "orig_nbformat": 4,
  "vscode": {
   "interpreter": {
    "hash": "916dbcbb3f70747c44a77c7bcd40155683ae19c65e1c03b4aa3499c5328201f1"
   }
  }
 },
 "nbformat": 4,
 "nbformat_minor": 2
}
