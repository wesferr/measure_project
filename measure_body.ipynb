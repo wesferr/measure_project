{
 "cells": [
  {
   "cell_type": "code",
   "execution_count": 1,
   "metadata": {},
   "outputs": [],
   "source": [
    "import torch as tc\n",
    "import numpy as np\n",
    "import pandas as pd\n",
    "\n",
    "from star.star import STAR\n",
    "from curve_utils import CurveUtils\n",
    "from curve_generator import CurveGenerator, get_all_curves, select_better, calculate_derived\n",
    "device = tc.device(\"cuda\" if tc.cuda.is_available() else \"cpu\")"
   ]
  },
  {
   "cell_type": "code",
   "execution_count": 2,
   "metadata": {},
   "outputs": [],
   "source": [
    "their_semantics = [\n",
    "    'Neck girth',\n",
    "    'Bust girth',\n",
    "    'Waist girth',\n",
    "    'Hip girth',\n",
    "    'Upper arm girth R',\n",
    "    'Thigh girth R',\n",
    "    'Height (m)',\n",
    "    'Total crotch length',\n",
    "    'Across back shoulder width',\n",
    "]\n",
    "our_semantic = [\n",
    "    'neck_girth', # 5.3.2\n",
    "    'bust_chest_girth', # 5.3.4\n",
    "    'waist_girth', # 5.3.10\n",
    "    'hip_girth', # 5.3.13\n",
    "    'upper_arm_girth', # 5.3.16\n",
    "    'thigh_girth', # 5.3.20\n",
    "    'stature', # 5.1.1\n",
    "    'crotch_length', # 5.1.15\n",
    "    'shoulder_width', # 5.4.3\n",
    "]\n",
    "curve_index = {\n",
    "    'neck_girth':4, # 5.3.2\n",
    "    'bust_chest_girth': 0, # 5.3.4\n",
    "    'waist_girth': 1, # 5.3.10\n",
    "    'hip_girth': 1, # 5.3.13\n",
    "    'upper_arm_girth': 3, # 5.3.16\n",
    "    'thigh_girth': 2, # 5.3.20\n",
    "    'stature': 0,\n",
    "    'crotch_length': 5\n",
    "}\n",
    "curves_names = list(curve_index.keys())"
   ]
  },
  {
   "cell_type": "markdown",
   "metadata": {},
   "source": [
    "# Prepating Bodies"
   ]
  },
  {
   "cell_type": "code",
   "execution_count": 3,
   "metadata": {},
   "outputs": [],
   "source": [
    "for gender in ['female', 'male']:\n",
    "    betas = tc.FloatTensor(np.load(f'data/{gender}_betas.npy')).to(device)\n",
    "    trans = tc.FloatTensor(np.load(f'data/{gender}_trans.npy')).to(device)\n",
    "    star = STAR(gender=gender, passed_path=f\"star/{gender}.npz\", num_betas=betas.shape[-1])\n",
    "    \n",
    "    poses = tc.FloatTensor(np.load(f'data/{gender}_poses.npy')).to(device)\n",
    "    bodies = star(poses, betas, trans)\n",
    "    tc.save(bodies, f'data/{gender}_bodies_a.pt')\n",
    "    \n",
    "    poses = np.zeros((betas.shape[0],72))\n",
    "    poses[:,5] = 6 * np.pi/180\n",
    "    poses[:,8] = -6 * np.pi/180\n",
    "    poses = tc.cuda.FloatTensor(poses)\n",
    "    bodies = star(poses, betas, trans)\n",
    "    tc.save(bodies, f'data/{gender}_bodies_t.pt')\n",
    "\n",
    "    poses = np.zeros((betas.shape[0],72))\n",
    "    poses[:,5] = 30 * np.pi/180\n",
    "    poses[:,8] = -30 * np.pi/180\n",
    "    poses = tc.cuda.FloatTensor(poses)\n",
    "    bodies = star(poses, betas, trans)\n",
    "    tc.save(bodies, f'data/{gender}_bodies_x.pt')\n",
    "\n",
    "template = star.faces.to(device)\n",
    "\n"
   ]
  },
  {
   "cell_type": "code",
   "execution_count": 4,
   "metadata": {},
   "outputs": [],
   "source": [
    "# %%script false --no-raise-error\n",
    "for gender in ['female', 'male']:\n",
    "    bodies = tc.load(f'data/{gender}_bodies_a.pt')\n",
    "    for idx, body in enumerate(bodies):\n",
    "            CurveUtils.save_obj(f\"tests/{gender}_{idx}_body_a.obj\", body, star.faces+1)"
   ]
  },
  {
   "cell_type": "code",
   "execution_count": 5,
   "metadata": {},
   "outputs": [],
   "source": [
    "selected_subjects = dict()\n",
    "selected_measures = dict()\n",
    "\n",
    "for gender in ['female', 'male']:\n",
    "    measures = pd.read_pickle(f'data/{gender}_measures.zip')\n",
    "    measures.index = measures['Subject']\n",
    "    measures = measures[measures['Measuring station'] == \"MOVE4D\"]\n",
    "    temp_measures = measures[their_semantics].iloc[::2]\n",
    "    \n",
    "    mean_measures = measures._get_numeric_data().mean(axis=0)\n",
    "    # selected_subjects[gender] = abs(temp_measures - mean_measures).sum(axis=1).idxmin()\n",
    "    selected_subjects[gender] = 'IEEEP2_07' if gender == 'female' else 'IEEEP2_04'\n",
    "    selected_measures[gender] = temp_measures.loc[selected_subjects[gender]]\n",
    "    selected_subjects[gender] = temp_measures.index.get_loc(selected_subjects[gender])*2\n",
    "    selected_measures[gender].index = our_semantic\n",
    "    selected_measures[gender]['stature'] *= 1000"
   ]
  },
  {
   "cell_type": "code",
   "execution_count": 6,
   "metadata": {},
   "outputs": [
    {
     "name": "stdout",
     "output_type": "stream",
     "text": [
      "MEASURING FEMALE BODY\n",
      "     original    measured  error(mm)\n",
      "0   35.705200   35.704773   0.004272\n",
      "1  107.182999  107.329384   1.463852\n",
      "2   99.165901   99.164696   0.012054\n",
      "3  115.617004  115.025162   5.918427\n",
      "4   35.556900   35.690845   1.339455\n",
      "5   65.943703   65.977676   0.339737\n",
      "6  162.000000  162.018723   0.187225\n",
      "7   77.539696   70.461281  70.784149\n",
      "MEASURING MALE BODY\n",
      "     original    measured   error(mm)\n",
      "0   40.458599   40.430473    0.281258\n",
      "1  110.261002   99.862251  103.987503\n",
      "2   96.418800   96.426033    0.072327\n",
      "3  108.165001  108.319160    1.541595\n",
      "4   33.042099   33.031906    0.101929\n",
      "5   64.755295   64.736732    0.185623\n",
      "6  179.000000  180.780807   17.808075\n",
      "7   78.484100   60.879452  176.046478\n"
     ]
    }
   ],
   "source": [
    "# %%script false --no-raise-error\n",
    "all_data = []\n",
    "all_best_curves = []\n",
    "for gender in ['female', 'male']:\n",
    "    print(f'MEASURING {gender.upper()} BODY')\n",
    "    bodies_t = tc.load(f'data/{gender}_bodies_t.pt')\n",
    "    bodies_x = tc.load(f'data/{gender}_bodies_x.pt')\n",
    "    body_t = bodies_t[selected_subjects[gender]]\n",
    "    body_x = bodies_x[selected_subjects[gender]]\n",
    "    measures = selected_measures[gender]\n",
    "    result = CurveUtils.get_curves(body_t, selected_measures['female'], template, device)\n",
    "    best_curves, data = select_better(result, body_t, body_x, template, measures, device)\n",
    "    print(data)\n",
    "    tc.save(best_curves, f'data/{gender}_best_curves.zip')"
   ]
  },
  {
   "cell_type": "code",
   "execution_count": 7,
   "metadata": {},
   "outputs": [],
   "source": [
    "all_measures = dict()\n",
    "\n",
    "for gender in ['female', 'male']:\n",
    "    measures = pd.read_pickle(f'data/{gender}_measures.zip')\n",
    "    all_measures[gender] = dict()\n",
    "    for station in ['MOVE4D', 'Expert measurer 1', 'Expert measurer 5']:\n",
    "        temp_measures = measures[measures['Measuring station'] == station]\n",
    "        temp_measures = temp_measures[temp_measures['Phase'] == 2]\n",
    "        temp_measures = temp_measures[their_semantics]\n",
    "        temp_measures.columns = our_semantic\n",
    "        temp_measures['stature'] *= 1000\n",
    "        all_measures[gender][station] = temp_measures"
   ]
  },
  {
   "cell_type": "code",
   "execution_count": 8,
   "metadata": {},
   "outputs": [
    {
     "ename": "AttributeError",
     "evalue": "type object 'CurveUtils' has no attribute 'ray_polygon_cosilion'",
     "output_type": "error",
     "traceback": [
      "\u001b[0;31m---------------------------------------------------------------------------\u001b[0m",
      "\u001b[0;31mAttributeError\u001b[0m                            Traceback (most recent call last)",
      "Cell \u001b[0;32mIn [8], line 15\u001b[0m\n\u001b[1;32m     13\u001b[0m \u001b[39mfor\u001b[39;00m curve \u001b[39min\u001b[39;00m best_curves:\n\u001b[1;32m     14\u001b[0m     position \u001b[39m=\u001b[39m CurveGenerator\u001b[39m.\u001b[39mgenerate_positions(bodies_t[idx], curve)\n\u001b[0;32m---> 15\u001b[0m     position, measures, temp_pos \u001b[39m=\u001b[39m CurveUtils\u001b[39m.\u001b[39;49mray_polygon_cosilion(bodies_t[idx][template], position)\n\u001b[1;32m     16\u001b[0m     all_positions\u001b[39m.\u001b[39mappend(position)\n\u001b[1;32m     17\u001b[0m     measures \u001b[39m=\u001b[39m CurveGenerator\u001b[39m.\u001b[39mcalculate_distances(position)\n",
      "\u001b[0;31mAttributeError\u001b[0m: type object 'CurveUtils' has no attribute 'ray_polygon_cosilion'"
     ]
    }
   ],
   "source": [
    "tc.set_printoptions(precision=2, sci_mode=False, linewidth=100)\n",
    "\n",
    "for gender in ['female', 'male']:\n",
    "    bodies_t = tc.load(f'data/{gender}_bodies_t.pt')\n",
    "    bodies_a = tc.load(f'data/{gender}_bodies_a.pt')\n",
    "    bodies_x = tc.load(f'data/{gender}_bodies_x.pt')\n",
    "    best_curves = tc.load(f'data/female_best_curves.zip')\n",
    "\n",
    "    all_bodies_measures = []\n",
    "    for idx,body in enumerate(bodies_t):\n",
    "        all_curves_measures = []\n",
    "        all_positions = []\n",
    "        for curve in best_curves:\n",
    "            position = CurveGenerator.generate_positions(bodies_t[idx], curve)\n",
    "            position, measures, temp_pos = CurveUtils.ray_polygon_cosilion(bodies_t[idx][template], position)\n",
    "            all_positions.append(position)\n",
    "            measures = CurveGenerator.calculate_distances(position)\n",
    "            all_curves_measures.append(measures)\n",
    "        \n",
    "        derived_measures, derived_positions = calculate_derived(bodies_t[idx], bodies_x[idx], template, all_positions, device)\n",
    "        all_curves_measures.extend(derived_measures)\n",
    "        all_positions.extend(derived_positions)\n",
    "        # all_positions = derived_positions\n",
    "        all_bodies_measures.append(all_curves_measures)\n",
    "        CurveUtils.save_obj(f\"tests/{gender}_{idx}_curves.obj\", tc.row_stack(all_positions))\n",
    "    all_bodies_measures = tc.FloatTensor(all_bodies_measures)\n",
    "    our_measures = all_bodies_measures\n",
    "\n",
    "    tempdata = pd.read_pickle(f'data/{gender}_measures.zip')\n",
    "    tempdata = tempdata[tempdata['Measuring station'] == 'MOVE4D']\n",
    "    tempdata = tempdata['Age (years)']\n",
    "    data_to_save = pd.DataFrame(our_measures, index=tempdata.index,columns=curves_names)\n",
    "    data_to_save['age'] = tempdata\n",
    "    data_to_save.to_csv(f'data/{gender}_calculated_measures.csv')\n",
    "\n",
    "\n",
    "    for station in ['MOVE4D', 'Expert measurer 1', 'Expert measurer 5']:\n",
    "        print(f\"\\n\\nmeasures difference from {station}:\")\n",
    "        \n",
    "        ieee_measures = tc.FloatTensor(all_measures[gender][station][curves_names].to_numpy())\n",
    "        diff = abs(ieee_measures - (our_measures*10))\n",
    "\n",
    "        print(pd.DataFrame({\n",
    "            \"mean\": diff.mean(axis=0),\n",
    "            \"std\": diff.std(axis=0),\n",
    "            \"min\": diff.min(axis=0).values,\n",
    "            \"max\": diff.max(axis=0).values,\n",
    "        }, index=curves_names))"
   ]
  },
  {
   "cell_type": "code",
   "execution_count": null,
   "metadata": {},
   "outputs": [
    {
     "data": {
      "text/plain": [
       "'\\nDONE neck_girth \\nneck_to_waist\\nDONE upper_arm_girth\\nneck_to_wrist\\nshoulder_width\\nDONE bust_chest_girth\\nDONE waist_girth\\nDONE hip_girth\\nDONE thigh_girth\\ncrotch_length\\nleg_height\\n'"
      ]
     },
     "execution_count": 9,
     "metadata": {},
     "output_type": "execute_result"
    }
   ],
   "source": [
    "'''\n",
    "DONE neck_girth \n",
    "neck_to_waist\n",
    "DONE upper_arm_girth\n",
    "neck_to_wrist\n",
    "shoulder_width\n",
    "DONE bust_chest_girth\n",
    "DONE waist_girth\n",
    "DONE hip_girth\n",
    "DONE thigh_girth\n",
    "crotch_length\n",
    "leg_height\n",
    "'''"
   ]
  },
  {
   "cell_type": "code",
   "execution_count": null,
   "metadata": {},
   "outputs": [],
   "source": [
    "for gender in [\"female\", \"male\"]:\n",
    "    star = STAR(gender=gender, passed_path=f\"star/{gender}.npz\")\n",
    "    poses = tc.zeros((1,72)).to(device)\n",
    "    betas = tc.zeros((1,10)).to(device)\n",
    "    trans = tc.zeros((1,3)).to(device)\n",
    "    body = star(poses, betas, trans)[0]"
   ]
  },
  {
   "cell_type": "code",
   "execution_count": null,
   "metadata": {},
   "outputs": [],
   "source": []
  }
 ],
 "metadata": {
  "kernelspec": {
   "display_name": "Python 3.10.6 64-bit",
   "language": "python",
   "name": "python3"
  },
  "language_info": {
   "codemirror_mode": {
    "name": "ipython",
    "version": 3
   },
   "file_extension": ".py",
   "mimetype": "text/x-python",
   "name": "python",
   "nbconvert_exporter": "python",
   "pygments_lexer": "ipython3",
   "version": "3.10.6"
  },
  "orig_nbformat": 4,
  "vscode": {
   "interpreter": {
    "hash": "916dbcbb3f70747c44a77c7bcd40155683ae19c65e1c03b4aa3499c5328201f1"
   }
  }
 },
 "nbformat": 4,
 "nbformat_minor": 2
}
