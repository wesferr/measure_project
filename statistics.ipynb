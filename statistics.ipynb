{
 "cells": [
  {
   "cell_type": "code",
   "execution_count": 1,
   "metadata": {},
   "outputs": [
    {
     "name": "stderr",
     "output_type": "stream",
     "text": [
      "/home/wesley/.local/lib/python3.10/site-packages/outdated/utils.py:14: OutdatedPackageWarning: The package pingouin is out of date. Your version is 0.5.2, the latest is 0.5.3.\n",
      "Set the environment variable OUTDATED_IGNORE=1 to disable these warnings.\n",
      "  return warn(\n"
     ]
    }
   ],
   "source": [
    "import numpy as np\n",
    "import pandas as pd\n",
    "import pingouin as pg\n",
    "import matplotlib.pyplot as plt\n",
    "import torch as tc\n",
    "genders = ['female', 'male']\n",
    "male = ['male']\n",
    "female = ['female']"
   ]
  },
  {
   "cell_type": "code",
   "execution_count": 2,
   "metadata": {},
   "outputs": [],
   "source": [
    "their_semantics = [\n",
    "    'Subject',\n",
    "    'Measuring station',\n",
    "    'repetition no.',\n",
    "    'Bust girth',\n",
    "    'Waist girth',\n",
    "    'Hip girth',\n",
    "    'Thigh girth R',\n",
    "    'Upper arm girth R',\n",
    "    'Neck girth',\n",
    "    'Height (m)',\n",
    "]\n",
    "our_semantic = [\n",
    "    'subject',\n",
    "    'measures_station',\n",
    "    'repetition',\n",
    "    'bust_chest_girth', # 5.3.4\n",
    "    'waist_girth', # 5.3.10\n",
    "    'hip_girth', # 5.3.13\n",
    "    'thigh_girth', # 5.3.20\n",
    "    'upper_arm_girth', # 5.3.16\n",
    "    'neck_girth', # 5.3.2\n",
    "    'stature', # 5.1.1\n",
    "]\n",
    "\n",
    "station_list = [\"MOVE4D\", \"Expert measurer 1\", \"our\"]\n",
    "\n",
    "measures = pd.read_pickle(f'data/cleaned_measures.zip')\n",
    "measures = measures[their_semantics]\n",
    "measures.columns = our_semantic\n",
    "our_measures = pd.read_pickle(\"data/our_measures.zip\")\n",
    "measures = pd.concat([our_measures, measures]).drop(columns=[\"gender\", \"stature\"])\n",
    "measures = measures[measures['measures_station'].isin(station_list)]"
   ]
  },
  {
   "cell_type": "code",
   "execution_count": 16,
   "metadata": {},
   "outputs": [
    {
     "data": {
      "text/html": [
       "<div>\n",
       "<style scoped>\n",
       "    .dataframe tbody tr th:only-of-type {\n",
       "        vertical-align: middle;\n",
       "    }\n",
       "\n",
       "    .dataframe tbody tr th {\n",
       "        vertical-align: top;\n",
       "    }\n",
       "\n",
       "    .dataframe thead th {\n",
       "        text-align: right;\n",
       "    }\n",
       "</style>\n",
       "<table border=\"1\" class=\"dataframe\">\n",
       "  <thead>\n",
       "    <tr style=\"text-align: right;\">\n",
       "      <th></th>\n",
       "      <th>bust_chest_girth</th>\n",
       "      <th>waist_girth</th>\n",
       "      <th>hip_girth</th>\n",
       "      <th>thigh_girth</th>\n",
       "      <th>upper_arm_girth</th>\n",
       "      <th>neck_girth</th>\n",
       "      <th>repetition</th>\n",
       "      <th>measures_station</th>\n",
       "      <th>subject</th>\n",
       "    </tr>\n",
       "  </thead>\n",
       "  <tbody>\n",
       "    <tr>\n",
       "      <th>0</th>\n",
       "      <td>890.102844</td>\n",
       "      <td>750.670166</td>\n",
       "      <td>1049.499756</td>\n",
       "      <td>628.432495</td>\n",
       "      <td>292.741119</td>\n",
       "      <td>325.192902</td>\n",
       "      <td>1</td>\n",
       "      <td>our</td>\n",
       "      <td>IEEEP2_01</td>\n",
       "    </tr>\n",
       "    <tr>\n",
       "      <th>1</th>\n",
       "      <td>895.18927</td>\n",
       "      <td>753.261353</td>\n",
       "      <td>1051.522095</td>\n",
       "      <td>625.345581</td>\n",
       "      <td>294.438354</td>\n",
       "      <td>326.743317</td>\n",
       "      <td>2</td>\n",
       "      <td>our</td>\n",
       "      <td>IEEEP2_01</td>\n",
       "    </tr>\n",
       "    <tr>\n",
       "      <th>2</th>\n",
       "      <td>903.245544</td>\n",
       "      <td>682.914734</td>\n",
       "      <td>947.78717</td>\n",
       "      <td>538.580383</td>\n",
       "      <td>274.551392</td>\n",
       "      <td>314.705322</td>\n",
       "      <td>1</td>\n",
       "      <td>our</td>\n",
       "      <td>IEEEP2_03</td>\n",
       "    </tr>\n",
       "    <tr>\n",
       "      <th>3</th>\n",
       "      <td>886.251953</td>\n",
       "      <td>664.944397</td>\n",
       "      <td>951.866211</td>\n",
       "      <td>537.98114</td>\n",
       "      <td>274.649323</td>\n",
       "      <td>316.283325</td>\n",
       "      <td>2</td>\n",
       "      <td>our</td>\n",
       "      <td>IEEEP2_03</td>\n",
       "    </tr>\n",
       "    <tr>\n",
       "      <th>4</th>\n",
       "      <td>1098.261108</td>\n",
       "      <td>981.130737</td>\n",
       "      <td>1141.172607</td>\n",
       "      <td>673.190918</td>\n",
       "      <td>343.884399</td>\n",
       "      <td>369.490021</td>\n",
       "      <td>1</td>\n",
       "      <td>our</td>\n",
       "      <td>IEEEP2_07</td>\n",
       "    </tr>\n",
       "    <tr>\n",
       "      <th>...</th>\n",
       "      <td>...</td>\n",
       "      <td>...</td>\n",
       "      <td>...</td>\n",
       "      <td>...</td>\n",
       "      <td>...</td>\n",
       "      <td>...</td>\n",
       "      <td>...</td>\n",
       "      <td>...</td>\n",
       "      <td>...</td>\n",
       "    </tr>\n",
       "    <tr>\n",
       "      <th>1992</th>\n",
       "      <td>1190.0</td>\n",
       "      <td>1120.0</td>\n",
       "      <td>1360.0</td>\n",
       "      <td>740.0</td>\n",
       "      <td>380.0</td>\n",
       "      <td>375.0</td>\n",
       "      <td>2</td>\n",
       "      <td>Expert measurer 1</td>\n",
       "      <td>IEEEP2_71</td>\n",
       "    </tr>\n",
       "    <tr>\n",
       "      <th>1997</th>\n",
       "      <td>931.73</td>\n",
       "      <td>864.896</td>\n",
       "      <td>988.994</td>\n",
       "      <td>572.149</td>\n",
       "      <td>319.426</td>\n",
       "      <td>370.596</td>\n",
       "      <td>1</td>\n",
       "      <td>MOVE4D</td>\n",
       "      <td>IEEEP2_72</td>\n",
       "    </tr>\n",
       "    <tr>\n",
       "      <th>1998</th>\n",
       "      <td>922.7</td>\n",
       "      <td>863.313</td>\n",
       "      <td>993.492</td>\n",
       "      <td>572.987</td>\n",
       "      <td>320.638</td>\n",
       "      <td>369.121</td>\n",
       "      <td>2</td>\n",
       "      <td>MOVE4D</td>\n",
       "      <td>IEEEP2_72</td>\n",
       "    </tr>\n",
       "    <tr>\n",
       "      <th>2007</th>\n",
       "      <td>930.0</td>\n",
       "      <td>825.0</td>\n",
       "      <td>985.0</td>\n",
       "      <td>565.0</td>\n",
       "      <td>305.0</td>\n",
       "      <td>355.0</td>\n",
       "      <td>1</td>\n",
       "      <td>Expert measurer 1</td>\n",
       "      <td>IEEEP2_72</td>\n",
       "    </tr>\n",
       "    <tr>\n",
       "      <th>2008</th>\n",
       "      <td>930.0</td>\n",
       "      <td>860.0</td>\n",
       "      <td>985.0</td>\n",
       "      <td>570.0</td>\n",
       "      <td>315.0</td>\n",
       "      <td>360.0</td>\n",
       "      <td>2</td>\n",
       "      <td>Expert measurer 1</td>\n",
       "      <td>IEEEP2_72</td>\n",
       "    </tr>\n",
       "  </tbody>\n",
       "</table>\n",
       "<p>552 rows × 9 columns</p>\n",
       "</div>"
      ],
      "text/plain": [
       "     bust_chest_girth waist_girth    hip_girth thigh_girth upper_arm_girth  \\\n",
       "0          890.102844  750.670166  1049.499756  628.432495      292.741119   \n",
       "1           895.18927  753.261353  1051.522095  625.345581      294.438354   \n",
       "2          903.245544  682.914734    947.78717  538.580383      274.551392   \n",
       "3          886.251953  664.944397   951.866211   537.98114      274.649323   \n",
       "4         1098.261108  981.130737  1141.172607  673.190918      343.884399   \n",
       "...               ...         ...          ...         ...             ...   \n",
       "1992           1190.0      1120.0       1360.0       740.0           380.0   \n",
       "1997           931.73     864.896      988.994     572.149         319.426   \n",
       "1998            922.7     863.313      993.492     572.987         320.638   \n",
       "2007            930.0       825.0        985.0       565.0           305.0   \n",
       "2008            930.0       860.0        985.0       570.0           315.0   \n",
       "\n",
       "      neck_girth repetition   measures_station    subject  \n",
       "0     325.192902          1                our  IEEEP2_01  \n",
       "1     326.743317          2                our  IEEEP2_01  \n",
       "2     314.705322          1                our  IEEEP2_03  \n",
       "3     316.283325          2                our  IEEEP2_03  \n",
       "4     369.490021          1                our  IEEEP2_07  \n",
       "...          ...        ...                ...        ...  \n",
       "1992       375.0          2  Expert measurer 1  IEEEP2_71  \n",
       "1997     370.596          1             MOVE4D  IEEEP2_72  \n",
       "1998     369.121          2             MOVE4D  IEEEP2_72  \n",
       "2007       355.0          1  Expert measurer 1  IEEEP2_72  \n",
       "2008       360.0          2  Expert measurer 1  IEEEP2_72  \n",
       "\n",
       "[552 rows x 9 columns]"
      ]
     },
     "execution_count": 16,
     "metadata": {},
     "output_type": "execute_result"
    }
   ],
   "source": [
    "measures"
   ]
  },
  {
   "attachments": {},
   "cell_type": "markdown",
   "metadata": {},
   "source": [
    "# CALC ICC"
   ]
  },
  {
   "cell_type": "code",
   "execution_count": 3,
   "metadata": {},
   "outputs": [],
   "source": [
    "all_measures = []\n",
    "for station in station_list:\n",
    "    measures_of_station = []\n",
    "    for measure in our_semantic[3:-1]:\n",
    "        a = measures[measures['measures_station'] == station][['subject', 'repetition', measure]]\n",
    "        icc = pg.intraclass_corr(data=a, targets='subject', raters='repetition', ratings=measure, nan_policy='omit')['ICC'].loc[0]\n",
    "        measures_of_station.append(icc)\n",
    "    all_measures.append(measures_of_station)\n",
    "our_icc = pd.DataFrame(all_measures, station_list, our_semantic[3:-1]).sort_index()"
   ]
  },
  {
   "cell_type": "code",
   "execution_count": 69,
   "metadata": {},
   "outputs": [
    {
     "data": {
      "text/html": [
       "<div>\n",
       "<style scoped>\n",
       "    .dataframe tbody tr th:only-of-type {\n",
       "        vertical-align: middle;\n",
       "    }\n",
       "\n",
       "    .dataframe tbody tr th {\n",
       "        vertical-align: top;\n",
       "    }\n",
       "\n",
       "    .dataframe thead th {\n",
       "        text-align: right;\n",
       "    }\n",
       "</style>\n",
       "<table border=\"1\" class=\"dataframe\">\n",
       "  <thead>\n",
       "    <tr style=\"text-align: right;\">\n",
       "      <th></th>\n",
       "      <th>Expert</th>\n",
       "      <th>MOVE4D</th>\n",
       "      <th>Our</th>\n",
       "    </tr>\n",
       "  </thead>\n",
       "  <tbody>\n",
       "    <tr>\n",
       "      <th>bust_chest_girth</th>\n",
       "      <td>0.9895</td>\n",
       "      <td>0.9943</td>\n",
       "      <td>0.9969</td>\n",
       "    </tr>\n",
       "    <tr>\n",
       "      <th>waist_girth</th>\n",
       "      <td>0.9895</td>\n",
       "      <td>0.9976</td>\n",
       "      <td>0.9982</td>\n",
       "    </tr>\n",
       "    <tr>\n",
       "      <th>hip_girth</th>\n",
       "      <td>0.9876</td>\n",
       "      <td>0.9992</td>\n",
       "      <td>0.9989</td>\n",
       "    </tr>\n",
       "    <tr>\n",
       "      <th>thigh_girth</th>\n",
       "      <td>0.9797</td>\n",
       "      <td>0.9981</td>\n",
       "      <td>0.9982</td>\n",
       "    </tr>\n",
       "    <tr>\n",
       "      <th>upper_arm_girth</th>\n",
       "      <td>0.9409</td>\n",
       "      <td>0.9958</td>\n",
       "      <td>0.9947</td>\n",
       "    </tr>\n",
       "    <tr>\n",
       "      <th>neck_girth</th>\n",
       "      <td>0.9799</td>\n",
       "      <td>0.9960</td>\n",
       "      <td>0.9959</td>\n",
       "    </tr>\n",
       "  </tbody>\n",
       "</table>\n",
       "</div>"
      ],
      "text/plain": [
       "                  Expert  MOVE4D     Our\n",
       "bust_chest_girth  0.9895  0.9943  0.9969\n",
       "waist_girth       0.9895  0.9976  0.9982\n",
       "hip_girth         0.9876  0.9992  0.9989\n",
       "thigh_girth       0.9797  0.9981  0.9982\n",
       "upper_arm_girth   0.9409  0.9958  0.9947\n",
       "neck_girth        0.9799  0.9960  0.9959"
      ]
     },
     "execution_count": 69,
     "metadata": {},
     "output_type": "execute_result"
    }
   ],
   "source": [
    "our_icc.index = ['Expert', \"MOVE4D\", 'Our']\n",
    "our_icc.T.round(4)"
   ]
  },
  {
   "attachments": {},
   "cell_type": "markdown",
   "metadata": {},
   "source": [
    "# CALC SEM"
   ]
  },
  {
   "cell_type": "code",
   "execution_count": 5,
   "metadata": {},
   "outputs": [],
   "source": [
    "all_measures = []\n",
    "for station in station_list:\n",
    "    measures_of_station = []\n",
    "    for measure in our_semantic[3:-1]:\n",
    "        a = measures[measures['measures_station'] == station][['subject', 'repetition', measure]]\n",
    "        icc = pg.intraclass_corr(data=a, targets='subject', raters='repetition', ratings=measure, nan_policy='omit')['ICC'].loc[0]\n",
    "        sem = a[measure].std() * np.sqrt(1-icc)\n",
    "        measures_of_station.append(sem)\n",
    "    all_measures.append(measures_of_station)\n",
    "our_sem = pd.DataFrame(all_measures, station_list, our_semantic[3:-1]).sort_index()"
   ]
  },
  {
   "cell_type": "code",
   "execution_count": 72,
   "metadata": {},
   "outputs": [
    {
     "data": {
      "text/html": [
       "<div>\n",
       "<style scoped>\n",
       "    .dataframe tbody tr th:only-of-type {\n",
       "        vertical-align: middle;\n",
       "    }\n",
       "\n",
       "    .dataframe tbody tr th {\n",
       "        vertical-align: top;\n",
       "    }\n",
       "\n",
       "    .dataframe thead th {\n",
       "        text-align: right;\n",
       "    }\n",
       "</style>\n",
       "<table border=\"1\" class=\"dataframe\">\n",
       "  <thead>\n",
       "    <tr style=\"text-align: right;\">\n",
       "      <th></th>\n",
       "      <th>Expert</th>\n",
       "      <th>MOVE4D</th>\n",
       "      <th>Our</th>\n",
       "    </tr>\n",
       "  </thead>\n",
       "  <tbody>\n",
       "    <tr>\n",
       "      <th>bust_chest_girth</th>\n",
       "      <td>11.6937</td>\n",
       "      <td>7.8816</td>\n",
       "      <td>5.6225</td>\n",
       "    </tr>\n",
       "    <tr>\n",
       "      <th>waist_girth</th>\n",
       "      <td>13.4420</td>\n",
       "      <td>6.4892</td>\n",
       "      <td>5.7796</td>\n",
       "    </tr>\n",
       "    <tr>\n",
       "      <th>hip_girth</th>\n",
       "      <td>11.6096</td>\n",
       "      <td>2.7369</td>\n",
       "      <td>3.0911</td>\n",
       "    </tr>\n",
       "    <tr>\n",
       "      <th>thigh_girth</th>\n",
       "      <td>9.1705</td>\n",
       "      <td>2.5796</td>\n",
       "      <td>2.6613</td>\n",
       "    </tr>\n",
       "    <tr>\n",
       "      <th>upper_arm_girth</th>\n",
       "      <td>10.0383</td>\n",
       "      <td>2.4882</td>\n",
       "      <td>2.5763</td>\n",
       "    </tr>\n",
       "    <tr>\n",
       "      <th>neck_girth</th>\n",
       "      <td>5.3483</td>\n",
       "      <td>2.3367</td>\n",
       "      <td>2.3830</td>\n",
       "    </tr>\n",
       "  </tbody>\n",
       "</table>\n",
       "</div>"
      ],
      "text/plain": [
       "                   Expert  MOVE4D     Our\n",
       "bust_chest_girth  11.6937  7.8816  5.6225\n",
       "waist_girth       13.4420  6.4892  5.7796\n",
       "hip_girth         11.6096  2.7369  3.0911\n",
       "thigh_girth        9.1705  2.5796  2.6613\n",
       "upper_arm_girth   10.0383  2.4882  2.5763\n",
       "neck_girth         5.3483  2.3367  2.3830"
      ]
     },
     "execution_count": 72,
     "metadata": {},
     "output_type": "execute_result"
    }
   ],
   "source": [
    "our_sem.index = ['Expert', \"MOVE4D\", 'Our']\n",
    "our_sem.T.round(4)"
   ]
  },
  {
   "attachments": {},
   "cell_type": "markdown",
   "metadata": {},
   "source": [
    "# CALC PSD"
   ]
  },
  {
   "cell_type": "code",
   "execution_count": 7,
   "metadata": {},
   "outputs": [],
   "source": [
    "def calculate_psd(measure):\n",
    "    data = measures\n",
    "    f1 = data['repetition'] == 1\n",
    "    f2 = data['repetition'] == 2\n",
    "    data = data[ f1 | f2 ][['subject', 'measures_station', 'repetition', measure]]\n",
    "    data = data.pivot_table(values=measure, index=['subject', 'repetition'], columns=\"measures_station\")\n",
    "    data = data.dropna()\n",
    "    \n",
    "\n",
    "    column_wise = []\n",
    "    for column1 in data.columns:\n",
    "        \n",
    "        row_wise = []\n",
    "        for column2 in data.columns:\n",
    "            if column1 == column2:\n",
    "                row_wise.append(np.nan)\n",
    "            else:\n",
    "                d1 = data[column1]\n",
    "                d2 = data[column2]\n",
    "                var = (d1-d2).var()\n",
    "                sem1 = our_sem[measure].loc[column1]**2\n",
    "                sem2 = our_sem[measure].loc[column2]**2\n",
    "                value = np.sqrt(var + (sem1/2) + (sem2/2))\n",
    "                row_wise.append(value)\n",
    "        column_wise.append(row_wise)\n",
    "    data = pd.DataFrame(column_wise, index=data.columns, columns=data.columns)\n",
    "    data.index.name = None\n",
    "    return data"
   ]
  },
  {
   "cell_type": "code",
   "execution_count": 47,
   "metadata": {},
   "outputs": [
    {
     "name": "stderr",
     "output_type": "stream",
     "text": [
      "/tmp/ipykernel_65105/4135555181.py:3: FutureWarning: The series.append method is deprecated and will be removed from pandas in a future version. Use pandas.concat instead.\n",
      "  neck_result = neck_result.loc['our'][:-1].append(MX)\n"
     ]
    }
   ],
   "source": [
    "neck_result = calculate_psd(measure='neck_girth')\n",
    "MX = pd.Series({\"MOVE/Expert\": neck_result.loc[\"MOVE4D\"][\"Expert measurer 1\"]})\n",
    "neck_result = neck_result.loc['our'][:-1].append(MX)"
   ]
  },
  {
   "cell_type": "code",
   "execution_count": 48,
   "metadata": {},
   "outputs": [
    {
     "name": "stderr",
     "output_type": "stream",
     "text": [
      "/tmp/ipykernel_65105/555137383.py:3: FutureWarning: The series.append method is deprecated and will be removed from pandas in a future version. Use pandas.concat instead.\n",
      "  bust_result = bust_result.loc['our'][:-1].append(MX)\n"
     ]
    }
   ],
   "source": [
    "bust_result = calculate_psd(measure='bust_chest_girth')\n",
    "MX = pd.Series({\"MOVE/Expert\": bust_result.loc[\"MOVE4D\"][\"Expert measurer 1\"]})\n",
    "bust_result = bust_result.loc['our'][:-1].append(MX)"
   ]
  },
  {
   "cell_type": "code",
   "execution_count": 49,
   "metadata": {},
   "outputs": [
    {
     "name": "stderr",
     "output_type": "stream",
     "text": [
      "/tmp/ipykernel_65105/2994512902.py:3: FutureWarning: The series.append method is deprecated and will be removed from pandas in a future version. Use pandas.concat instead.\n",
      "  waist_result = waist_result.loc['our'][:-1].append(MX)\n"
     ]
    }
   ],
   "source": [
    "waist_result = calculate_psd(measure='waist_girth')\n",
    "MX = pd.Series({\"MOVE/Expert\": waist_result.loc[\"MOVE4D\"][\"Expert measurer 1\"]})\n",
    "waist_result = waist_result.loc['our'][:-1].append(MX)"
   ]
  },
  {
   "cell_type": "code",
   "execution_count": 50,
   "metadata": {},
   "outputs": [
    {
     "name": "stderr",
     "output_type": "stream",
     "text": [
      "/tmp/ipykernel_65105/4244343984.py:3: FutureWarning: The series.append method is deprecated and will be removed from pandas in a future version. Use pandas.concat instead.\n",
      "  hip_result = hip_result.loc['our'][:-1].append(MX)\n"
     ]
    }
   ],
   "source": [
    "hip_result = calculate_psd(measure='hip_girth')\n",
    "MX = pd.Series({\"MOVE/Expert\": hip_result.loc[\"MOVE4D\"][\"Expert measurer 1\"]})\n",
    "hip_result = hip_result.loc['our'][:-1].append(MX)"
   ]
  },
  {
   "cell_type": "code",
   "execution_count": 51,
   "metadata": {},
   "outputs": [
    {
     "name": "stderr",
     "output_type": "stream",
     "text": [
      "/tmp/ipykernel_65105/1859023525.py:3: FutureWarning: The series.append method is deprecated and will be removed from pandas in a future version. Use pandas.concat instead.\n",
      "  arm_result = arm_result.loc['our'][:-1].append(MX)\n"
     ]
    }
   ],
   "source": [
    "arm_result = calculate_psd(measure='upper_arm_girth')\n",
    "MX = pd.Series({\"MOVE/Expert\": arm_result.loc[\"MOVE4D\"][\"Expert measurer 1\"]})\n",
    "arm_result = arm_result.loc['our'][:-1].append(MX)"
   ]
  },
  {
   "cell_type": "code",
   "execution_count": 52,
   "metadata": {},
   "outputs": [
    {
     "name": "stderr",
     "output_type": "stream",
     "text": [
      "/tmp/ipykernel_65105/2387960694.py:3: FutureWarning: The series.append method is deprecated and will be removed from pandas in a future version. Use pandas.concat instead.\n",
      "  thigh_result = thigh_result.loc['our'][:-1].append(MX)\n"
     ]
    }
   ],
   "source": [
    "thigh_result = calculate_psd(measure='thigh_girth')\n",
    "MX = pd.Series({\"MOVE/Expert\": thigh_result.loc[\"MOVE4D\"][\"Expert measurer 1\"]})\n",
    "thigh_result = thigh_result.loc['our'][:-1].append(MX)"
   ]
  },
  {
   "cell_type": "code",
   "execution_count": 60,
   "metadata": {},
   "outputs": [
    {
     "data": {
      "text/html": [
       "<div>\n",
       "<style scoped>\n",
       "    .dataframe tbody tr th:only-of-type {\n",
       "        vertical-align: middle;\n",
       "    }\n",
       "\n",
       "    .dataframe tbody tr th {\n",
       "        vertical-align: top;\n",
       "    }\n",
       "\n",
       "    .dataframe thead th {\n",
       "        text-align: right;\n",
       "    }\n",
       "</style>\n",
       "<table border=\"1\" class=\"dataframe\">\n",
       "  <thead>\n",
       "    <tr style=\"text-align: right;\">\n",
       "      <th></th>\n",
       "      <th>Our vs Expert</th>\n",
       "      <th>Our vs MOVE4D</th>\n",
       "      <th>MOVE vs Expert</th>\n",
       "    </tr>\n",
       "  </thead>\n",
       "  <tbody>\n",
       "    <tr>\n",
       "      <th>bust_chest_girth</th>\n",
       "      <td>12.15</td>\n",
       "      <td>7.44</td>\n",
       "      <td>10.30</td>\n",
       "    </tr>\n",
       "    <tr>\n",
       "      <th>waist_girth</th>\n",
       "      <td>21.95</td>\n",
       "      <td>20.72</td>\n",
       "      <td>22.25</td>\n",
       "    </tr>\n",
       "    <tr>\n",
       "      <th>hip_girth</th>\n",
       "      <td>24.18</td>\n",
       "      <td>13.25</td>\n",
       "      <td>23.39</td>\n",
       "    </tr>\n",
       "    <tr>\n",
       "      <th>thigh_girth</th>\n",
       "      <td>16.18</td>\n",
       "      <td>11.94</td>\n",
       "      <td>15.95</td>\n",
       "    </tr>\n",
       "    <tr>\n",
       "      <th>upper_arm_girth</th>\n",
       "      <td>15.72</td>\n",
       "      <td>6.01</td>\n",
       "      <td>14.78</td>\n",
       "    </tr>\n",
       "    <tr>\n",
       "      <th>neck_girth</th>\n",
       "      <td>15.17</td>\n",
       "      <td>10.43</td>\n",
       "      <td>12.22</td>\n",
       "    </tr>\n",
       "  </tbody>\n",
       "</table>\n",
       "</div>"
      ],
      "text/plain": [
       "                  Our vs Expert  Our vs MOVE4D  MOVE vs Expert\n",
       "bust_chest_girth          12.15           7.44           10.30\n",
       "waist_girth               21.95          20.72           22.25\n",
       "hip_girth                 24.18          13.25           23.39\n",
       "thigh_girth               16.18          11.94           15.95\n",
       "upper_arm_girth           15.72           6.01           14.78\n",
       "neck_girth                15.17          10.43           12.22"
      ]
     },
     "execution_count": 60,
     "metadata": {},
     "output_type": "execute_result"
    }
   ],
   "source": [
    "data = pd.DataFrame(\n",
    "    [neck_result, bust_result, waist_result, hip_result, arm_result,thigh_result],\n",
    "    index=our_semantic[3:-1]).round(2)\n",
    "data.columns = ['Our vs Expert', \"Our vs MOVE4D\", 'MOVE vs Expert']\n",
    "data"
   ]
  },
  {
   "cell_type": "code",
   "execution_count": null,
   "metadata": {},
   "outputs": [],
   "source": []
  }
 ],
 "metadata": {
  "kernelspec": {
   "display_name": "Python 3",
   "language": "python",
   "name": "python3"
  },
  "language_info": {
   "codemirror_mode": {
    "name": "ipython",
    "version": 3
   },
   "file_extension": ".py",
   "mimetype": "text/x-python",
   "name": "python",
   "nbconvert_exporter": "python",
   "pygments_lexer": "ipython3",
   "version": "3.10.6"
  },
  "orig_nbformat": 4
 },
 "nbformat": 4,
 "nbformat_minor": 2
}
