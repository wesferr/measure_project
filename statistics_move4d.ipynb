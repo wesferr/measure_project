{
 "cells": [
  {
   "cell_type": "code",
   "execution_count": 1,
   "metadata": {},
   "outputs": [],
   "source": [
    "import warnings\n",
    "warnings.filterwarnings(\"ignore\")\n",
    "\n",
    "import numpy as np\n",
    "import pandas as pd\n",
    "import pingouin as pg\n",
    "import matplotlib.pyplot as plt\n",
    "import torch as tc\n",
    "genders = ['female', 'male']\n",
    "male = ['male']\n",
    "female = ['female']"
   ]
  },
  {
   "cell_type": "code",
   "execution_count": 2,
   "metadata": {},
   "outputs": [],
   "source": [
    "their_semantics = [\n",
    "    'Subject',\n",
    "    'Measuring station',\n",
    "    'repetition no.',\n",
    "    'Bust girth',\n",
    "    'Waist girth',\n",
    "    'Hip girth',\n",
    "    'Thigh girth R',\n",
    "    'Upper arm girth R',\n",
    "    'Neck girth',\n",
    "    'Back neck point to waist',\n",
    "    'Height (m)',\n",
    "]\n",
    "our_semantic = [\n",
    "    'subject',\n",
    "    'measures_station',\n",
    "    'repetition',\n",
    "    'bust_chest_girth', # 5.3.4\n",
    "    'waist_girth', # 5.3.10\n",
    "    'hip_girth', # 5.3.13\n",
    "    'thigh_girth', # 5.3.20\n",
    "    'upper_arm_girth', # 5.3.16\n",
    "    'neck_girth', # 5.3.2\n",
    "    'neck_waist',\n",
    "    'stature', # 5.1.1\n",
    "]\n",
    "\n",
    "station_list = [\"MOVE4D\", \"Expert\", \"Our\"]\n",
    "\n",
    "measures = pd.read_pickle(f'data/move4d_cleaned_measures.zip')\n",
    "measures = measures[their_semantics]\n",
    "measures.columns = our_semantic\n",
    "our_measures = pd.read_pickle(\"data/our_measures.zip\")\n",
    "measures = pd.concat([our_measures, measures]).drop(columns=[\"gender\", \"stature\"])\n",
    "measures = measures[measures['measures_station'].isin([\"MOVE4D\", \"Expert measurer 1\", \"our\"])]\n",
    "measures.replace(\"Expert measurer 1\", \"Expert\", inplace=True)\n",
    "measures.replace(\"our\", \"Our\", inplace=True)"
   ]
  },
  {
   "cell_type": "code",
   "execution_count": 3,
   "metadata": {},
   "outputs": [],
   "source": [
    "measures.to_csv(\"our_move4d.csv\")"
   ]
  },
  {
   "attachments": {},
   "cell_type": "markdown",
   "metadata": {},
   "source": [
    "# CALC ICC"
   ]
  },
  {
   "cell_type": "code",
   "execution_count": 4,
   "metadata": {},
   "outputs": [],
   "source": [
    "def calc_icc(a):\n",
    "    # ONE WAY ANOVA\n",
    "    numsub, numrep, numel = a.shape[0], a.shape[1], a.size\n",
    "    mean_between = a.mean(axis=1)\n",
    "    mean_within  = a.mean(axis=0)\n",
    "    ssw = ((a - mean_within)**2).sum()\n",
    "    ssb = ((a.T - mean_between)**2).sum()\n",
    "    msw = ssw/(numsub-1)\n",
    "    msb = ssb/(numel-numsub)\n",
    "    # ICC\n",
    "    # icc = msw/(msw+msb)\n",
    "    icc = (msw-msb) / ( msw + (numrep-1) * msb)\n",
    "    return icc"
   ]
  },
  {
   "cell_type": "code",
   "execution_count": 5,
   "metadata": {},
   "outputs": [],
   "source": [
    "all_measures = []\n",
    "for station in station_list:\n",
    "    measures_of_station = []\n",
    "    for measure in our_semantic[3:-1]:\n",
    "        a = measures[measures['measures_station'] == station][['subject', 'repetition', measure]]\n",
    "        a = pd.pivot_table(a, index='subject', columns='repetition').to_numpy()\n",
    "        icc = calc_icc(a)\n",
    "        measures_of_station.append(icc)\n",
    "    all_measures.append(measures_of_station)\n",
    "our_icc = pd.DataFrame(all_measures, station_list, our_semantic[3:-1]).sort_index()"
   ]
  },
  {
   "cell_type": "code",
   "execution_count": 6,
   "metadata": {},
   "outputs": [
    {
     "data": {
      "text/html": [
       "<div>\n",
       "<style scoped>\n",
       "    .dataframe tbody tr th:only-of-type {\n",
       "        vertical-align: middle;\n",
       "    }\n",
       "\n",
       "    .dataframe tbody tr th {\n",
       "        vertical-align: top;\n",
       "    }\n",
       "\n",
       "    .dataframe thead th {\n",
       "        text-align: right;\n",
       "    }\n",
       "</style>\n",
       "<table border=\"1\" class=\"dataframe\">\n",
       "  <thead>\n",
       "    <tr style=\"text-align: right;\">\n",
       "      <th></th>\n",
       "      <th>bust_chest_girth</th>\n",
       "      <th>waist_girth</th>\n",
       "      <th>hip_girth</th>\n",
       "      <th>thigh_girth</th>\n",
       "      <th>upper_arm_girth</th>\n",
       "      <th>neck_girth</th>\n",
       "      <th>neck_waist</th>\n",
       "    </tr>\n",
       "  </thead>\n",
       "  <tbody>\n",
       "    <tr>\n",
       "      <th>Expert</th>\n",
       "      <td>0.985261</td>\n",
       "      <td>0.995322</td>\n",
       "      <td>0.993377</td>\n",
       "      <td>0.985685</td>\n",
       "      <td>0.905965</td>\n",
       "      <td>0.980058</td>\n",
       "      <td>0.911705</td>\n",
       "    </tr>\n",
       "    <tr>\n",
       "      <th>MOVE4D</th>\n",
       "      <td>0.994362</td>\n",
       "      <td>0.997641</td>\n",
       "      <td>0.999215</td>\n",
       "      <td>0.998118</td>\n",
       "      <td>0.995832</td>\n",
       "      <td>0.996013</td>\n",
       "      <td>0.972377</td>\n",
       "    </tr>\n",
       "    <tr>\n",
       "      <th>Our</th>\n",
       "      <td>0.996910</td>\n",
       "      <td>0.998163</td>\n",
       "      <td>0.998906</td>\n",
       "      <td>0.998217</td>\n",
       "      <td>0.994735</td>\n",
       "      <td>0.995889</td>\n",
       "      <td>0.973532</td>\n",
       "    </tr>\n",
       "  </tbody>\n",
       "</table>\n",
       "</div>"
      ],
      "text/plain": [
       "        bust_chest_girth  waist_girth  hip_girth  thigh_girth  \\\n",
       "Expert          0.985261     0.995322   0.993377     0.985685   \n",
       "MOVE4D          0.994362     0.997641   0.999215     0.998118   \n",
       "Our             0.996910     0.998163   0.998906     0.998217   \n",
       "\n",
       "        upper_arm_girth  neck_girth  neck_waist  \n",
       "Expert         0.905965    0.980058    0.911705  \n",
       "MOVE4D         0.995832    0.996013    0.972377  \n",
       "Our            0.994735    0.995889    0.973532  "
      ]
     },
     "execution_count": 6,
     "metadata": {},
     "output_type": "execute_result"
    }
   ],
   "source": [
    "our_icc.index = ['Expert', \"MOVE4D\", 'Our']\n",
    "our_icc"
   ]
  },
  {
   "attachments": {},
   "cell_type": "markdown",
   "metadata": {},
   "source": [
    "# CALC SEM"
   ]
  },
  {
   "cell_type": "code",
   "execution_count": 7,
   "metadata": {},
   "outputs": [],
   "source": [
    "all_measures = []\n",
    "for station in station_list:\n",
    "    measures_of_station = []\n",
    "    for measure in our_semantic[3:-1]:\n",
    "        a = measures[measures['measures_station'] == station][['subject', 'repetition', measure]]\n",
    "        b = pd.pivot_table(a, index='subject', columns='repetition').to_numpy()\n",
    "        icc = calc_icc(b)\n",
    "        sem = a[measure].std() * np.sqrt(1-icc)\n",
    "        measures_of_station.append(sem)\n",
    "    all_measures.append(measures_of_station)\n",
    "our_sem = pd.DataFrame(all_measures, station_list, our_semantic[3:-1]).sort_index()"
   ]
  },
  {
   "cell_type": "code",
   "execution_count": 8,
   "metadata": {},
   "outputs": [
    {
     "data": {
      "text/html": [
       "<div>\n",
       "<style scoped>\n",
       "    .dataframe tbody tr th:only-of-type {\n",
       "        vertical-align: middle;\n",
       "    }\n",
       "\n",
       "    .dataframe tbody tr th {\n",
       "        vertical-align: top;\n",
       "    }\n",
       "\n",
       "    .dataframe thead th {\n",
       "        text-align: right;\n",
       "    }\n",
       "</style>\n",
       "<table border=\"1\" class=\"dataframe\">\n",
       "  <thead>\n",
       "    <tr style=\"text-align: right;\">\n",
       "      <th></th>\n",
       "      <th>Expert</th>\n",
       "      <th>MOVE4D</th>\n",
       "      <th>Our</th>\n",
       "    </tr>\n",
       "  </thead>\n",
       "  <tbody>\n",
       "    <tr>\n",
       "      <th>bust_chest_girth</th>\n",
       "      <td>12.2070</td>\n",
       "      <td>7.8704</td>\n",
       "      <td>5.6181</td>\n",
       "    </tr>\n",
       "    <tr>\n",
       "      <th>waist_girth</th>\n",
       "      <td>8.7663</td>\n",
       "      <td>6.4854</td>\n",
       "      <td>5.7769</td>\n",
       "    </tr>\n",
       "    <tr>\n",
       "      <th>hip_girth</th>\n",
       "      <td>7.9468</td>\n",
       "      <td>2.7363</td>\n",
       "      <td>3.0902</td>\n",
       "    </tr>\n",
       "    <tr>\n",
       "      <th>thigh_girth</th>\n",
       "      <td>6.9973</td>\n",
       "      <td>2.5784</td>\n",
       "      <td>2.6602</td>\n",
       "    </tr>\n",
       "    <tr>\n",
       "      <th>upper_arm_girth</th>\n",
       "      <td>12.2280</td>\n",
       "      <td>2.4856</td>\n",
       "      <td>2.5728</td>\n",
       "    </tr>\n",
       "    <tr>\n",
       "      <th>neck_girth</th>\n",
       "      <td>4.8231</td>\n",
       "      <td>2.3343</td>\n",
       "      <td>2.3806</td>\n",
       "    </tr>\n",
       "    <tr>\n",
       "      <th>neck_waist</th>\n",
       "      <td>9.2412</td>\n",
       "      <td>4.9256</td>\n",
       "      <td>3.7245</td>\n",
       "    </tr>\n",
       "  </tbody>\n",
       "</table>\n",
       "</div>"
      ],
      "text/plain": [
       "                   Expert  MOVE4D     Our\n",
       "bust_chest_girth  12.2070  7.8704  5.6181\n",
       "waist_girth        8.7663  6.4854  5.7769\n",
       "hip_girth          7.9468  2.7363  3.0902\n",
       "thigh_girth        6.9973  2.5784  2.6602\n",
       "upper_arm_girth   12.2280  2.4856  2.5728\n",
       "neck_girth         4.8231  2.3343  2.3806\n",
       "neck_waist         9.2412  4.9256  3.7245"
      ]
     },
     "execution_count": 8,
     "metadata": {},
     "output_type": "execute_result"
    }
   ],
   "source": [
    "our_sem.index = ['Expert', \"MOVE4D\", 'Our']\n",
    "our_sem.T.round(4)"
   ]
  },
  {
   "attachments": {},
   "cell_type": "markdown",
   "metadata": {},
   "source": [
    "# CALC PSD"
   ]
  },
  {
   "cell_type": "code",
   "execution_count": 9,
   "metadata": {},
   "outputs": [],
   "source": [
    "def calculate_psd(measure):\n",
    "    data = measures\n",
    "    f1 = data['repetition'] == 1\n",
    "    f2 = data['repetition'] == 2\n",
    "    data = data[ f1 | f2 ][['subject', 'measures_station', 'repetition', measure]]\n",
    "    data = data.pivot_table(values=measure, index=['subject', 'repetition'], columns=\"measures_station\")\n",
    "    data = data.dropna()\n",
    "    \n",
    "\n",
    "    column_wise = []\n",
    "    for column1 in data.columns:\n",
    "        row_wise = []\n",
    "        for column2 in data.columns:\n",
    "            if column1 == column2:\n",
    "                row_wise.append(np.nan)\n",
    "            else:\n",
    "                d1 = data[column1]\n",
    "                d2 = data[column2]\n",
    "                var = (d1-d2).var()\n",
    "                sem1 = our_sem[measure].loc[column1]**2\n",
    "                sem2 = our_sem[measure].loc[column2]**2\n",
    "                value = np.sqrt(var + (sem1/2) + (sem2/2))\n",
    "                row_wise.append(value)\n",
    "        column_wise.append(row_wise)\n",
    "    data = pd.DataFrame(column_wise, index=data.columns, columns=data.columns)\n",
    "    data.index.name = None\n",
    "    return data"
   ]
  },
  {
   "cell_type": "code",
   "execution_count": 10,
   "metadata": {},
   "outputs": [],
   "source": [
    "neck_result = calculate_psd(measure='neck_girth')\n",
    "MX = pd.Series({\"MOVE/Expert\": neck_result.loc[\"MOVE4D\"][\"Expert\"]})\n",
    "neck_result = neck_result.loc['Our'][:-1].append(MX)"
   ]
  },
  {
   "cell_type": "code",
   "execution_count": 11,
   "metadata": {},
   "outputs": [],
   "source": [
    "bust_result = calculate_psd(measure='bust_chest_girth')\n",
    "MX = pd.Series({\"MOVE/Expert\": bust_result.loc[\"MOVE4D\"][\"Expert\"]})\n",
    "bust_result = bust_result.loc['Our'][:-1].append(MX)"
   ]
  },
  {
   "cell_type": "code",
   "execution_count": 12,
   "metadata": {},
   "outputs": [],
   "source": [
    "waist_result = calculate_psd(measure='waist_girth')\n",
    "MX = pd.Series({\"MOVE/Expert\": waist_result.loc[\"MOVE4D\"][\"Expert\"]})\n",
    "waist_result = waist_result.loc['Our'][:-1].append(MX)"
   ]
  },
  {
   "cell_type": "code",
   "execution_count": 13,
   "metadata": {},
   "outputs": [],
   "source": [
    "hip_result = calculate_psd(measure='hip_girth')\n",
    "MX = pd.Series({\"MOVE/Expert\": hip_result.loc[\"MOVE4D\"][\"Expert\"]})\n",
    "hip_result = hip_result.loc['Our'][:-1].append(MX)"
   ]
  },
  {
   "cell_type": "code",
   "execution_count": 14,
   "metadata": {},
   "outputs": [],
   "source": [
    "arm_result = calculate_psd(measure='upper_arm_girth')\n",
    "MX = pd.Series({\"MOVE/Expert\": arm_result.loc[\"MOVE4D\"][\"Expert\"]})\n",
    "arm_result = arm_result.loc['Our'][:-1].append(MX)"
   ]
  },
  {
   "cell_type": "code",
   "execution_count": 15,
   "metadata": {},
   "outputs": [],
   "source": [
    "thigh_result = calculate_psd(measure='thigh_girth')\n",
    "MX = pd.Series({\"MOVE/Expert\": thigh_result.loc[\"MOVE4D\"][\"Expert\"]})\n",
    "thigh_result = thigh_result.loc['Our'][:-1].append(MX)"
   ]
  },
  {
   "cell_type": "code",
   "execution_count": 16,
   "metadata": {},
   "outputs": [],
   "source": [
    "neck_waist_result = calculate_psd(measure='neck_waist')\n",
    "MX = pd.Series({\"MOVE/Expert\": neck_waist_result.loc[\"MOVE4D\"][\"Expert\"]})\n",
    "neck_waist_result = neck_waist_result.loc['Our'][:-1].append(MX)"
   ]
  },
  {
   "cell_type": "code",
   "execution_count": 17,
   "metadata": {},
   "outputs": [],
   "source": [
    "def calculate_mad():\n",
    "    all_measures = []\n",
    "    for station in station_list:\n",
    "        measures_of_station = []\n",
    "        a = measures[measures['measures_station'] == station]\n",
    "        f1 = a['repetition'] == 1\n",
    "        f2 = a['repetition'] == 2\n",
    "        for measure in our_semantic[3:-1]:\n",
    "            mean = np.nanmean(abs(a[f1][measure].to_numpy() - a[f2][measure].to_numpy()))\n",
    "            measures_of_station.append(mean)\n",
    "        all_measures.append(measures_of_station)\n",
    "    return pd.DataFrame(all_measures, columns=our_semantic[3:-1], index=['MOVE4D','Expert','Our']).T"
   ]
  },
  {
   "cell_type": "code",
   "execution_count": 18,
   "metadata": {},
   "outputs": [],
   "source": [
    "styles = [dict(selector=\"caption\",\n",
    "                       props=[(\"text-align\", \"center\"),\n",
    "                              (\"font-size\", \"125%\"),\n",
    "                              (\"color\", 'black'),\n",
    "                              (\"font-weight\", '700')])]"
   ]
  },
  {
   "cell_type": "code",
   "execution_count": 19,
   "metadata": {},
   "outputs": [
    {
     "data": {
      "text/html": [
       "<style type=\"text/css\">\n",
       "#T_7f226 caption {\n",
       "  text-align: center;\n",
       "  font-size: 125%;\n",
       "  color: black;\n",
       "  font-weight: 700;\n",
       "}\n",
       "</style>\n",
       "<table id=\"T_7f226\">\n",
       "  <caption>OUR vs MOVE4D MAD statistic result</caption>\n",
       "  <thead>\n",
       "    <tr>\n",
       "      <th class=\"blank level0\" >&nbsp;</th>\n",
       "      <th id=\"T_7f226_level0_col0\" class=\"col_heading level0 col0\" >MOVE4D</th>\n",
       "      <th id=\"T_7f226_level0_col1\" class=\"col_heading level0 col1\" >Expert</th>\n",
       "      <th id=\"T_7f226_level0_col2\" class=\"col_heading level0 col2\" >Our</th>\n",
       "    </tr>\n",
       "  </thead>\n",
       "  <tbody>\n",
       "    <tr>\n",
       "      <th id=\"T_7f226_level0_row0\" class=\"row_heading level0 row0\" >bust_chest_girth</th>\n",
       "      <td id=\"T_7f226_row0_col0\" class=\"data row0 col0\" >8.5292</td>\n",
       "      <td id=\"T_7f226_row0_col1\" class=\"data row0 col1\" >12.5347</td>\n",
       "      <td id=\"T_7f226_row0_col2\" class=\"data row0 col2\" >6.8866</td>\n",
       "    </tr>\n",
       "    <tr>\n",
       "      <th id=\"T_7f226_level0_row1\" class=\"row_heading level0 row1\" >waist_girth</th>\n",
       "      <td id=\"T_7f226_row1_col0\" class=\"data row1 col0\" >6.4874</td>\n",
       "      <td id=\"T_7f226_row1_col1\" class=\"data row1 col1\" >9.1319</td>\n",
       "      <td id=\"T_7f226_row1_col2\" class=\"data row1 col2\" >5.6992</td>\n",
       "    </tr>\n",
       "    <tr>\n",
       "      <th id=\"T_7f226_level0_row2\" class=\"row_heading level0 row2\" >hip_girth</th>\n",
       "      <td id=\"T_7f226_row2_col0\" class=\"data row2 col0\" >3.0823</td>\n",
       "      <td id=\"T_7f226_row2_col1\" class=\"data row2 col1\" >8.8194</td>\n",
       "      <td id=\"T_7f226_row2_col2\" class=\"data row2 col2\" >3.5551</td>\n",
       "    </tr>\n",
       "    <tr>\n",
       "      <th id=\"T_7f226_level0_row3\" class=\"row_heading level0 row3\" >thigh_girth</th>\n",
       "      <td id=\"T_7f226_row3_col0\" class=\"data row3 col0\" >2.6278</td>\n",
       "      <td id=\"T_7f226_row3_col1\" class=\"data row3 col1\" >7.8472</td>\n",
       "      <td id=\"T_7f226_row3_col2\" class=\"data row3 col2\" >2.9425</td>\n",
       "    </tr>\n",
       "    <tr>\n",
       "      <th id=\"T_7f226_level0_row4\" class=\"row_heading level0 row4\" >upper_arm_girth</th>\n",
       "      <td id=\"T_7f226_row4_col0\" class=\"data row4 col0\" >2.7248</td>\n",
       "      <td id=\"T_7f226_row4_col1\" class=\"data row4 col1\" >8.2014</td>\n",
       "      <td id=\"T_7f226_row4_col2\" class=\"data row4 col2\" >2.6521</td>\n",
       "    </tr>\n",
       "    <tr>\n",
       "      <th id=\"T_7f226_level0_row5\" class=\"row_heading level0 row5\" >neck_girth</th>\n",
       "      <td id=\"T_7f226_row5_col0\" class=\"data row5 col0\" >2.3442</td>\n",
       "      <td id=\"T_7f226_row5_col1\" class=\"data row5 col1\" >5.2431</td>\n",
       "      <td id=\"T_7f226_row5_col2\" class=\"data row5 col2\" >2.6996</td>\n",
       "    </tr>\n",
       "    <tr>\n",
       "      <th id=\"T_7f226_level0_row6\" class=\"row_heading level0 row6\" >neck_waist</th>\n",
       "      <td id=\"T_7f226_row6_col0\" class=\"data row6 col0\" >5.1012</td>\n",
       "      <td id=\"T_7f226_row6_col1\" class=\"data row6 col1\" >10.4514</td>\n",
       "      <td id=\"T_7f226_row6_col2\" class=\"data row6 col2\" >4.2303</td>\n",
       "    </tr>\n",
       "  </tbody>\n",
       "</table>\n"
      ],
      "text/plain": [
       "<pandas.io.formats.style.Styler at 0x7f7b49967070>"
      ]
     },
     "execution_count": 19,
     "metadata": {},
     "output_type": "execute_result"
    }
   ],
   "source": [
    "mad_table = calculate_mad()\n",
    "mad_table = mad_table.style.set_caption(\"OUR vs MOVE4D MAD statistic result\").set_table_styles(styles)\n",
    "mad_table.format(precision=4)\n"
   ]
  },
  {
   "cell_type": "code",
   "execution_count": 20,
   "metadata": {},
   "outputs": [
    {
     "data": {
      "text/html": [
       "<style type=\"text/css\">\n",
       "#T_3993e caption {\n",
       "  text-align: center;\n",
       "  font-size: 125%;\n",
       "  color: black;\n",
       "  font-weight: 700;\n",
       "}\n",
       "</style>\n",
       "<table id=\"T_3993e\">\n",
       "  <caption>OUR vs MOVE4D SEM statistic result</caption>\n",
       "  <thead>\n",
       "    <tr>\n",
       "      <th class=\"blank level0\" >&nbsp;</th>\n",
       "      <th id=\"T_3993e_level0_col0\" class=\"col_heading level0 col0\" >Expert</th>\n",
       "      <th id=\"T_3993e_level0_col1\" class=\"col_heading level0 col1\" >MOVE4D</th>\n",
       "      <th id=\"T_3993e_level0_col2\" class=\"col_heading level0 col2\" >Our</th>\n",
       "    </tr>\n",
       "  </thead>\n",
       "  <tbody>\n",
       "    <tr>\n",
       "      <th id=\"T_3993e_level0_row0\" class=\"row_heading level0 row0\" >bust_chest_girth</th>\n",
       "      <td id=\"T_3993e_row0_col0\" class=\"data row0 col0\" >12.2070</td>\n",
       "      <td id=\"T_3993e_row0_col1\" class=\"data row0 col1\" >7.8704</td>\n",
       "      <td id=\"T_3993e_row0_col2\" class=\"data row0 col2\" >5.6181</td>\n",
       "    </tr>\n",
       "    <tr>\n",
       "      <th id=\"T_3993e_level0_row1\" class=\"row_heading level0 row1\" >waist_girth</th>\n",
       "      <td id=\"T_3993e_row1_col0\" class=\"data row1 col0\" >8.7663</td>\n",
       "      <td id=\"T_3993e_row1_col1\" class=\"data row1 col1\" >6.4854</td>\n",
       "      <td id=\"T_3993e_row1_col2\" class=\"data row1 col2\" >5.7769</td>\n",
       "    </tr>\n",
       "    <tr>\n",
       "      <th id=\"T_3993e_level0_row2\" class=\"row_heading level0 row2\" >hip_girth</th>\n",
       "      <td id=\"T_3993e_row2_col0\" class=\"data row2 col0\" >7.9468</td>\n",
       "      <td id=\"T_3993e_row2_col1\" class=\"data row2 col1\" >2.7363</td>\n",
       "      <td id=\"T_3993e_row2_col2\" class=\"data row2 col2\" >3.0902</td>\n",
       "    </tr>\n",
       "    <tr>\n",
       "      <th id=\"T_3993e_level0_row3\" class=\"row_heading level0 row3\" >thigh_girth</th>\n",
       "      <td id=\"T_3993e_row3_col0\" class=\"data row3 col0\" >6.9973</td>\n",
       "      <td id=\"T_3993e_row3_col1\" class=\"data row3 col1\" >2.5784</td>\n",
       "      <td id=\"T_3993e_row3_col2\" class=\"data row3 col2\" >2.6602</td>\n",
       "    </tr>\n",
       "    <tr>\n",
       "      <th id=\"T_3993e_level0_row4\" class=\"row_heading level0 row4\" >upper_arm_girth</th>\n",
       "      <td id=\"T_3993e_row4_col0\" class=\"data row4 col0\" >12.2280</td>\n",
       "      <td id=\"T_3993e_row4_col1\" class=\"data row4 col1\" >2.4856</td>\n",
       "      <td id=\"T_3993e_row4_col2\" class=\"data row4 col2\" >2.5728</td>\n",
       "    </tr>\n",
       "    <tr>\n",
       "      <th id=\"T_3993e_level0_row5\" class=\"row_heading level0 row5\" >neck_girth</th>\n",
       "      <td id=\"T_3993e_row5_col0\" class=\"data row5 col0\" >4.8231</td>\n",
       "      <td id=\"T_3993e_row5_col1\" class=\"data row5 col1\" >2.3343</td>\n",
       "      <td id=\"T_3993e_row5_col2\" class=\"data row5 col2\" >2.3806</td>\n",
       "    </tr>\n",
       "    <tr>\n",
       "      <th id=\"T_3993e_level0_row6\" class=\"row_heading level0 row6\" >neck_waist</th>\n",
       "      <td id=\"T_3993e_row6_col0\" class=\"data row6 col0\" >9.2412</td>\n",
       "      <td id=\"T_3993e_row6_col1\" class=\"data row6 col1\" >4.9256</td>\n",
       "      <td id=\"T_3993e_row6_col2\" class=\"data row6 col2\" >3.7245</td>\n",
       "    </tr>\n",
       "  </tbody>\n",
       "</table>\n"
      ],
      "text/plain": [
       "<pandas.io.formats.style.Styler at 0x7f7b3bf567d0>"
      ]
     },
     "execution_count": 20,
     "metadata": {},
     "output_type": "execute_result"
    }
   ],
   "source": [
    "sem_table = our_sem.T.round(4)\n",
    "sem_table = sem_table.style.set_caption(\"OUR vs MOVE4D SEM statistic result\").set_table_styles(styles)\n",
    "sem_table.format(precision=4)"
   ]
  },
  {
   "cell_type": "code",
   "execution_count": 21,
   "metadata": {},
   "outputs": [
    {
     "data": {
      "text/html": [
       "<style type=\"text/css\">\n",
       "#T_9de28 caption {\n",
       "  text-align: center;\n",
       "  font-size: 125%;\n",
       "  color: black;\n",
       "  font-weight: 700;\n",
       "}\n",
       "</style>\n",
       "<table id=\"T_9de28\">\n",
       "  <caption>OUR vs MOVE4D PSD statistic result</caption>\n",
       "  <thead>\n",
       "    <tr>\n",
       "      <th class=\"blank level0\" >&nbsp;</th>\n",
       "      <th id=\"T_9de28_level0_col0\" class=\"col_heading level0 col0\" >Our vs Expert</th>\n",
       "      <th id=\"T_9de28_level0_col1\" class=\"col_heading level0 col1\" >Our vs MOVE4D</th>\n",
       "      <th id=\"T_9de28_level0_col2\" class=\"col_heading level0 col2\" >MOVE vs Expert</th>\n",
       "    </tr>\n",
       "  </thead>\n",
       "  <tbody>\n",
       "    <tr>\n",
       "      <th id=\"T_9de28_level0_row0\" class=\"row_heading level0 row0\" >bust_chest_girth</th>\n",
       "      <td id=\"T_9de28_row0_col0\" class=\"data row0 col0\" >12.04</td>\n",
       "      <td id=\"T_9de28_row0_col1\" class=\"data row0 col1\" >7.44</td>\n",
       "      <td id=\"T_9de28_row0_col2\" class=\"data row0 col2\" >10.17</td>\n",
       "    </tr>\n",
       "    <tr>\n",
       "      <th id=\"T_9de28_level0_row1\" class=\"row_heading level0 row1\" >waist_girth</th>\n",
       "      <td id=\"T_9de28_row1_col0\" class=\"data row1 col0\" >22.09</td>\n",
       "      <td id=\"T_9de28_row1_col1\" class=\"data row1 col1\" >20.71</td>\n",
       "      <td id=\"T_9de28_row1_col2\" class=\"data row1 col2\" >22.39</td>\n",
       "    </tr>\n",
       "    <tr>\n",
       "      <th id=\"T_9de28_level0_row2\" class=\"row_heading level0 row2\" >hip_girth</th>\n",
       "      <td id=\"T_9de28_row2_col0\" class=\"data row2 col0\" >23.08</td>\n",
       "      <td id=\"T_9de28_row2_col1\" class=\"data row2 col1\" >13.25</td>\n",
       "      <td id=\"T_9de28_row2_col2\" class=\"data row2 col2\" >22.25</td>\n",
       "    </tr>\n",
       "    <tr>\n",
       "      <th id=\"T_9de28_level0_row3\" class=\"row_heading level0 row3\" >thigh_girth</th>\n",
       "      <td id=\"T_9de28_row3_col0\" class=\"data row3 col0\" >15.04</td>\n",
       "      <td id=\"T_9de28_row3_col1\" class=\"data row3 col1\" >11.94</td>\n",
       "      <td id=\"T_9de28_row3_col2\" class=\"data row3 col2\" >14.79</td>\n",
       "    </tr>\n",
       "    <tr>\n",
       "      <th id=\"T_9de28_level0_row4\" class=\"row_heading level0 row4\" >upper_arm_girth</th>\n",
       "      <td id=\"T_9de28_row4_col0\" class=\"data row4 col0\" >16.47</td>\n",
       "      <td id=\"T_9de28_row4_col1\" class=\"data row4 col1\" >6.01</td>\n",
       "      <td id=\"T_9de28_row4_col2\" class=\"data row4 col2\" >15.58</td>\n",
       "    </tr>\n",
       "    <tr>\n",
       "      <th id=\"T_9de28_level0_row5\" class=\"row_heading level0 row5\" >neck_girth</th>\n",
       "      <td id=\"T_9de28_row5_col0\" class=\"data row5 col0\" >14.58</td>\n",
       "      <td id=\"T_9de28_row5_col1\" class=\"data row5 col1\" >10.43</td>\n",
       "      <td id=\"T_9de28_row5_col2\" class=\"data row5 col2\" >11.48</td>\n",
       "    </tr>\n",
       "    <tr>\n",
       "      <th id=\"T_9de28_level0_row6\" class=\"row_heading level0 row6\" >neck_waist</th>\n",
       "      <td id=\"T_9de28_row6_col0\" class=\"data row6 col0\" >19.94</td>\n",
       "      <td id=\"T_9de28_row6_col1\" class=\"data row6 col1\" >13.73</td>\n",
       "      <td id=\"T_9de28_row6_col2\" class=\"data row6 col2\" >20.19</td>\n",
       "    </tr>\n",
       "  </tbody>\n",
       "</table>\n"
      ],
      "text/plain": [
       "<pandas.io.formats.style.Styler at 0x7f7babf42800>"
      ]
     },
     "execution_count": 21,
     "metadata": {},
     "output_type": "execute_result"
    }
   ],
   "source": [
    "data_psd = pd.DataFrame(\n",
    "    [neck_result, bust_result, waist_result, hip_result, arm_result,thigh_result, neck_waist_result],\n",
    "    index=our_semantic[3:-1]).round(2)\n",
    "data_psd.columns = ['Our vs Expert', \"Our vs MOVE4D\", 'MOVE vs Expert']\n",
    "data_psd.to_csv(\"output/our_psd.csv\")\n",
    "data_psd = data_psd.style.set_caption(\"OUR vs MOVE4D PSD statistic result\").set_table_styles(styles)\n",
    "data_psd.format(precision=2)"
   ]
  }
 ],
 "metadata": {
  "kernelspec": {
   "display_name": "Python 3",
   "language": "python",
   "name": "python3"
  },
  "language_info": {
   "codemirror_mode": {
    "name": "ipython",
    "version": 3
   },
   "file_extension": ".py",
   "mimetype": "text/x-python",
   "name": "python",
   "nbconvert_exporter": "python",
   "pygments_lexer": "ipython3",
   "version": "3.10.12"
  },
  "orig_nbformat": 4
 },
 "nbformat": 4,
 "nbformat_minor": 2
}
