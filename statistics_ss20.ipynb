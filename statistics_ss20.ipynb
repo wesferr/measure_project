{
 "cells": [
  {
   "cell_type": "code",
   "execution_count": 1,
   "metadata": {},
   "outputs": [],
   "source": [
    "import warnings\n",
    "warnings.filterwarnings(\"ignore\")\n",
    "\n",
    "import numpy as np\n",
    "import pandas as pd\n",
    "import pingouin as pg\n",
    "import matplotlib.pyplot as plt\n",
    "import torch as tc\n",
    "genders = ['female', 'male']"
   ]
  },
  {
   "cell_type": "code",
   "execution_count": 2,
   "metadata": {},
   "outputs": [],
   "source": [
    "their_semantics = [\n",
    "    'Subject',\n",
    "    'Measuring station',\n",
    "    'repetition no.',\n",
    "    'Bust girth',\n",
    "    'Waist girth',\n",
    "    'Hip girth',\n",
    "    'Thigh girth R',\n",
    "    'Upper arm girth R',\n",
    "    'Neck girth',\n",
    "    'Back neck point to waist',\n",
    "    'Height (m)',\n",
    "]\n",
    "our_semantic = [\n",
    "    'subject',\n",
    "    'measures_station',\n",
    "    'repetition',\n",
    "    'bust_chest_girth', # 5.3.4\n",
    "    'waist_girth', # 5.3.10\n",
    "    'hip_girth', # 5.3.13\n",
    "    'thigh_girth', # 5.3.20\n",
    "    'upper_arm_girth', # 5.3.16\n",
    "    'neck_girth', # 5.3.2\n",
    "    'neck_waist',\n",
    "    'stature', # 5.1.1\n",
    "]\n",
    "\n",
    "station_list = [\"SS20\", \"Expert\", \"Our\"]\n",
    "\n",
    "measures = pd.read_pickle(f'data/ss20_cleaned_measures.zip')\n",
    "measures = measures[their_semantics]\n",
    "measures.columns = our_semantic\n",
    "our_measures = pd.read_pickle(\"data/ss20_our_measures.zip\")\n",
    "measures = pd.concat([our_measures, measures]).drop(columns=[\"stature\"])\n",
    "measures = measures[measures['measures_station'].isin([\"SS20\", \"Expert measurer 1\", \"our\"])]\n",
    "measures.replace(\"Expert measurer 1\", \"Expert\", inplace=True)\n",
    "measures.replace(\"our\", \"Our\", inplace=True)\n",
    "measures.reset_index(drop=True, inplace=True)"
   ]
  },
  {
   "cell_type": "code",
   "execution_count": 3,
   "metadata": {},
   "outputs": [],
   "source": [
    "measures.to_csv(\"our_ss20.csv\")"
   ]
  },
  {
   "cell_type": "code",
   "execution_count": 4,
   "metadata": {},
   "outputs": [],
   "source": [
    "numeric = ['upper_arm_girth', 'neck_waist']\n",
    "np.set_printoptions(suppress=True)\n",
    "data = measures[:118][measures[:118]['repetition'] == 1][numeric].to_numpy() - measures[:118][measures[:118]['repetition'] == 2][numeric].to_numpy()\n",
    "#data"
   ]
  },
  {
   "cell_type": "code",
   "execution_count": 5,
   "metadata": {},
   "outputs": [],
   "source": [
    "measures.drop([98,99], inplace=True)"
   ]
  },
  {
   "attachments": {},
   "cell_type": "markdown",
   "metadata": {},
   "source": [
    "# CALC ICC"
   ]
  },
  {
   "cell_type": "code",
   "execution_count": 6,
   "metadata": {},
   "outputs": [],
   "source": [
    "def calc_icc(a):\n",
    "    # ONE WAY ANOVA\n",
    "    numsub, numrep, numel = a.shape[0], a.shape[1], a.size\n",
    "    mean_between = a.mean(axis=1)\n",
    "    mean_within  = a.mean(axis=0)\n",
    "    ssw = ((a - mean_within)**2).sum()\n",
    "    ssb = ((a.T - mean_between)**2).sum()\n",
    "    msw = ssw/(numsub-1)\n",
    "    msb = ssb/(numel-numsub)\n",
    "    # ICC\n",
    "    # icc = msw/(msw+msb)\n",
    "    icc = (msw-msb) / ( msw + (numrep-1) * msb)\n",
    "    return icc"
   ]
  },
  {
   "cell_type": "code",
   "execution_count": 7,
   "metadata": {},
   "outputs": [],
   "source": [
    "\n",
    "all_measures = []\n",
    "for station in station_list:\n",
    "    measures_of_station = []\n",
    "    for measure in our_semantic[3:-1]:\n",
    "        a = measures[measures['measures_station'] == station][['subject', 'repetition', measure]]\n",
    "        a = pd.pivot_table(a, index='subject', columns='repetition').to_numpy()\n",
    "        icc = calc_icc(a)\n",
    "        measures_of_station.append(icc)\n",
    "    all_measures.append(measures_of_station)\n",
    "our_icc = pd.DataFrame(all_measures, station_list, our_semantic[3:-1]).sort_index()"
   ]
  },
  {
   "cell_type": "code",
   "execution_count": 8,
   "metadata": {},
   "outputs": [
    {
     "data": {
      "text/html": [
       "<div>\n",
       "<style scoped>\n",
       "    .dataframe tbody tr th:only-of-type {\n",
       "        vertical-align: middle;\n",
       "    }\n",
       "\n",
       "    .dataframe tbody tr th {\n",
       "        vertical-align: top;\n",
       "    }\n",
       "\n",
       "    .dataframe thead th {\n",
       "        text-align: right;\n",
       "    }\n",
       "</style>\n",
       "<table border=\"1\" class=\"dataframe\">\n",
       "  <thead>\n",
       "    <tr style=\"text-align: right;\">\n",
       "      <th></th>\n",
       "      <th>bust_chest_girth</th>\n",
       "      <th>waist_girth</th>\n",
       "      <th>hip_girth</th>\n",
       "      <th>thigh_girth</th>\n",
       "      <th>upper_arm_girth</th>\n",
       "      <th>neck_girth</th>\n",
       "      <th>neck_waist</th>\n",
       "    </tr>\n",
       "  </thead>\n",
       "  <tbody>\n",
       "    <tr>\n",
       "      <th>Expert</th>\n",
       "      <td>0.992813</td>\n",
       "      <td>0.983097</td>\n",
       "      <td>0.982067</td>\n",
       "      <td>0.975099</td>\n",
       "      <td>0.985897</td>\n",
       "      <td>0.980519</td>\n",
       "      <td>0.880718</td>\n",
       "    </tr>\n",
       "    <tr>\n",
       "      <th>Our</th>\n",
       "      <td>0.997479</td>\n",
       "      <td>0.996334</td>\n",
       "      <td>0.995272</td>\n",
       "      <td>0.992424</td>\n",
       "      <td>0.971522</td>\n",
       "      <td>0.991000</td>\n",
       "      <td>0.886424</td>\n",
       "    </tr>\n",
       "    <tr>\n",
       "      <th>SS20</th>\n",
       "      <td>0.997559</td>\n",
       "      <td>0.994638</td>\n",
       "      <td>0.993575</td>\n",
       "      <td>0.982322</td>\n",
       "      <td>0.990344</td>\n",
       "      <td>0.991896</td>\n",
       "      <td>0.966569</td>\n",
       "    </tr>\n",
       "  </tbody>\n",
       "</table>\n",
       "</div>"
      ],
      "text/plain": [
       "        bust_chest_girth  waist_girth  hip_girth  thigh_girth  \\\n",
       "Expert          0.992813     0.983097   0.982067     0.975099   \n",
       "Our             0.997479     0.996334   0.995272     0.992424   \n",
       "SS20            0.997559     0.994638   0.993575     0.982322   \n",
       "\n",
       "        upper_arm_girth  neck_girth  neck_waist  \n",
       "Expert         0.985897    0.980519    0.880718  \n",
       "Our            0.971522    0.991000    0.886424  \n",
       "SS20           0.990344    0.991896    0.966569  "
      ]
     },
     "execution_count": 8,
     "metadata": {},
     "output_type": "execute_result"
    }
   ],
   "source": [
    "our_icc.index = ['Expert', 'Our', \"SS20\"]\n",
    "our_icc"
   ]
  },
  {
   "attachments": {},
   "cell_type": "markdown",
   "metadata": {},
   "source": [
    "# CALC SEM"
   ]
  },
  {
   "cell_type": "code",
   "execution_count": 9,
   "metadata": {},
   "outputs": [],
   "source": [
    "all_measures = []\n",
    "for station in station_list:\n",
    "    measures_of_station = []\n",
    "    for measure in our_semantic[3:-1]:\n",
    "        a = measures[measures['measures_station'] == station][['subject', 'repetition', measure]]\n",
    "        b = pd.pivot_table(a, index='subject', columns='repetition').to_numpy()\n",
    "        icc = calc_icc(b)\n",
    "        sem = a[measure].std() * np.sqrt(1-icc)\n",
    "        measures_of_station.append(sem)\n",
    "    all_measures.append(measures_of_station)\n",
    "our_sem = pd.DataFrame(all_measures, station_list, our_semantic[3:-1]).sort_index()"
   ]
  },
  {
   "cell_type": "code",
   "execution_count": 10,
   "metadata": {},
   "outputs": [
    {
     "data": {
      "text/html": [
       "<div>\n",
       "<style scoped>\n",
       "    .dataframe tbody tr th:only-of-type {\n",
       "        vertical-align: middle;\n",
       "    }\n",
       "\n",
       "    .dataframe tbody tr th {\n",
       "        vertical-align: top;\n",
       "    }\n",
       "\n",
       "    .dataframe thead th {\n",
       "        text-align: right;\n",
       "    }\n",
       "</style>\n",
       "<table border=\"1\" class=\"dataframe\">\n",
       "  <thead>\n",
       "    <tr style=\"text-align: right;\">\n",
       "      <th></th>\n",
       "      <th>Expert</th>\n",
       "      <th>Our</th>\n",
       "      <th>SS20</th>\n",
       "    </tr>\n",
       "  </thead>\n",
       "  <tbody>\n",
       "    <tr>\n",
       "      <th>bust_chest_girth</th>\n",
       "      <td>10.8432</td>\n",
       "      <td>6.3283</td>\n",
       "      <td>6.7248</td>\n",
       "    </tr>\n",
       "    <tr>\n",
       "      <th>waist_girth</th>\n",
       "      <td>17.6614</td>\n",
       "      <td>8.9595</td>\n",
       "      <td>10.2937</td>\n",
       "    </tr>\n",
       "    <tr>\n",
       "      <th>hip_girth</th>\n",
       "      <td>14.9929</td>\n",
       "      <td>6.6426</td>\n",
       "      <td>7.9938</td>\n",
       "    </tr>\n",
       "    <tr>\n",
       "      <th>thigh_girth</th>\n",
       "      <td>11.2816</td>\n",
       "      <td>5.8041</td>\n",
       "      <td>9.0074</td>\n",
       "    </tr>\n",
       "    <tr>\n",
       "      <th>upper_arm_girth</th>\n",
       "      <td>5.1265</td>\n",
       "      <td>7.4835</td>\n",
       "      <td>4.5148</td>\n",
       "    </tr>\n",
       "    <tr>\n",
       "      <th>neck_girth</th>\n",
       "      <td>5.8890</td>\n",
       "      <td>4.8202</td>\n",
       "      <td>4.4899</td>\n",
       "    </tr>\n",
       "    <tr>\n",
       "      <th>neck_waist</th>\n",
       "      <td>10.2074</td>\n",
       "      <td>11.3672</td>\n",
       "      <td>7.4990</td>\n",
       "    </tr>\n",
       "  </tbody>\n",
       "</table>\n",
       "</div>"
      ],
      "text/plain": [
       "                   Expert      Our     SS20\n",
       "bust_chest_girth  10.8432   6.3283   6.7248\n",
       "waist_girth       17.6614   8.9595  10.2937\n",
       "hip_girth         14.9929   6.6426   7.9938\n",
       "thigh_girth       11.2816   5.8041   9.0074\n",
       "upper_arm_girth    5.1265   7.4835   4.5148\n",
       "neck_girth         5.8890   4.8202   4.4899\n",
       "neck_waist        10.2074  11.3672   7.4990"
      ]
     },
     "execution_count": 10,
     "metadata": {},
     "output_type": "execute_result"
    }
   ],
   "source": [
    "our_sem.index = ['Expert', 'Our', \"SS20\"]\n",
    "our_sem.T.round(4)"
   ]
  },
  {
   "attachments": {},
   "cell_type": "markdown",
   "metadata": {},
   "source": [
    "# CALC PSD"
   ]
  },
  {
   "cell_type": "code",
   "execution_count": 11,
   "metadata": {},
   "outputs": [],
   "source": [
    "def calculate_psd(measure):\n",
    "    data = measures\n",
    "    f1 = data['repetition'] == 1\n",
    "    f2 = data['repetition'] == 2\n",
    "    data = data[ f1 | f2 ][['subject', 'measures_station', 'repetition', measure]]\n",
    "    data = data.pivot_table(values=measure, index=['subject', 'repetition'], columns=\"measures_station\")\n",
    "    data = data.dropna()\n",
    "    \n",
    "\n",
    "    column_wise = []\n",
    "    for column1 in data.columns:\n",
    "        row_wise = []\n",
    "        for column2 in data.columns:\n",
    "            if column1 == column2:\n",
    "                row_wise.append(np.nan)\n",
    "            else:\n",
    "                d1 = data[column1]\n",
    "                d2 = data[column2]\n",
    "                var = (d1-d2).var()\n",
    "                sem1 = our_sem[measure].loc[column1]**2\n",
    "                sem2 = our_sem[measure].loc[column2]**2\n",
    "                value = np.sqrt(var + (sem1/2) + (sem2/2))\n",
    "                row_wise.append(value)\n",
    "        column_wise.append(row_wise)\n",
    "    data = pd.DataFrame(column_wise, index=data.columns, columns=data.columns)\n",
    "    data.index.name = None\n",
    "    return data"
   ]
  },
  {
   "cell_type": "code",
   "execution_count": 12,
   "metadata": {},
   "outputs": [],
   "source": [
    "neck_result = calculate_psd(measure='neck_girth')\n",
    "MX = pd.Series({\"SS20/Expert\": neck_result.loc[\"SS20\"][\"Expert\"]})\n",
    "neck_result = neck_result.loc['Our'].drop('Our').append(MX)"
   ]
  },
  {
   "cell_type": "code",
   "execution_count": 13,
   "metadata": {},
   "outputs": [],
   "source": [
    "bust_result = calculate_psd(measure='bust_chest_girth')\n",
    "MX = pd.Series({\"SS20/Expert\": bust_result.loc[\"SS20\"][\"Expert\"]})\n",
    "bust_result = bust_result.loc['Our'].drop('Our').append(MX)"
   ]
  },
  {
   "cell_type": "code",
   "execution_count": 14,
   "metadata": {},
   "outputs": [],
   "source": [
    "waist_result = calculate_psd(measure='waist_girth')\n",
    "MX = pd.Series({\"SS20/Expert\": waist_result.loc[\"SS20\"][\"Expert\"]})\n",
    "waist_result = waist_result.loc['Our'].drop('Our').append(MX)"
   ]
  },
  {
   "cell_type": "code",
   "execution_count": 15,
   "metadata": {},
   "outputs": [],
   "source": [
    "hip_result = calculate_psd(measure='hip_girth')\n",
    "MX = pd.Series({\"SS20/Expert\": hip_result.loc[\"SS20\"][\"Expert\"]})\n",
    "hip_result = hip_result.loc['Our'].drop('Our').append(MX)"
   ]
  },
  {
   "cell_type": "code",
   "execution_count": 16,
   "metadata": {},
   "outputs": [],
   "source": [
    "arm_result = calculate_psd(measure='upper_arm_girth')\n",
    "MX = pd.Series({\"SS20/Expert\": arm_result.loc[\"SS20\"][\"Expert\"]})\n",
    "arm_result = arm_result.loc['Our'].drop('Our').append(MX)"
   ]
  },
  {
   "cell_type": "code",
   "execution_count": 17,
   "metadata": {},
   "outputs": [],
   "source": [
    "thigh_result = calculate_psd(measure='thigh_girth')\n",
    "MX = pd.Series({\"SS20/Expert\": thigh_result.loc[\"SS20\"][\"Expert\"]})\n",
    "thigh_result = thigh_result.loc['Our'].drop('Our').append(MX)"
   ]
  },
  {
   "cell_type": "code",
   "execution_count": 18,
   "metadata": {},
   "outputs": [],
   "source": [
    "neck_waist_result = calculate_psd(measure='neck_waist')\n",
    "MX = pd.Series({\"SS20/Expert\": neck_waist_result.loc[\"SS20\"][\"Expert\"]})\n",
    "neck_waist_result = neck_waist_result.loc['Our'].drop('Our').append(MX)"
   ]
  },
  {
   "cell_type": "code",
   "execution_count": 27,
   "metadata": {},
   "outputs": [],
   "source": [
    "def calculate_mad():\n",
    "    all_measures = []\n",
    "    for station in station_list:\n",
    "        measures_of_station = []\n",
    "        a = measures[measures['measures_station'] == station]\n",
    "        f1 = a['repetition'] == 1\n",
    "        f2 = a['repetition'] == 2\n",
    "\n",
    "        \n",
    "        for measure in our_semantic[3:-1]:\n",
    "            mean = np.nanmean(abs(a[f1][measure].to_numpy() - a[f2][measure].to_numpy()))\n",
    "            measures_of_station.append(mean)\n",
    "\n",
    "        all_measures.append(measures_of_station)\n",
    "    return pd.DataFrame(all_measures, columns=our_semantic[3:-1], index=['Our','Expert','SS20']).T"
   ]
  },
  {
   "cell_type": "code",
   "execution_count": 28,
   "metadata": {},
   "outputs": [
    {
     "data": {
      "text/html": [
       "<div>\n",
       "<style scoped>\n",
       "    .dataframe tbody tr th:only-of-type {\n",
       "        vertical-align: middle;\n",
       "    }\n",
       "\n",
       "    .dataframe tbody tr th {\n",
       "        vertical-align: top;\n",
       "    }\n",
       "\n",
       "    .dataframe thead th {\n",
       "        text-align: right;\n",
       "    }\n",
       "</style>\n",
       "<table border=\"1\" class=\"dataframe\">\n",
       "  <thead>\n",
       "    <tr style=\"text-align: right;\">\n",
       "      <th></th>\n",
       "      <th>Our</th>\n",
       "      <th>Expert</th>\n",
       "      <th>SS20</th>\n",
       "    </tr>\n",
       "  </thead>\n",
       "  <tbody>\n",
       "    <tr>\n",
       "      <th>bust_chest_girth</th>\n",
       "      <td>7.630763</td>\n",
       "      <td>10.181818</td>\n",
       "      <td>7.296091</td>\n",
       "    </tr>\n",
       "    <tr>\n",
       "      <th>waist_girth</th>\n",
       "      <td>7.901983</td>\n",
       "      <td>16.227273</td>\n",
       "      <td>9.793399</td>\n",
       "    </tr>\n",
       "    <tr>\n",
       "      <th>hip_girth</th>\n",
       "      <td>7.131373</td>\n",
       "      <td>13.500000</td>\n",
       "      <td>7.163131</td>\n",
       "    </tr>\n",
       "    <tr>\n",
       "      <th>thigh_girth</th>\n",
       "      <td>6.089542</td>\n",
       "      <td>12.590909</td>\n",
       "      <td>5.850343</td>\n",
       "    </tr>\n",
       "    <tr>\n",
       "      <th>upper_arm_girth</th>\n",
       "      <td>4.507424</td>\n",
       "      <td>5.000000</td>\n",
       "      <td>7.947104</td>\n",
       "    </tr>\n",
       "    <tr>\n",
       "      <th>neck_girth</th>\n",
       "      <td>4.574153</td>\n",
       "      <td>6.545455</td>\n",
       "      <td>5.226101</td>\n",
       "    </tr>\n",
       "    <tr>\n",
       "      <th>neck_waist</th>\n",
       "      <td>7.479008</td>\n",
       "      <td>11.636364</td>\n",
       "      <td>10.034299</td>\n",
       "    </tr>\n",
       "  </tbody>\n",
       "</table>\n",
       "</div>"
      ],
      "text/plain": [
       "                       Our     Expert       SS20\n",
       "bust_chest_girth  7.630763  10.181818   7.296091\n",
       "waist_girth       7.901983  16.227273   9.793399\n",
       "hip_girth         7.131373  13.500000   7.163131\n",
       "thigh_girth       6.089542  12.590909   5.850343\n",
       "upper_arm_girth   4.507424   5.000000   7.947104\n",
       "neck_girth        4.574153   6.545455   5.226101\n",
       "neck_waist        7.479008  11.636364  10.034299"
      ]
     },
     "execution_count": 28,
     "metadata": {},
     "output_type": "execute_result"
    }
   ],
   "source": [
    "calculate_mad()"
   ]
  },
  {
   "cell_type": "code",
   "execution_count": 21,
   "metadata": {},
   "outputs": [],
   "source": [
    "styles = [dict(selector=\"caption\",\n",
    "                       props=[(\"text-align\", \"center\"),\n",
    "                              (\"font-size\", \"125%\"),\n",
    "                              (\"color\", 'black'),\n",
    "                              (\"font-weight\", '700')])]"
   ]
  },
  {
   "cell_type": "code",
   "execution_count": 22,
   "metadata": {},
   "outputs": [
    {
     "data": {
      "text/html": [
       "<style type=\"text/css\">\n",
       "#T_f9a6a caption {\n",
       "  text-align: center;\n",
       "  font-size: 125%;\n",
       "  color: black;\n",
       "  font-weight: 700;\n",
       "}\n",
       "</style>\n",
       "<table id=\"T_f9a6a\">\n",
       "  <caption>OUR vs SS20 MAD statistic result</caption>\n",
       "  <thead>\n",
       "    <tr>\n",
       "      <th class=\"blank level0\" >&nbsp;</th>\n",
       "      <th id=\"T_f9a6a_level0_col0\" class=\"col_heading level0 col0\" >Our</th>\n",
       "      <th id=\"T_f9a6a_level0_col1\" class=\"col_heading level0 col1\" >Expert</th>\n",
       "      <th id=\"T_f9a6a_level0_col2\" class=\"col_heading level0 col2\" >SS20</th>\n",
       "    </tr>\n",
       "  </thead>\n",
       "  <tbody>\n",
       "    <tr>\n",
       "      <th id=\"T_f9a6a_level0_row0\" class=\"row_heading level0 row0\" >bust_chest_girth</th>\n",
       "      <td id=\"T_f9a6a_row0_col0\" class=\"data row0 col0\" >7.6308</td>\n",
       "      <td id=\"T_f9a6a_row0_col1\" class=\"data row0 col1\" >10.1818</td>\n",
       "      <td id=\"T_f9a6a_row0_col2\" class=\"data row0 col2\" >7.2961</td>\n",
       "    </tr>\n",
       "    <tr>\n",
       "      <th id=\"T_f9a6a_level0_row1\" class=\"row_heading level0 row1\" >waist_girth</th>\n",
       "      <td id=\"T_f9a6a_row1_col0\" class=\"data row1 col0\" >7.9020</td>\n",
       "      <td id=\"T_f9a6a_row1_col1\" class=\"data row1 col1\" >16.2273</td>\n",
       "      <td id=\"T_f9a6a_row1_col2\" class=\"data row1 col2\" >9.7934</td>\n",
       "    </tr>\n",
       "    <tr>\n",
       "      <th id=\"T_f9a6a_level0_row2\" class=\"row_heading level0 row2\" >hip_girth</th>\n",
       "      <td id=\"T_f9a6a_row2_col0\" class=\"data row2 col0\" >7.1314</td>\n",
       "      <td id=\"T_f9a6a_row2_col1\" class=\"data row2 col1\" >13.5000</td>\n",
       "      <td id=\"T_f9a6a_row2_col2\" class=\"data row2 col2\" >7.1631</td>\n",
       "    </tr>\n",
       "    <tr>\n",
       "      <th id=\"T_f9a6a_level0_row3\" class=\"row_heading level0 row3\" >thigh_girth</th>\n",
       "      <td id=\"T_f9a6a_row3_col0\" class=\"data row3 col0\" >6.0895</td>\n",
       "      <td id=\"T_f9a6a_row3_col1\" class=\"data row3 col1\" >12.5909</td>\n",
       "      <td id=\"T_f9a6a_row3_col2\" class=\"data row3 col2\" >5.8503</td>\n",
       "    </tr>\n",
       "    <tr>\n",
       "      <th id=\"T_f9a6a_level0_row4\" class=\"row_heading level0 row4\" >upper_arm_girth</th>\n",
       "      <td id=\"T_f9a6a_row4_col0\" class=\"data row4 col0\" >4.5074</td>\n",
       "      <td id=\"T_f9a6a_row4_col1\" class=\"data row4 col1\" >5.0000</td>\n",
       "      <td id=\"T_f9a6a_row4_col2\" class=\"data row4 col2\" >7.9471</td>\n",
       "    </tr>\n",
       "    <tr>\n",
       "      <th id=\"T_f9a6a_level0_row5\" class=\"row_heading level0 row5\" >neck_girth</th>\n",
       "      <td id=\"T_f9a6a_row5_col0\" class=\"data row5 col0\" >4.5742</td>\n",
       "      <td id=\"T_f9a6a_row5_col1\" class=\"data row5 col1\" >6.5455</td>\n",
       "      <td id=\"T_f9a6a_row5_col2\" class=\"data row5 col2\" >5.2261</td>\n",
       "    </tr>\n",
       "    <tr>\n",
       "      <th id=\"T_f9a6a_level0_row6\" class=\"row_heading level0 row6\" >neck_waist</th>\n",
       "      <td id=\"T_f9a6a_row6_col0\" class=\"data row6 col0\" >7.4790</td>\n",
       "      <td id=\"T_f9a6a_row6_col1\" class=\"data row6 col1\" >11.6364</td>\n",
       "      <td id=\"T_f9a6a_row6_col2\" class=\"data row6 col2\" >10.0343</td>\n",
       "    </tr>\n",
       "  </tbody>\n",
       "</table>\n"
      ],
      "text/plain": [
       "<pandas.io.formats.style.Styler at 0x7fd16a7829b0>"
      ]
     },
     "execution_count": 22,
     "metadata": {},
     "output_type": "execute_result"
    }
   ],
   "source": [
    "mad_table = calculate_mad().round(4)\n",
    "mad_table = mad_table.style.set_caption(\"OUR vs SS20 MAD statistic result\").set_table_styles(styles)\n",
    "mad_table.format(precision=4)"
   ]
  },
  {
   "cell_type": "code",
   "execution_count": 23,
   "metadata": {},
   "outputs": [
    {
     "data": {
      "text/html": [
       "<style type=\"text/css\">\n",
       "#T_eb2bc caption {\n",
       "  text-align: center;\n",
       "  font-size: 125%;\n",
       "  color: black;\n",
       "  font-weight: 700;\n",
       "}\n",
       "</style>\n",
       "<table id=\"T_eb2bc\">\n",
       "  <caption>OUR vs SS20 SEM statistic result</caption>\n",
       "  <thead>\n",
       "    <tr>\n",
       "      <th class=\"blank level0\" >&nbsp;</th>\n",
       "      <th id=\"T_eb2bc_level0_col0\" class=\"col_heading level0 col0\" >Expert</th>\n",
       "      <th id=\"T_eb2bc_level0_col1\" class=\"col_heading level0 col1\" >Our</th>\n",
       "      <th id=\"T_eb2bc_level0_col2\" class=\"col_heading level0 col2\" >SS20</th>\n",
       "    </tr>\n",
       "  </thead>\n",
       "  <tbody>\n",
       "    <tr>\n",
       "      <th id=\"T_eb2bc_level0_row0\" class=\"row_heading level0 row0\" >bust_chest_girth</th>\n",
       "      <td id=\"T_eb2bc_row0_col0\" class=\"data row0 col0\" >10.8432</td>\n",
       "      <td id=\"T_eb2bc_row0_col1\" class=\"data row0 col1\" >6.3283</td>\n",
       "      <td id=\"T_eb2bc_row0_col2\" class=\"data row0 col2\" >6.7248</td>\n",
       "    </tr>\n",
       "    <tr>\n",
       "      <th id=\"T_eb2bc_level0_row1\" class=\"row_heading level0 row1\" >waist_girth</th>\n",
       "      <td id=\"T_eb2bc_row1_col0\" class=\"data row1 col0\" >17.6614</td>\n",
       "      <td id=\"T_eb2bc_row1_col1\" class=\"data row1 col1\" >8.9595</td>\n",
       "      <td id=\"T_eb2bc_row1_col2\" class=\"data row1 col2\" >10.2937</td>\n",
       "    </tr>\n",
       "    <tr>\n",
       "      <th id=\"T_eb2bc_level0_row2\" class=\"row_heading level0 row2\" >hip_girth</th>\n",
       "      <td id=\"T_eb2bc_row2_col0\" class=\"data row2 col0\" >14.9929</td>\n",
       "      <td id=\"T_eb2bc_row2_col1\" class=\"data row2 col1\" >6.6426</td>\n",
       "      <td id=\"T_eb2bc_row2_col2\" class=\"data row2 col2\" >7.9938</td>\n",
       "    </tr>\n",
       "    <tr>\n",
       "      <th id=\"T_eb2bc_level0_row3\" class=\"row_heading level0 row3\" >thigh_girth</th>\n",
       "      <td id=\"T_eb2bc_row3_col0\" class=\"data row3 col0\" >11.2816</td>\n",
       "      <td id=\"T_eb2bc_row3_col1\" class=\"data row3 col1\" >5.8041</td>\n",
       "      <td id=\"T_eb2bc_row3_col2\" class=\"data row3 col2\" >9.0074</td>\n",
       "    </tr>\n",
       "    <tr>\n",
       "      <th id=\"T_eb2bc_level0_row4\" class=\"row_heading level0 row4\" >upper_arm_girth</th>\n",
       "      <td id=\"T_eb2bc_row4_col0\" class=\"data row4 col0\" >5.1265</td>\n",
       "      <td id=\"T_eb2bc_row4_col1\" class=\"data row4 col1\" >7.4835</td>\n",
       "      <td id=\"T_eb2bc_row4_col2\" class=\"data row4 col2\" >4.5148</td>\n",
       "    </tr>\n",
       "    <tr>\n",
       "      <th id=\"T_eb2bc_level0_row5\" class=\"row_heading level0 row5\" >neck_girth</th>\n",
       "      <td id=\"T_eb2bc_row5_col0\" class=\"data row5 col0\" >5.8890</td>\n",
       "      <td id=\"T_eb2bc_row5_col1\" class=\"data row5 col1\" >4.8202</td>\n",
       "      <td id=\"T_eb2bc_row5_col2\" class=\"data row5 col2\" >4.4899</td>\n",
       "    </tr>\n",
       "    <tr>\n",
       "      <th id=\"T_eb2bc_level0_row6\" class=\"row_heading level0 row6\" >neck_waist</th>\n",
       "      <td id=\"T_eb2bc_row6_col0\" class=\"data row6 col0\" >10.2074</td>\n",
       "      <td id=\"T_eb2bc_row6_col1\" class=\"data row6 col1\" >11.3672</td>\n",
       "      <td id=\"T_eb2bc_row6_col2\" class=\"data row6 col2\" >7.4990</td>\n",
       "    </tr>\n",
       "  </tbody>\n",
       "</table>\n"
      ],
      "text/plain": [
       "<pandas.io.formats.style.Styler at 0x7fd16a7833a0>"
      ]
     },
     "execution_count": 23,
     "metadata": {},
     "output_type": "execute_result"
    }
   ],
   "source": [
    "sem_table = our_sem.T.round(4)\n",
    "sem_table = sem_table.style.set_caption(\"OUR vs SS20 SEM statistic result\").set_table_styles(styles)\n",
    "sem_table.format(precision=4)"
   ]
  },
  {
   "cell_type": "code",
   "execution_count": 24,
   "metadata": {},
   "outputs": [
    {
     "data": {
      "text/html": [
       "<style type=\"text/css\">\n",
       "#T_762b2 caption {\n",
       "  text-align: center;\n",
       "  font-size: 125%;\n",
       "  color: black;\n",
       "  font-weight: 700;\n",
       "}\n",
       "</style>\n",
       "<table id=\"T_762b2\">\n",
       "  <caption>OUR vs SS20 PSD statistic result</caption>\n",
       "  <thead>\n",
       "    <tr>\n",
       "      <th class=\"blank level0\" >&nbsp;</th>\n",
       "      <th id=\"T_762b2_level0_col0\" class=\"col_heading level0 col0\" >Our vs Expert</th>\n",
       "      <th id=\"T_762b2_level0_col1\" class=\"col_heading level0 col1\" >Our vs SS20</th>\n",
       "      <th id=\"T_762b2_level0_col2\" class=\"col_heading level0 col2\" >SS20 vs Expert</th>\n",
       "    </tr>\n",
       "  </thead>\n",
       "  <tbody>\n",
       "    <tr>\n",
       "      <th id=\"T_762b2_level0_row0\" class=\"row_heading level0 row0\" >bust_chest_girth</th>\n",
       "      <td id=\"T_762b2_row0_col0\" class=\"data row0 col0\" >24.80</td>\n",
       "      <td id=\"T_762b2_row0_col1\" class=\"data row0 col1\" >16.26</td>\n",
       "      <td id=\"T_762b2_row0_col2\" class=\"data row0 col2\" >23.65</td>\n",
       "    </tr>\n",
       "    <tr>\n",
       "      <th id=\"T_762b2_level0_row1\" class=\"row_heading level0 row1\" >waist_girth</th>\n",
       "      <td id=\"T_762b2_row1_col0\" class=\"data row1 col0\" >32.64</td>\n",
       "      <td id=\"T_762b2_row1_col1\" class=\"data row1 col1\" >22.16</td>\n",
       "      <td id=\"T_762b2_row1_col2\" class=\"data row1 col2\" >36.18</td>\n",
       "    </tr>\n",
       "    <tr>\n",
       "      <th id=\"T_762b2_level0_row2\" class=\"row_heading level0 row2\" >hip_girth</th>\n",
       "      <td id=\"T_762b2_row2_col0\" class=\"data row2 col0\" >63.75</td>\n",
       "      <td id=\"T_762b2_row2_col1\" class=\"data row2 col1\" >38.00</td>\n",
       "      <td id=\"T_762b2_row2_col2\" class=\"data row2 col2\" >54.99</td>\n",
       "    </tr>\n",
       "    <tr>\n",
       "      <th id=\"T_762b2_level0_row3\" class=\"row_heading level0 row3\" >thigh_girth</th>\n",
       "      <td id=\"T_762b2_row3_col0\" class=\"data row3 col0\" >34.08</td>\n",
       "      <td id=\"T_762b2_row3_col1\" class=\"data row3 col1\" >24.56</td>\n",
       "      <td id=\"T_762b2_row3_col2\" class=\"data row3 col2\" >32.21</td>\n",
       "    </tr>\n",
       "    <tr>\n",
       "      <th id=\"T_762b2_level0_row4\" class=\"row_heading level0 row4\" >upper_arm_girth</th>\n",
       "      <td id=\"T_762b2_row4_col0\" class=\"data row4 col0\" >14.18</td>\n",
       "      <td id=\"T_762b2_row4_col1\" class=\"data row4 col1\" >32.59</td>\n",
       "      <td id=\"T_762b2_row4_col2\" class=\"data row4 col2\" >33.08</td>\n",
       "    </tr>\n",
       "    <tr>\n",
       "      <th id=\"T_762b2_level0_row5\" class=\"row_heading level0 row5\" >neck_girth</th>\n",
       "      <td id=\"T_762b2_row5_col0\" class=\"data row5 col0\" >24.12</td>\n",
       "      <td id=\"T_762b2_row5_col1\" class=\"data row5 col1\" >17.75</td>\n",
       "      <td id=\"T_762b2_row5_col2\" class=\"data row5 col2\" >22.68</td>\n",
       "    </tr>\n",
       "    <tr>\n",
       "      <th id=\"T_762b2_level0_row6\" class=\"row_heading level0 row6\" >neck_waist</th>\n",
       "      <td id=\"T_762b2_row6_col0\" class=\"data row6 col0\" >32.00</td>\n",
       "      <td id=\"T_762b2_row6_col1\" class=\"data row6 col1\" >31.76</td>\n",
       "      <td id=\"T_762b2_row6_col2\" class=\"data row6 col2\" >32.48</td>\n",
       "    </tr>\n",
       "  </tbody>\n",
       "</table>\n"
      ],
      "text/plain": [
       "<pandas.io.formats.style.Styler at 0x7fd16a783ca0>"
      ]
     },
     "execution_count": 24,
     "metadata": {},
     "output_type": "execute_result"
    }
   ],
   "source": [
    "data_psd = pd.DataFrame(\n",
    "    [neck_result, bust_result, waist_result, hip_result, arm_result,thigh_result, neck_waist_result],\n",
    "    index=our_semantic[3:-1]).round(2)\n",
    "data_psd.columns = ['Our vs Expert', \"Our vs SS20\", 'SS20 vs Expert']\n",
    "data_psd.to_csv(\"output/our_psd.csv\")\n",
    "data_psd = data_psd.style.set_caption(\"OUR vs SS20 PSD statistic result\").set_table_styles(styles)\n",
    "data_psd.format(precision=2)"
   ]
  },
  {
   "cell_type": "code",
   "execution_count": null,
   "metadata": {},
   "outputs": [],
   "source": []
  }
 ],
 "metadata": {
  "kernelspec": {
   "display_name": "Python 3",
   "language": "python",
   "name": "python3"
  },
  "language_info": {
   "codemirror_mode": {
    "name": "ipython",
    "version": 3
   },
   "file_extension": ".py",
   "mimetype": "text/x-python",
   "name": "python",
   "nbconvert_exporter": "python",
   "pygments_lexer": "ipython3",
   "version": "3.10.12"
  },
  "orig_nbformat": 4
 },
 "nbformat": 4,
 "nbformat_minor": 2
}
