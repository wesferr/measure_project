{
 "cells": [
  {
   "cell_type": "code",
   "execution_count": 1,
   "metadata": {},
   "outputs": [],
   "source": [
    "import open3d as otd\n",
    "from tqdm import tqdm\n",
    "import torch as tc\n",
    "import numpy as np\n",
    "import pandas as pd\n",
    "from curve_utils import CurveUtils\n",
    "from curve_generator import CurveGenerator\n",
    "\n",
    "device = tc.device(\"cuda\" if tc.cuda.is_available() else \"cpu\")"
   ]
  },
  {
   "cell_type": "code",
   "execution_count": 2,
   "metadata": {},
   "outputs": [],
   "source": [
    "their_semantics = [\n",
    "    'Neck girth',\n",
    "    'Bust girth',\n",
    "    'Waist girth',\n",
    "    'Hip girth',\n",
    "    'Upper arm girth R',\n",
    "    'Thigh girth R',\n",
    "    'Height (m)',\n",
    "    'Total crotch length',\n",
    "    'Across back shoulder width',\n",
    "]\n",
    "our_semantic = [\n",
    "    'neck_girth', # 5.3.2\n",
    "    'bust_chest_girth', # 5.3.4\n",
    "    'waist_girth', # 5.3.10\n",
    "    'hip_girth', # 5.3.13\n",
    "    'upper_arm_girth', # 5.3.16\n",
    "    'thigh_girth', # 5.3.20\n",
    "    'stature', # 5.1.1\n",
    "    'crotch_length', # 5.1.15\n",
    "    'shoulder_width', # 5.4.3\n",
    "]\n",
    "curve_index = {\n",
    "    'neck_girth':4, # 5.3.2\n",
    "    'bust_chest_girth': 0, # 5.3.4\n",
    "    'waist_girth': 1, # 5.3.10\n",
    "    'hip_girth': 1, # 5.3.13\n",
    "    'upper_arm_girth': 3, # 5.3.16\n",
    "    'thigh_girth': 2, # 5.3.20\n",
    "    'stature': 0,\n",
    "    'crotch_length': 5\n",
    "}\n",
    "curves_names = list(curve_index.keys())"
   ]
  },
  {
   "cell_type": "code",
   "execution_count": 3,
   "metadata": {},
   "outputs": [],
   "source": [
    "selected_subjects = dict()\n",
    "selected_measures = dict()\n",
    "\n",
    "for gender in ['female', 'male']:\n",
    "    measures = pd.read_pickle(f'data/{gender}_measures.zip')\n",
    "    measures.index = measures['Subject']\n",
    "    measures = measures[measures['Measuring station'] == \"MOVE4D\"]\n",
    "    temp_measures = measures[their_semantics].iloc[::2]\n",
    "    \n",
    "    mean_measures = measures._get_numeric_data().mean(axis=0)\n",
    "    selected_subjects[gender] = 'IEEEP2_07' if gender == 'female' else 'IEEEP2_04'\n",
    "    selected_measures[gender] = temp_measures.loc[selected_subjects[gender]]\n",
    "    selected_subjects[gender] = temp_measures.index.get_loc(selected_subjects[gender])*2\n",
    "    selected_measures[gender].index = our_semantic\n",
    "    selected_measures[gender]['stature'] *= 1000"
   ]
  },
  {
   "cell_type": "code",
   "execution_count": 4,
   "metadata": {},
   "outputs": [
    {
     "data": {
      "text/plain": [
       "TriangleMesh with 6890 points and 13776 triangles."
      ]
     },
     "execution_count": 4,
     "metadata": {},
     "output_type": "execute_result"
    }
   ],
   "source": [
    "mesh = otd.io.read_triangle_mesh(\"tests/female_4_body.obj\")\n",
    "mesh.compute_vertex_normals()"
   ]
  },
  {
   "cell_type": "code",
   "execution_count": 5,
   "metadata": {},
   "outputs": [
    {
     "name": "stdout",
     "output_type": "stream",
     "text": [
      "TriangleMesh with 6890 points and 13776 triangles.\n",
      "     original    measured  error(mm)\n",
      "0   35.705200   35.704773   0.004272\n",
      "1  107.182999  107.329384   1.463852\n",
      "2   99.165901   99.164696   0.012054\n",
      "3  115.617004  115.025162   5.918427\n",
      "4   35.556900   35.690845   1.339455\n",
      "5   65.943703   65.977676   0.339737\n",
      "TriangleMesh with 27554 points and 55104 triangles.\n",
      "     original    measured  error(mm)\n",
      "0   35.705200   35.706299   0.010986\n",
      "1  107.182999  107.202599   0.195999\n",
      "2   99.165901   99.156624   0.092773\n",
      "3  115.617004  115.083244   5.337601\n",
      "4   35.556900   35.524063   0.328369\n",
      "5   65.943703   65.831253   1.124496\n",
      "TriangleMesh with 110210 points and 220416 triangles.\n",
      "     original    measured  error(mm)\n",
      "0   35.705200   35.713139   0.079384\n",
      "1  107.182999  107.203247   0.202484\n",
      "2   99.165901   99.209145   0.432434\n",
      "3  115.617004  115.065086   5.519180\n",
      "4   35.556900   35.514713   0.421867\n",
      "5   65.943703   66.021690   0.779877\n"
     ]
    },
    {
     "ename": "RuntimeError",
     "evalue": "CUDA out of memory. Tried to allocate 364.00 MiB (GPU 0; 7.93 GiB total capacity; 5.54 GiB already allocated; 295.62 MiB free; 5.63 GiB reserved in total by PyTorch) If reserved memory is >> allocated memory try setting max_split_size_mb to avoid fragmentation.  See documentation for Memory Management and PYTORCH_CUDA_ALLOC_CONF",
     "output_type": "error",
     "traceback": [
      "\u001b[0;31m---------------------------------------------------------------------------\u001b[0m",
      "\u001b[0;31mRuntimeError\u001b[0m                              Traceback (most recent call last)",
      "Cell \u001b[0;32mIn [5], line 15\u001b[0m\n\u001b[1;32m     13\u001b[0m \u001b[39mfor\u001b[39;00m curve \u001b[39min\u001b[39;00m best_curves:\n\u001b[1;32m     14\u001b[0m     position \u001b[39m=\u001b[39m CurveUtils\u001b[39m.\u001b[39mgenerate_positions(curve, body)\n\u001b[0;32m---> 15\u001b[0m     position, measures \u001b[39m=\u001b[39m CurveGenerator\u001b[39m.\u001b[39;49mray_polygon_colision(body[template], position)\n\u001b[1;32m     16\u001b[0m     all_positions\u001b[39m.\u001b[39mextend(position)\n\u001b[1;32m     17\u001b[0m all_positions \u001b[39m=\u001b[39m tc\u001b[39m.\u001b[39mrow_stack(all_positions)\n",
      "File \u001b[0;32m~/mestrado/measure_project/curve_generator.py:174\u001b[0m, in \u001b[0;36mCurveGenerator.ray_polygon_colision\u001b[0;34m(cls, polygons, positions)\u001b[0m\n\u001b[1;32m    170\u001b[0m plane_def \u001b[39m=\u001b[39m CurveGenerator\u001b[39m.\u001b[39mdefine_planes(polygons)\n\u001b[1;32m    171\u001b[0m colision_points, points_filter, ray_offset \u001b[39m=\u001b[39m CurveGenerator\u001b[39m.\u001b[39mcalculate_colision(\n\u001b[1;32m    172\u001b[0m     centroid, nvectors, plane_def[\u001b[39m0\u001b[39m], plane_def[\u001b[39m1\u001b[39m]\n\u001b[1;32m    173\u001b[0m )\n\u001b[0;32m--> 174\u001b[0m _, bfilter \u001b[39m=\u001b[39m CurveGenerator\u001b[39m.\u001b[39;49mbaricentric_coordinates(\n\u001b[1;32m    175\u001b[0m     plane_def[\u001b[39m2\u001b[39;49m], plane_def[\u001b[39m3\u001b[39;49m], plane_def[\u001b[39m4\u001b[39;49m], colision_points\u001b[39m+\u001b[39;49mcentroid\n\u001b[1;32m    176\u001b[0m )\n\u001b[1;32m    177\u001b[0m result \u001b[39m=\u001b[39m CurveUtils\u001b[39m.\u001b[39mget_closest_point(\n\u001b[1;32m    178\u001b[0m     colision_points\u001b[39m+\u001b[39mcentroid, ray_offset, points_filter, bfilter\n\u001b[1;32m    179\u001b[0m )\n\u001b[1;32m    180\u001b[0m \u001b[39mreturn\u001b[39;00m result, CurveUtils\u001b[39m.\u001b[39mcalculate_distances(result)\n",
      "File \u001b[0;32m~/mestrado/measure_project/curve_generator.py:196\u001b[0m, in \u001b[0;36mCurveGenerator.baricentric_coordinates\u001b[0;34m(cls, point_a, point_b, point_c, goal_point)\u001b[0m\n\u001b[1;32m    194\u001b[0m denom \u001b[39m=\u001b[39m dbb \u001b[39m*\u001b[39m dcc \u001b[39m-\u001b[39m dbc \u001b[39m*\u001b[39m dbc\n\u001b[1;32m    195\u001b[0m area_v \u001b[39m=\u001b[39m (dcc \u001b[39m*\u001b[39m dpb \u001b[39m-\u001b[39m dbc \u001b[39m*\u001b[39m dpc) \u001b[39m/\u001b[39mdenom\n\u001b[0;32m--> 196\u001b[0m area_w \u001b[39m=\u001b[39m (dbb \u001b[39m*\u001b[39;49m dpc \u001b[39m-\u001b[39;49m dbc \u001b[39m*\u001b[39;49m dpb) \u001b[39m/\u001b[39mdenom\n\u001b[1;32m    197\u001b[0m area_u \u001b[39m=\u001b[39m \u001b[39m1.0\u001b[39m \u001b[39m-\u001b[39m area_v \u001b[39m-\u001b[39m area_w\n\u001b[1;32m    199\u001b[0m test \u001b[39m=\u001b[39m (area_u\u001b[39m>\u001b[39m\u001b[39m=\u001b[39m\u001b[39m0\u001b[39m) \u001b[39m&\u001b[39m (area_v\u001b[39m>\u001b[39m\u001b[39m=\u001b[39m\u001b[39m0\u001b[39m) \u001b[39m&\u001b[39m (area_w\u001b[39m>\u001b[39m\u001b[39m=\u001b[39m\u001b[39m0\u001b[39m)\n",
      "\u001b[0;31mRuntimeError\u001b[0m: CUDA out of memory. Tried to allocate 364.00 MiB (GPU 0; 7.93 GiB total capacity; 5.54 GiB already allocated; 295.62 MiB free; 5.63 GiB reserved in total by PyTorch) If reserved memory is >> allocated memory try setting max_split_size_mb to avoid fragmentation.  See documentation for Memory Management and PYTORCH_CUDA_ALLOC_CONF"
     ]
    }
   ],
   "source": [
    "for nsubs in range(4):\n",
    "    temp_mesh = mesh.subdivide_loop(number_of_iterations=nsubs)\n",
    "    print(temp_mesh)\n",
    "    body = tc.FloatTensor(np.asarray(temp_mesh.vertices)).to(device)\n",
    "    template = tc.LongTensor(np.asarray(temp_mesh.triangles)).to(device)\n",
    "    measures = selected_measures['female']\n",
    "    result = CurveGenerator.get_curves(body, selected_measures['female'], template, device)\n",
    "    best_curves, data = CurveUtils.select_better(result, body, measures, device)\n",
    "    print(data[:-1])\n",
    "\n",
    "\n",
    "    all_positions = []\n",
    "    for curve in best_curves:\n",
    "        position = CurveUtils.generate_positions(curve, body)\n",
    "        position, measures = CurveGenerator.ray_polygon_colision(body[template], position)\n",
    "        all_positions.extend(position)\n",
    "    all_positions = tc.row_stack(all_positions)\n",
    "    # mesh_manipulation.save_obj(\"teste.obj\", all_positions.cpu().numpy())\n",
    "    save_mesh = otd.geometry.TriangleMesh()\n",
    "    save_mesh.vertices = otd.utility.Vector3dVector(all_positions.cpu().numpy())\n",
    "    otd.io.write_triangle_mesh(\"teste.obj\", save_mesh)"
   ]
  },
  {
   "cell_type": "code",
   "execution_count": null,
   "metadata": {},
   "outputs": [],
   "source": []
  }
 ],
 "metadata": {
  "kernelspec": {
   "display_name": "Python 3",
   "language": "python",
   "name": "python3"
  },
  "language_info": {
   "codemirror_mode": {
    "name": "ipython",
    "version": 3
   },
   "file_extension": ".py",
   "mimetype": "text/x-python",
   "name": "python",
   "nbconvert_exporter": "python",
   "pygments_lexer": "ipython3",
   "version": "3.10.6"
  },
  "orig_nbformat": 4,
  "vscode": {
   "interpreter": {
    "hash": "916dbcbb3f70747c44a77c7bcd40155683ae19c65e1c03b4aa3499c5328201f1"
   }
  }
 },
 "nbformat": 4,
 "nbformat_minor": 2
}
