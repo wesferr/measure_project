{
 "cells": [
  {
   "cell_type": "code",
   "execution_count": 12,
   "metadata": {},
   "outputs": [],
   "source": [
    "import torch as tc\n",
    "from src.bbox import BBox\n",
    "from src.curve_generator import CurveGenerator\n",
    "from src.mesh_manipulation import load_mesh, load_template, save_obj\n",
    "device = tc.device(\"cuda\" if tc.cuda.is_available() else \"cpu\")"
   ]
  },
  {
   "cell_type": "code",
   "execution_count": 2,
   "metadata": {},
   "outputs": [],
   "source": [
    "body_vertices = load_mesh(\"output/female_body.obj\", device)\n",
    "template = load_template(\"output/female_body.obj\", device)[0]"
   ]
  },
  {
   "cell_type": "code",
   "execution_count": 3,
   "metadata": {},
   "outputs": [],
   "source": [
    "body_min = body_vertices[:,1].min()\n",
    "body_max = body_vertices[:,1].max()\n",
    "height = body_max - body_min\n",
    "body_portion = height/8\n",
    "center = (0, body_min + (height/2), 0)\n",
    "width = height\n",
    "bust_box = BBox(width=width, height=height, center=tc.FloatTensor(center).to(device))\n",
    "bust_curves = CurveGenerator.calculate_curve(body_vertices, bust_box, 1, template, device, check_inside=False)"
   ]
  },
  {
   "cell_type": "code",
   "execution_count": 17,
   "metadata": {},
   "outputs": [],
   "source": [
    "save_obj(\"teste.obj\", bust_curves[2][0])"
   ]
  },
  {
   "cell_type": "code",
   "execution_count": 16,
   "metadata": {},
   "outputs": [
    {
     "data": {
      "text/plain": [
       "array([[-0.001995,  0.197549, -0.12094 ],\n",
       "       [-0.002592,  0.197549, -0.120874],\n",
       "       [-0.00317 ,  0.197549, -0.120878],\n",
       "       ...,\n",
       "       [ 0.002137,  0.197549, -0.121653],\n",
       "       [ 0.00203 ,  0.197549, -0.12163 ],\n",
       "       [-0.000247,  0.197549, -0.121145]], dtype=float32)"
      ]
     },
     "execution_count": 16,
     "metadata": {},
     "output_type": "execute_result"
    }
   ],
   "source": [
    "bust_curves[2][0]"
   ]
  },
  {
   "cell_type": "code",
   "execution_count": null,
   "metadata": {},
   "outputs": [],
   "source": []
  }
 ],
 "metadata": {
  "kernelspec": {
   "display_name": "Python 3",
   "language": "python",
   "name": "python3"
  },
  "language_info": {
   "codemirror_mode": {
    "name": "ipython",
    "version": 3
   },
   "file_extension": ".py",
   "mimetype": "text/x-python",
   "name": "python",
   "nbconvert_exporter": "python",
   "pygments_lexer": "ipython3",
   "version": "3.10.6"
  },
  "orig_nbformat": 4
 },
 "nbformat": 4,
 "nbformat_minor": 2
}
