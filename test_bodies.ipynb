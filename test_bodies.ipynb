{
 "cells": [
  {
   "cell_type": "code",
   "execution_count": 1,
   "metadata": {},
   "outputs": [],
   "source": [
    "import torch as tc\n",
    "import pandas as pd\n",
    "from curve_utils import CurveUtils\n",
    "device = tc.device(\"cuda\" if tc.cuda.is_available() else \"cpu\")"
   ]
  },
  {
   "cell_type": "code",
   "execution_count": 2,
   "metadata": {},
   "outputs": [],
   "source": [
    "their_semantics = [\n",
    "    'Neck girth',\n",
    "    'Bust girth',\n",
    "    'Waist girth',\n",
    "    'Hip girth',\n",
    "    'Upper arm girth R',\n",
    "    'Thigh girth R',\n",
    "    'Height (m)',\n",
    "    'Total crotch length',\n",
    "    'Across back shoulder width',\n",
    "]\n",
    "our_semantic = [\n",
    "    'neck_girth', # 5.3.2\n",
    "    'bust_chest_girth', # 5.3.4\n",
    "    'waist_girth', # 5.3.10\n",
    "    'hip_girth', # 5.3.13\n",
    "    'upper_arm_girth', # 5.3.16\n",
    "    'thigh_girth', # 5.3.20\n",
    "    'stature', # 5.1.1\n",
    "    'crotch_length', # 5.1.15\n",
    "    'shoulder_width', # 5.4.3\n",
    "]\n",
    "curve_index = {\n",
    "    'neck_girth':4, # 5.3.2\n",
    "    'bust_chest_girth': 0, # 5.3.4\n",
    "    'waist_girth': 1, # 5.3.10\n",
    "    'hip_girth': 1, # 5.3.13\n",
    "    'upper_arm_girth': 3, # 5.3.16\n",
    "    'thigh_girth': 2, # 5.3.20\n",
    "    'stature': 0,\n",
    "    'crotch_length': 5\n",
    "}\n",
    "curves_names = list(curve_index.keys())"
   ]
  },
  {
   "cell_type": "code",
   "execution_count": 3,
   "metadata": {},
   "outputs": [],
   "source": [
    "selected_subjects = dict()\n",
    "selected_measures = dict()\n",
    "\n",
    "for gender in ['female', 'male']:\n",
    "    measures = pd.read_pickle(f'data/{gender}_measures.zip')\n",
    "    measures.index = measures['Subject']\n",
    "    measures = measures[measures['Measuring station'] == \"MOVE4D\"]\n",
    "    temp_measures = measures[their_semantics].iloc[::2]\n",
    "    \n",
    "    mean_measures = measures._get_numeric_data().mean(axis=0)\n",
    "    selected_subjects[gender] = 'IEEEP2_07' if gender == 'female' else 'IEEEP2_04'\n",
    "    selected_measures[gender] = temp_measures.loc[selected_subjects[gender]]\n",
    "    selected_subjects[gender] = temp_measures.index.get_loc(selected_subjects[gender])*2\n",
    "    selected_measures[gender].index = our_semantic\n",
    "    selected_measures[gender]['stature'] *= 1000"
   ]
  },
  {
   "cell_type": "code",
   "execution_count": 4,
   "metadata": {},
   "outputs": [
    {
     "data": {
      "text/plain": [
       "{'female': 4, 'male': 2}"
      ]
     },
     "execution_count": 4,
     "metadata": {},
     "output_type": "execute_result"
    }
   ],
   "source": [
    "selected_subjects"
   ]
  },
  {
   "cell_type": "code",
   "execution_count": 5,
   "metadata": {},
   "outputs": [],
   "source": [
    "body_13 = CurveUtils.load_mesh(\"tests/female_4_body.obj\")\n",
    "template_13 = CurveUtils.load_template(\"tests/female_4_body.obj\")[0]\n",
    "\n",
    "# body_82 = CurveUtils.load_mesh(\"tests/female_4_body_82.obj\")\n",
    "# template_82 = CurveUtils.load_template(\"tests/female_4_body_82.obj\")[0]\n",
    "\n",
    "# body_330 = CurveUtils.load_mesh(\"tests/female_4_body_330.obj\")\n",
    "# template_330 = CurveUtils.load_template(\"tests/female_4_body_330.obj\")[0]\n",
    "\n",
    "# body_1322 = CurveUtils.load_mesh(\"tests/female_4_body_1322.obj\")\n",
    "# template_1322 = CurveUtils.load_template(\"tests/female_4_body_1322.obj\")[0]\n",
    "\n",
    "bodies = [\n",
    "    (body_13.to(device) , template_13.to(device), \"13k\"),\n",
    "    # (body_82.to(device) , template_82.to(device), \"82k\"),\n",
    "    # (body_330.to(device), template_330.to(device), \"330k\"),\n",
    "    # (body_1322.to(device), template_1322.to(device),\"1M\")\n",
    "]"
   ]
  },
  {
   "cell_type": "code",
   "execution_count": 6,
   "metadata": {},
   "outputs": [
    {
     "data": {
      "text/plain": [
       "{'female': neck_girth           357.052\n",
       " bust_chest_girth    1071.830\n",
       " waist_girth          991.659\n",
       " hip_girth           1156.170\n",
       " upper_arm_girth      355.569\n",
       " thigh_girth          659.437\n",
       " stature             1620.000\n",
       " crotch_length        775.397\n",
       " shoulder_width       398.429\n",
       " Name: IEEEP2_07, dtype: float64,\n",
       " 'male': neck_girth           404.586\n",
       " bust_chest_girth    1102.610\n",
       " waist_girth          964.188\n",
       " hip_girth           1081.650\n",
       " upper_arm_girth      330.421\n",
       " thigh_girth          647.553\n",
       " stature             1790.000\n",
       " crotch_length        784.841\n",
       " shoulder_width       469.971\n",
       " Name: IEEEP2_04, dtype: float64}"
      ]
     },
     "execution_count": 6,
     "metadata": {},
     "output_type": "execute_result"
    }
   ],
   "source": [
    "selected_measures"
   ]
  },
  {
   "cell_type": "code",
   "execution_count": 7,
   "metadata": {},
   "outputs": [
    {
     "name": "stdout",
     "output_type": "stream",
     "text": [
      "calculating body: 13k\n",
      "     original    measured  error(mm)\n",
      "0   35.705200   35.704773   0.004272\n",
      "1  107.182999  107.329384   1.463852\n",
      "2   99.165901   99.164696   0.012054\n",
      "3  115.617004  115.025162   5.918427\n",
      "4   35.556900   35.690845   1.339455\n",
      "5   65.943703   65.977676   0.339737\n",
      "6  162.000000  162.018723   0.187225\n"
     ]
    }
   ],
   "source": [
    "best_curves = tc.load(f'data/female_best_curves.zip')\n",
    "\n",
    "for bodyset in bodies:\n",
    "\n",
    "    print(f\"calculating body: {bodyset[2]}\")\n",
    "    body = bodyset[0]\n",
    "    template = bodyset[1]\n",
    "    measures = selected_measures['female']\n",
    "    result = CurveUtils.get_curves(body, selected_measures['female'], template, device)\n",
    "    best_curves, data = CurveUtils.select_better(result, body, body, template, measures, device)\n",
    "    print(data[:-1])\n",
    "\n",
    "    # try:\n",
    "    #     all_positions = []\n",
    "    #     for curve in best_curves:\n",
    "    #         position = CurveUtils.generate_positions(curve, body)\n",
    "    #         position, measures = CurveUtils.ray_polygon_colision(body[template], position)\n",
    "    #         all_positions.extend(position)\n",
    "    #     all_positions = tc.row_stack(all_positions)\n",
    "    #     CurveUtils.save_obj(\"teste.obj\", all_positions.cpu().numpy())\n",
    "    # except Exception as e:\n",
    "    #     print(e)"
   ]
  },
  {
   "cell_type": "code",
   "execution_count": null,
   "metadata": {},
   "outputs": [],
   "source": []
  }
 ],
 "metadata": {
  "kernelspec": {
   "display_name": "Python 3 (ipykernel)",
   "language": "python",
   "name": "python3"
  },
  "language_info": {
   "codemirror_mode": {
    "name": "ipython",
    "version": 3
   },
   "file_extension": ".py",
   "mimetype": "text/x-python",
   "name": "python",
   "nbconvert_exporter": "python",
   "pygments_lexer": "ipython3",
   "version": "3.10.6"
  },
  "vscode": {
   "interpreter": {
    "hash": "916dbcbb3f70747c44a77c7bcd40155683ae19c65e1c03b4aa3499c5328201f1"
   }
  }
 },
 "nbformat": 4,
 "nbformat_minor": 4
}
